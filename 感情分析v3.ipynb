{
 "cells": [
  {
   "attachments": {},
   "cell_type": "markdown",
   "metadata": {},
   "source": [
    "# 感情分析v3\n",
    "\n",
    "ロジット値でスコア取得してみる．"
   ]
  },
  {
   "cell_type": "code",
   "execution_count": 2,
   "metadata": {},
   "outputs": [],
   "source": [
    "import os\n",
    "import sys\n",
    "import glob\n",
    "import shutil\n",
    "import numpy as np\n",
    "from tqdm import tqdm\n",
    "import pandas as pd\n",
    "from pathlib import Path\n",
    "import japanize_matplotlib\n",
    "import matplotlib.pyplot as plt"
   ]
  },
  {
   "cell_type": "code",
   "execution_count": 3,
   "metadata": {},
   "outputs": [
    {
     "name": "stdout",
     "output_type": "stream",
     "text": [
      "Not google_colab\n"
     ]
    }
   ],
   "source": [
    "# Goole Colab環境か判断\n",
    "# ローカル環境とColabo環境の両方で動作させたい(そのうち使う予定)\n",
    "moduleList = sys.modules\n",
    "ENV_COLAB = False\n",
    "if 'google.colab' in moduleList:\n",
    "    print(\"google_colab\")\n",
    "    ENV_COLAB = True\n",
    "else:\n",
    "    print(\"Not google_colab\")\n",
    "if ENV_COLAB:\n",
    "    print(\"Execute in google_colab\")"
   ]
  },
  {
   "attachments": {},
   "cell_type": "markdown",
   "metadata": {},
   "source": [
    "## モデル取得"
   ]
  },
  {
   "cell_type": "code",
   "execution_count": 4,
   "metadata": {},
   "outputs": [],
   "source": [
    "from transformers import AutoTokenizer, AutoModelForSequenceClassification\n",
    "from transformers import pipeline\n",
    "import torch\n",
    "import torch.nn.functional as F"
   ]
  },
  {
   "cell_type": "code",
   "execution_count": 5,
   "metadata": {},
   "outputs": [],
   "source": [
    "from library import tool\n",
    "from library import preprocess\n",
    "from library import score"
   ]
  },
  {
   "cell_type": "code",
   "execution_count": 6,
   "metadata": {},
   "outputs": [
    {
     "name": "stdout",
     "output_type": "stream",
     "text": [
      "gpu is available\n"
     ]
    }
   ],
   "source": [
    "# GPUチェック\n",
    "tool.is_cuda_available()"
   ]
  },
  {
   "cell_type": "code",
   "execution_count": 7,
   "metadata": {},
   "outputs": [
    {
     "data": {
      "text/plain": [
       "[pattern1]\n",
       "tokenizer = \"koheiduck/bert-japanese-finetuned-sentiment\"\n",
       "model = \"koheiduck/bert-japanese-finetuned-sentiment\"\n",
       "score_folder = \"koheiduck_bert-japanese-finetuned-sentiment\"\n",
       "\n",
       "[pattern2]\n",
       "tokenizer = \"A-Funakoshi/bert-multilingual-sentiments-base\"\n",
       "model = \"A-Funakoshi/bert-multilingual-sentiments-base\"\n",
       "score_folder = \"bert-multilingual-sentiments-base\"\n",
       "\n",
       "[pattern3]\n",
       "tokenizer = \"A-Funakoshi/bert-finetuned-multilingual-sentiments-adamw\"\n",
       "model = \"A-Funakoshi/bert-finetuned-multilingual-sentiments-adamw\"\n",
       "score_folder = \"bert-finetuned-multilingual-sentiments-adamw\"\n",
       "\n",
       "[pattern4]\n",
       "tokenizer = \"A-Funakoshi/bert-wrime-base\"\n",
       "model = \"A-Funakoshi/bert-wrime-base\"\n",
       "score_folder = \"bert-wrime-base\"\n",
       "\n",
       "[pattern5]\n",
       "tokenizer = \"A-Funakoshi/bert-base-japanese-v3-wrime-v2\"\n",
       "model = \"A-Funakoshi/bert-base-japanese-v3-wrime-v2\"\n",
       "score_folder = \"bert-base-japanese-v3-wrime-v2\""
      ]
     },
     "execution_count": 7,
     "metadata": {},
     "output_type": "execute_result"
    }
   ],
   "source": [
    "# 設定ファイルを読み込み\n",
    "model_settings = tool.ReadModelTokenizerTome('./settings/model_tokenizer.toml')\n",
    "model_settings"
   ]
  },
  {
   "cell_type": "code",
   "execution_count": 8,
   "metadata": {},
   "outputs": [
    {
     "name": "stdout",
     "output_type": "stream",
     "text": [
      "tokenizer:koheiduck/bert-japanese-finetuned-sentiment\n",
      "model:koheiduck/bert-japanese-finetuned-sentiment\n",
      "score_folder:koheiduck_bert-japanese-finetuned-sentiment\n"
     ]
    }
   ],
   "source": [
    "# モデルやトークナイザーの名称を定義\n",
    "PATTERN = 'pattern1'\n",
    "\n",
    "model_settings.read(PATTERN)\n",
    "print(model_settings.get_str())"
   ]
  },
  {
   "cell_type": "code",
   "execution_count": 9,
   "metadata": {},
   "outputs": [
    {
     "name": "stderr",
     "output_type": "stream",
     "text": [
      "/usr/local/lib/python3.8/dist-packages/torch/nn/modules/module.py:1383: UserWarning: positional arguments and argument \"destination\" are deprecated. nn.Module.state_dict will not accept them in the future. Refer to https://pytorch.org/docs/master/generated/torch.nn.Module.html#torch.nn.Module.state_dict for details.\n",
      "  warnings.warn(\n"
     ]
    }
   ],
   "source": [
    "tokenizer = AutoTokenizer.from_pretrained(model_settings.tokenizer)\n",
    "model = AutoModelForSequenceClassification.from_pretrained(model_settings.model)"
   ]
  },
  {
   "attachments": {},
   "cell_type": "markdown",
   "metadata": {},
   "source": [
    "### 動作確認"
   ]
  },
  {
   "cell_type": "markdown",
   "metadata": {},
   "source": [
    "0: NEUTRAL, 1: NEGATIVE, 2: POSITIVE"
   ]
  },
  {
   "cell_type": "code",
   "execution_count": 22,
   "metadata": {},
   "outputs": [
    {
     "name": "stdout",
     "output_type": "stream",
     "text": [
      "[{'label': 'POSITIVE', 'score': 0.9896088242530823}]\n",
      "[{'label': 'NEUTRAL', 'score': 0.9275946021080017}]\n",
      "[{'label': 'NEGATIVE', 'score': 0.9918387532234192}]\n"
     ]
    }
   ],
   "source": [
    "# 動作確認\n",
    "cls = pipeline('sentiment-analysis',model=model,tokenizer=tokenizer)\n",
    "print(cls(\"私はとっても幸せ\"))\n",
    "print(cls('吾輩は猫である'))\n",
    "print(cls(\"私はとっても不幸\"))"
   ]
  },
  {
   "cell_type": "code",
   "execution_count": 23,
   "metadata": {},
   "outputs": [
    {
     "data": {
      "text/plain": [
       "['私', 'は', 'とっ', '##て', '##も', '幸せ']"
      ]
     },
     "execution_count": 23,
     "metadata": {},
     "output_type": "execute_result"
    }
   ],
   "source": [
    "# pipelineを使わないで動作確認\n",
    "happy_text = '私はとっても幸せ'\n",
    "happy_text_tokenize = tokenizer.tokenize(happy_text) # tokenize\n",
    "happy_text_tokenize"
   ]
  },
  {
   "cell_type": "code",
   "execution_count": 24,
   "metadata": {},
   "outputs": [
    {
     "data": {
      "text/plain": [
       "[2, 1325, 9, 3952, 28456, 28480, 13215, 3]"
      ]
     },
     "execution_count": 24,
     "metadata": {},
     "output_type": "execute_result"
    }
   ],
   "source": [
    "happy_text_encode = tokenizer.encode(happy_text_tokenize) # encode\n",
    "happy_text_encode"
   ]
  },
  {
   "cell_type": "code",
   "execution_count": 25,
   "metadata": {},
   "outputs": [
    {
     "data": {
      "text/plain": [
       "'[CLS] 私 は とっても 幸せ [SEP]'"
      ]
     },
     "execution_count": 25,
     "metadata": {},
     "output_type": "execute_result"
    }
   ],
   "source": [
    "tokenizer.decode(happy_text_encode) # decode"
   ]
  },
  {
   "cell_type": "code",
   "execution_count": 26,
   "metadata": {},
   "outputs": [
    {
     "name": "stdout",
     "output_type": "stream",
     "text": [
      "torch.Size([8])\n",
      "torch.Size([1, 8])\n"
     ]
    }
   ],
   "source": [
    "# unsqueeze調査\n",
    "print(torch.LongTensor(happy_text_encode).shape)  # long型のtensorに変換\n",
    "# -> 0番目に次元を追加するということ\n",
    "print(torch.LongTensor(happy_text_encode).unsqueeze(0).shape) # 上+unsqueeze(0)"
   ]
  },
  {
   "cell_type": "code",
   "execution_count": 27,
   "metadata": {},
   "outputs": [
    {
     "data": {
      "text/plain": [
       "tensor([[    2,  1325,     9,  3952, 28456, 28480, 13215,     3]])"
      ]
     },
     "execution_count": 27,
     "metadata": {},
     "output_type": "execute_result"
    }
   ],
   "source": [
    "# Long型のtensorに変換し軸を追加\n",
    "happy_text_torch = torch.LongTensor(happy_text_encode).unsqueeze(0)\n",
    "happy_text_torch"
   ]
  },
  {
   "cell_type": "code",
   "execution_count": 28,
   "metadata": {},
   "outputs": [
    {
     "name": "stdout",
     "output_type": "stream",
     "text": [
      "tensor([[-1.3571, -2.2783,  3.5343]], grad_fn=<AddmmBackward0>)\n",
      "tensor([[0.0074, 0.0030, 0.9896]], grad_fn=<SoftmaxBackward0>)\n",
      "tensor(2)\n"
     ]
    }
   ],
   "source": [
    "happy_text_output = model(happy_text_torch) # モデルに渡し結果を取得\n",
    "print(happy_text_output.logits) # Logit値を表示\n",
    "happy_text_softmax = F.softmax(happy_text_output.logits, dim=1) # Logit値からSoftmax\n",
    "print(happy_text_softmax)\n",
    "print(torch.argmax(happy_text_softmax)) # softmaxのargmax"
   ]
  },
  {
   "attachments": {},
   "cell_type": "markdown",
   "metadata": {},
   "source": [
    "### ロジット取得"
   ]
  },
  {
   "cell_type": "markdown",
   "metadata": {},
   "source": [
    "以下のサイトに掲載されていたコード\n",
    "\n",
    "https://www.ai-shift.co.jp/techblog/2138"
   ]
  },
  {
   "cell_type": "code",
   "execution_count": 29,
   "metadata": {},
   "outputs": [],
   "source": [
    "def cut_head_and_tail(text, tokenizer, max_len):\n",
    "    # まずは限界を設定せずにトークナイズする\n",
    "    input_ids = tokenizer.encode(text)\n",
    "    n_token = len(input_ids)\n",
    "\n",
    "    # トークン数が最大数と同じ場合\n",
    "    if n_token == max_len:\n",
    "        input_ids = input_ids\n",
    "        attention_mask = [1 for _ in range(max_len)]\n",
    "        token_type_ids = [1 for _ in range(max_len)]\n",
    "    # トークン数が最大数より少ない場合\n",
    "    elif n_token < max_len:\n",
    "        pad = [1 for _ in range(max_len-n_token)]\n",
    "        input_ids = input_ids + pad\n",
    "        attention_mask = [1 if n_token > i else 0 for i in range(max_len)]\n",
    "        token_type_ids = [1 if n_token > i else 0 for i in range(max_len)]\n",
    "    # トークン数が最大数より多い場合\n",
    "    else:\n",
    "        harf_len = (max_len-2)//2\n",
    "        _input_ids = input_ids[1:-1]\n",
    "        input_ids = [0]+ _input_ids[:harf_len] + _input_ids[-harf_len:] + [2]\n",
    "        attention_mask = [1 for _ in range(max_len)]\n",
    "        token_type_ids = [1 for _ in range(max_len)]\n",
    "\n",
    "    d = {\n",
    "        \"input_ids\": torch.tensor(input_ids, dtype=torch.long),\n",
    "        \"attention_mask\": torch.tensor(attention_mask, dtype=torch.long),\n",
    "        \"token_type_ids\": torch.tensor(token_type_ids, dtype=torch.long),\n",
    "    }\n",
    "    \n",
    "    return d"
   ]
  },
  {
   "cell_type": "code",
   "execution_count": 10,
   "metadata": {},
   "outputs": [],
   "source": [
    "x_train = [\n",
    "    '私はとっても幸せ', \n",
    "    '私はとっても不幸',\n",
    "    '寿限無寿限無五劫のすり切れ海砂利水魚の水行末雲来末風来末食う寝るところに住むところやぶら小路のぶら小路パイポパイポパイポのシューリンガンシューリンガンのグーリンダイグーリンダイのポンポコピーのポンポコナの長久命の長助'\n",
    "]"
   ]
  },
  {
   "cell_type": "code",
   "execution_count": 31,
   "metadata": {},
   "outputs": [
    {
     "name": "stderr",
     "output_type": "stream",
     "text": [
      "Token indices sequence length is longer than the specified maximum sequence length for this model (782 > 512). Running this sequence through the model will result in indexing errors\n"
     ]
    },
    {
     "data": {
      "text/plain": [
       "782"
      ]
     },
     "execution_count": 31,
     "metadata": {},
     "output_type": "execute_result"
    }
   ],
   "source": [
    "# 長ーい文字列\n",
    "len(tokenizer.encode(x_train[2]*10))"
   ]
  },
  {
   "cell_type": "code",
   "execution_count": 32,
   "metadata": {},
   "outputs": [
    {
     "data": {
      "text/plain": [
       "512"
      ]
     },
     "execution_count": 32,
     "metadata": {},
     "output_type": "execute_result"
    }
   ],
   "source": [
    "# 長い文字列でも512で返してくれる\n",
    "d = cut_head_and_tail(x_train[2]*10, tokenizer, 512)\n",
    "len(d['input_ids'])"
   ]
  },
  {
   "cell_type": "code",
   "execution_count": 33,
   "metadata": {},
   "outputs": [
    {
     "data": {
      "text/plain": [
       "torch.Size([512])"
      ]
     },
     "execution_count": 33,
     "metadata": {},
     "output_type": "execute_result"
    }
   ],
   "source": [
    "# tokenizer自体にtrauncate用パラメータがあった\n",
    "# https://huggingface.co/docs/transformers/pad_truncation\n",
    "tmp = tokenizer(x_train[2]*10 , padding=True, truncation=True, return_tensors='pt')\n",
    "tmp.input_ids[0].shape"
   ]
  },
  {
   "cell_type": "code",
   "execution_count": 34,
   "metadata": {},
   "outputs": [
    {
     "data": {
      "text/plain": [
       "(torch.Size([1, 512]), torch.Size([1, 512]), torch.Size([1, 512]))"
      ]
     },
     "execution_count": 34,
     "metadata": {},
     "output_type": "execute_result"
    }
   ],
   "source": [
    "tokenize_text = tokenizer(x_train[2]*10, padding=True, truncation=True, return_tensors='pt')\n",
    "tokenize_text['input_ids'].shape, tokenize_text['token_type_ids'].shape, tokenize_text['attention_mask'].shape"
   ]
  },
  {
   "cell_type": "code",
   "execution_count": 35,
   "metadata": {},
   "outputs": [
    {
     "name": "stdout",
     "output_type": "stream",
     "text": [
      "tensor([[ 0.3961, -1.1681,  0.4048]], grad_fn=<AddmmBackward0>)\n",
      "tensor([[0.4509, 0.0943, 0.4548]], grad_fn=<SoftmaxBackward0>)\n",
      "tensor(2)\n"
     ]
    }
   ],
   "source": [
    "# トークン数が512を超える場合は512までを対象とする\n",
    "token = tokenizer(x_train[2]*10, padding=True, truncation=True, return_tensors='pt')\n",
    "output = model(token['input_ids'], attention_mask=token['attention_mask']) # モデルに渡し結果を取得\n",
    "print(output.logits) # Logit値を表示\n",
    "tensor_text_softmax = F.softmax(output.logits, dim=1) # Logit値からSoftmax\n",
    "print(tensor_text_softmax)\n",
    "print(torch.argmax(tensor_text_softmax)) # softmaxのargmax"
   ]
  },
  {
   "cell_type": "code",
   "execution_count": 36,
   "metadata": {},
   "outputs": [
    {
     "data": {
      "text/plain": [
       "{0: 'NEUTRAL', 1: 'NEGATIVE', 2: 'POSITIVE'}"
      ]
     },
     "execution_count": 36,
     "metadata": {},
     "output_type": "execute_result"
    }
   ],
   "source": [
    "model.config.id2label"
   ]
  },
  {
   "cell_type": "code",
   "execution_count": 37,
   "metadata": {},
   "outputs": [
    {
     "name": "stdout",
     "output_type": "stream",
     "text": [
      "outputs: \n",
      " SequenceClassifierOutput(loss=None, logits=tensor([[-1.3571, -2.2783,  3.5343],\n",
      "        [-1.9614,  3.5475, -1.9304],\n",
      "        [ 1.1310, -2.0258,  0.6777]]), hidden_states=None, attentions=None) \n",
      "\n",
      "logits: \n",
      " [[-1.3570831  -2.2782884   3.5343397 ]\n",
      " [-1.9613894   3.5475335  -1.9304135 ]\n",
      " [ 1.1310323  -2.0257921   0.67768466]] \n",
      "\n",
      "predictions: \n",
      " tensor([[0.0074, 0.0030, 0.9896],\n",
      "        [0.0040, 0.9918, 0.0041],\n",
      "        [0.5959, 0.0254, 0.3787]]) \n",
      "\n",
      "prediction: \n",
      " tensor([2, 1, 0]) \n",
      "\n",
      "logit value:[3.5343397 3.5475335 1.1310323], logit index: [2 1 0]\n",
      "prediction value: torch.return_types.max(\n",
      "values=tensor([0.9896, 0.9918, 0.5959]),\n",
      "indices=tensor([2, 1, 0])), prediction index: tensor([2, 1, 0])\n"
     ]
    }
   ],
   "source": [
    "# バッチ取得\n",
    "batch = tokenizer(x_train , padding=True, truncation=True, return_tensors='pt')\n",
    "\n",
    "# スコア取得\n",
    "with torch.no_grad():\n",
    "    # outputs = model(batch['input_ids'], attention_mask=batch['attention_mask'])\n",
    "    outputs = model(**batch)\n",
    "    print('outputs: \\n',outputs,'\\n')\n",
    "    predictions = F.softmax(outputs.logits, dim=1)\n",
    "    print('logits: \\n',outputs.logits.numpy(),'\\n')\n",
    "    print('predictions: \\n',predictions,'\\n')\n",
    "    pred = torch.argmax(predictions, dim=1)\n",
    "    print('prediction: \\n', pred,'\\n')\n",
    "\n",
    "labels = torch.max(outputs.logits, dim=1)\n",
    "# print(labels)\n",
    "\n",
    "print(f'logit value:{labels.values.numpy()}, logit index: {labels.indices.numpy()}')\n",
    "print(f'prediction value: {torch.max(predictions, axis=1)}, prediction index: {torch.argmax(predictions, axis=1)}')"
   ]
  },
  {
   "cell_type": "code",
   "execution_count": 38,
   "metadata": {},
   "outputs": [
    {
     "data": {
      "text/plain": [
       "tensor([-1.3571, -2.2783,  3.5343])"
      ]
     },
     "execution_count": 38,
     "metadata": {},
     "output_type": "execute_result"
    }
   ],
   "source": [
    "outputs.logits[0]"
   ]
  },
  {
   "cell_type": "code",
   "execution_count": 39,
   "metadata": {},
   "outputs": [
    {
     "data": {
      "text/plain": [
       "[array([0.00743268, 0.0029585 , 0.98960876], dtype=float32),\n",
       " array([0.00401741, 0.99183875, 0.0041438 ], dtype=float32),\n",
       " array([0.595927  , 0.02536306, 0.3787099 ], dtype=float32)]"
      ]
     },
     "execution_count": 39,
     "metadata": {},
     "output_type": "execute_result"
    }
   ],
   "source": [
    "# SoftMax確認\n",
    "[np.exp(logit)/np.exp(logit).sum() for logit in outputs.logits.numpy()]\n",
    "# np.exp(outputs.logits[0].numpy())/np.exp(outputs.logits[0].numpy()).sum()"
   ]
  },
  {
   "attachments": {},
   "cell_type": "markdown",
   "metadata": {},
   "source": [
    "## 小説のテキストで確認"
   ]
  },
  {
   "cell_type": "code",
   "execution_count": 14,
   "metadata": {},
   "outputs": [],
   "source": [
    "# 定数定義\n",
    "file_path = 'data/cards/001044/files/edit/4880_ruby_13757.txt'\n",
    "force = False\n",
    "save_score=True"
   ]
  },
  {
   "cell_type": "code",
   "execution_count": 41,
   "metadata": {},
   "outputs": [
    {
     "data": {
      "text/html": [
       "<div>\n",
       "<style scoped>\n",
       "    .dataframe tbody tr th:only-of-type {\n",
       "        vertical-align: middle;\n",
       "    }\n",
       "\n",
       "    .dataframe tbody tr th {\n",
       "        vertical-align: top;\n",
       "    }\n",
       "\n",
       "    .dataframe thead th {\n",
       "        text-align: right;\n",
       "    }\n",
       "</style>\n",
       "<table border=\"1\" class=\"dataframe\">\n",
       "  <thead>\n",
       "    <tr style=\"text-align: right;\">\n",
       "      <th></th>\n",
       "      <th>text</th>\n",
       "    </tr>\n",
       "  </thead>\n",
       "  <tbody>\n",
       "    <tr>\n",
       "      <th>0</th>\n",
       "      <td>ネルロとパトラッシュ――この二人はさびしい身の上同志でした。</td>\n",
       "    </tr>\n",
       "    <tr>\n",
       "      <th>1</th>\n",
       "      <td>ふたりともこの世に頼るものなく取り残されたひとりぼっち同志ですから、その仲のいいことは言うま...</td>\n",
       "    </tr>\n",
       "    <tr>\n",
       "      <th>2</th>\n",
       "      <td>いや、「仲がいい」くらいな言葉では言いあらわせません。</td>\n",
       "    </tr>\n",
       "    <tr>\n",
       "      <th>3</th>\n",
       "      <td>兄弟でもこれほど愛し合っている者はまずないでしょう。</td>\n",
       "    </tr>\n",
       "    <tr>\n",
       "      <th>4</th>\n",
       "      <td>ほんとにこれ以上の親しさはかんがえられないほどの間柄でした。</td>\n",
       "    </tr>\n",
       "  </tbody>\n",
       "</table>\n",
       "</div>"
      ],
      "text/plain": [
       "                                                text\n",
       "0                     ネルロとパトラッシュ――この二人はさびしい身の上同志でした。\n",
       "1  ふたりともこの世に頼るものなく取り残されたひとりぼっち同志ですから、その仲のいいことは言うま...\n",
       "2                        いや、「仲がいい」くらいな言葉では言いあらわせません。\n",
       "3                         兄弟でもこれほど愛し合っている者はまずないでしょう。\n",
       "4                     ほんとにこれ以上の親しさはかんがえられないほどの間柄でした。"
      ]
     },
     "execution_count": 41,
     "metadata": {},
     "output_type": "execute_result"
    }
   ],
   "source": [
    "pd.read_csv(file_path).head()"
   ]
  },
  {
   "cell_type": "code",
   "execution_count": 42,
   "metadata": {},
   "outputs": [
    {
     "data": {
      "text/plain": [
       "['私はとっても幸せ', '私はとっても不幸']"
      ]
     },
     "execution_count": 42,
     "metadata": {},
     "output_type": "execute_result"
    }
   ],
   "source": [
    "x_train[:2]"
   ]
  },
  {
   "cell_type": "code",
   "execution_count": 43,
   "metadata": {},
   "outputs": [
    {
     "name": "stdout",
     "output_type": "stream",
     "text": [
      "tensor([[    2,  1325,     9,  3952, 28456, 28480, 13215,     3],\n",
      "        [    2,  1325,     9,  3952, 28456, 28480, 16018,     3]])\n"
     ]
    },
    {
     "name": "stdout",
     "output_type": "stream",
     "text": [
      "results: \n",
      " SequenceClassifierOutput(loss=None, logits=tensor([[-1.3571, -2.2783,  3.5343],\n",
      "        [-1.9614,  3.5475, -1.9304]]), hidden_states=None, attentions=None) \n",
      "\n",
      "predictions: \n",
      " tensor([[0.0074, 0.0030, 0.9896],\n",
      "        [0.0040, 0.9918, 0.0041]]) \n",
      "\n",
      "max(predictions): \n",
      " [0.9896088  0.99183875] \n",
      "\n",
      "values: \n",
      " [3.5343394 3.5475335] \n",
      "\n",
      "indices: \n",
      " [2 1] \n",
      "\n",
      "coef: [0, -1, 1]\n",
      "value * coef: [ 3.53433943 -3.54753351]\n",
      "pred * coef: [ 0.98960882 -0.99183875]\n"
     ]
    }
   ],
   "source": [
    "batch = tokenizer(x_train[:2], padding=True, truncation=True, return_tensors='pt')\n",
    "print(batch['input_ids'])\n",
    "with torch.no_grad():\n",
    "    results = model(batch['input_ids'], attention_mask=batch['attention_mask'])\n",
    "    print('results: \\n',results,'\\n')\n",
    "    predictions = F.softmax(results.logits, dim=1)\n",
    "    print('predictions: \\n',predictions,'\\n')\n",
    "    pred_max = torch.max(predictions, dim=1).values.numpy()\n",
    "    print('max(predictions): \\n', pred_max, '\\n')\n",
    "    labels = torch.max(results.logits, dim=1)\n",
    "    values = labels.values.numpy()\n",
    "    indices = labels.indices.numpy()\n",
    "    print('values: \\n', values, '\\n')\n",
    "    print('indices: \\n', indices, '\\n')\n",
    "    # value = label.values.item()\n",
    "    # index = label.indices.item()\n",
    "\n",
    "coef_array = [0, -1, 1]\n",
    "print('coef:', coef_array)\n",
    "\n",
    "# print([coef_array[i] for i in indices])\n",
    "logit_values = values * [coef_array[i] for i in indices]\n",
    "print('value * coef:', logit_values)\n",
    "pred_values = pred_max * [coef_array[i] for i in indices]\n",
    "print('pred * coef:', pred_values)\n",
    "\n",
    "# print(torch.max(predictions, dim=1).values.numpy())\n",
    "# pred_value = torch.max(prediction).item() * coef_array[index]\n",
    "\n",
    "# for i, id  in enumerate(indices):\n",
    "#     print(i, values[i] * coef_array[id])"
   ]
  },
  {
   "cell_type": "code",
   "execution_count": 11,
   "metadata": {},
   "outputs": [],
   "source": [
    "# スコア取得関数（バッチ版）\n",
    "\"\"\"\n",
    "Arg:\n",
    "    texts: texts(some line)\n",
    "Returns:\n",
    "    max logit (array)\n",
    "    max prediction (array)\n",
    "\"\"\"\n",
    "def get_scores(texts):\n",
    "    # 0: NEUTRAL  -> 0\n",
    "    # 1: NEGATIVE -> -1\n",
    "    # 2: POSITIVE -> 1\n",
    "    coef_array = [0, -1, 1]\n",
    "    \n",
    "    batch = tokenizer(texts, padding=True, truncation=True, return_tensors='pt')\n",
    "    with torch.no_grad():\n",
    "        # forward\n",
    "        outputs = model(batch['input_ids'], attention_mask=batch['attention_mask'])\n",
    "        # softmax, 予測値\n",
    "        predictions = F.softmax(outputs.logits, dim=1)\n",
    "        pred_max = torch.max(predictions, dim=1).values.numpy()\n",
    "        # logit\n",
    "        labels = torch.max(outputs.logits, dim=1)\n",
    "        values = labels.values.numpy()    # max logit\n",
    "        indices = labels.indices.numpy()  # max index\n",
    "    \n",
    "    logit_values = np.abs(values) * [coef_array[i] for i in indices]\n",
    "    pred_values = pred_max * [coef_array[i] for i in indices]\n",
    "    \n",
    "    return logit_values, pred_values"
   ]
  },
  {
   "cell_type": "code",
   "execution_count": 12,
   "metadata": {},
   "outputs": [],
   "source": [
    "# スコア取得関数（テキスト版）\n",
    "\"\"\"\n",
    "Arg:\n",
    "    text: text(one line)\n",
    "Returns:\n",
    "    max logit\n",
    "    max prediction\n",
    "\"\"\"\n",
    "def get_score(text):\n",
    "    # 0: NEUTRAL  -> 0\n",
    "    # 1: NEGATIVE -> -1\n",
    "    # 2: POSITIVE -> 1\n",
    "    coef_array = [0, -1, 1]\n",
    "    # text: 文字列型を想定\n",
    "    batch = tokenizer(text, padding=True, truncation=True, return_tensors='pt')\n",
    "\n",
    "    with torch.no_grad():\n",
    "        output = model(batch['input_ids'], attention_mask=batch['attention_mask'])\n",
    "        prediction = F.softmax(output.logits, dim=1)\n",
    "        label = torch.max(output.logits, dim=1)\n",
    "        value = label.values.item()\n",
    "        index = label.indices.item()\n",
    "    logit_value = np.abs(value) * coef_array[index]\n",
    "    pred_value = torch.max(prediction).item() * coef_array[index]\n",
    "    return logit_value, pred_value"
   ]
  },
  {
   "cell_type": "code",
   "execution_count": 46,
   "metadata": {},
   "outputs": [
    {
     "name": "stdout",
     "output_type": "stream",
     "text": [
      "[3.53433895] [0.98960882]\n",
      "[-3.54753304] [-0.99183875]\n"
     ]
    }
   ],
   "source": [
    "# 動作確認(テキスト版)\n",
    "logit, pred = get_scores('私はとっても幸せ')\n",
    "print(logit, pred)\n",
    "logit, pred = get_scores('私はとっても不幸')\n",
    "print(logit, pred)"
   ]
  },
  {
   "cell_type": "code",
   "execution_count": 47,
   "metadata": {},
   "outputs": [
    {
     "data": {
      "text/plain": [
       "(array([ 3.53433943, -3.54753351]), array([ 0.98960882, -0.99183875]))"
      ]
     },
     "execution_count": 47,
     "metadata": {},
     "output_type": "execute_result"
    }
   ],
   "source": [
    "# 動作確認(バッチ版)\n",
    "get_scores(x_train[:2])"
   ]
  },
  {
   "cell_type": "code",
   "execution_count": 48,
   "metadata": {},
   "outputs": [
    {
     "name": "stdout",
     "output_type": "stream",
     "text": [
      "CPU times: user 5min 55s, sys: 1min 2s, total: 6min 57s\n",
      "Wall time: 43.7 s\n"
     ]
    },
    {
     "data": {
      "text/html": [
       "<div>\n",
       "<style scoped>\n",
       "    .dataframe tbody tr th:only-of-type {\n",
       "        vertical-align: middle;\n",
       "    }\n",
       "\n",
       "    .dataframe tbody tr th {\n",
       "        vertical-align: top;\n",
       "    }\n",
       "\n",
       "    .dataframe thead th {\n",
       "        text-align: right;\n",
       "    }\n",
       "</style>\n",
       "<table border=\"1\" class=\"dataframe\">\n",
       "  <thead>\n",
       "    <tr style=\"text-align: right;\">\n",
       "      <th></th>\n",
       "      <th>text</th>\n",
       "      <th>logit_score</th>\n",
       "      <th>pred_score</th>\n",
       "    </tr>\n",
       "  </thead>\n",
       "  <tbody>\n",
       "    <tr>\n",
       "      <th>0</th>\n",
       "      <td>ネルロとパトラッシュ――この二人はさびしい身の上同志でした。</td>\n",
       "      <td>1.140868</td>\n",
       "      <td>0.527404</td>\n",
       "    </tr>\n",
       "    <tr>\n",
       "      <th>1</th>\n",
       "      <td>ふたりともこの世に頼るものなく取り残されたひとりぼっち同志ですから、その仲のいいことは言うま...</td>\n",
       "      <td>0.590121</td>\n",
       "      <td>0.580861</td>\n",
       "    </tr>\n",
       "    <tr>\n",
       "      <th>2</th>\n",
       "      <td>いや、「仲がいい」くらいな言葉では言いあらわせません。</td>\n",
       "      <td>-0.679345</td>\n",
       "      <td>-0.510203</td>\n",
       "    </tr>\n",
       "    <tr>\n",
       "      <th>3</th>\n",
       "      <td>兄弟でもこれほど愛し合っている者はまずないでしょう。</td>\n",
       "      <td>-0.395740</td>\n",
       "      <td>-0.552090</td>\n",
       "    </tr>\n",
       "    <tr>\n",
       "      <th>4</th>\n",
       "      <td>ほんとにこれ以上の親しさはかんがえられないほどの間柄でした。</td>\n",
       "      <td>1.552841</td>\n",
       "      <td>0.794932</td>\n",
       "    </tr>\n",
       "  </tbody>\n",
       "</table>\n",
       "</div>"
      ],
      "text/plain": [
       "                                                text  logit_score  pred_score\n",
       "0                     ネルロとパトラッシュ――この二人はさびしい身の上同志でした。     1.140868    0.527404\n",
       "1  ふたりともこの世に頼るものなく取り残されたひとりぼっち同志ですから、その仲のいいことは言うま...     0.590121    0.580861\n",
       "2                        いや、「仲がいい」くらいな言葉では言いあらわせません。    -0.679345   -0.510203\n",
       "3                         兄弟でもこれほど愛し合っている者はまずないでしょう。    -0.395740   -0.552090\n",
       "4                     ほんとにこれ以上の親しさはかんがえられないほどの間柄でした。     1.552841    0.794932"
      ]
     },
     "execution_count": 48,
     "metadata": {},
     "output_type": "execute_result"
    }
   ],
   "source": [
    "%%time\n",
    "# バッチ版でスコア取得し測定\n",
    "df = pd.read_csv(file_path)\n",
    "logit_scores, pred_scores = get_scores(df['text'].values.tolist())\n",
    "\n",
    "df['logit_score'] = logit_scores\n",
    "df['pred_score'] = pred_scores\n",
    "df.head()"
   ]
  },
  {
   "cell_type": "code",
   "execution_count": 15,
   "metadata": {},
   "outputs": [
    {
     "name": "stderr",
     "output_type": "stream",
     "text": [
      "  0%|          | 0/799 [00:00<?, ?it/s]"
     ]
    },
    {
     "name": "stderr",
     "output_type": "stream",
     "text": [
      "100%|██████████| 799/799 [00:18<00:00, 43.79it/s]"
     ]
    },
    {
     "name": "stdout",
     "output_type": "stream",
     "text": [
      "CPU times: user 3min 38s, sys: 63.9 ms, total: 3min 38s\n",
      "Wall time: 18.3 s\n"
     ]
    },
    {
     "name": "stderr",
     "output_type": "stream",
     "text": [
      "\n"
     ]
    },
    {
     "data": {
      "text/html": [
       "<div>\n",
       "<style scoped>\n",
       "    .dataframe tbody tr th:only-of-type {\n",
       "        vertical-align: middle;\n",
       "    }\n",
       "\n",
       "    .dataframe tbody tr th {\n",
       "        vertical-align: top;\n",
       "    }\n",
       "\n",
       "    .dataframe thead th {\n",
       "        text-align: right;\n",
       "    }\n",
       "</style>\n",
       "<table border=\"1\" class=\"dataframe\">\n",
       "  <thead>\n",
       "    <tr style=\"text-align: right;\">\n",
       "      <th></th>\n",
       "      <th>text</th>\n",
       "      <th>logit_score</th>\n",
       "      <th>pred_score</th>\n",
       "    </tr>\n",
       "  </thead>\n",
       "  <tbody>\n",
       "    <tr>\n",
       "      <th>0</th>\n",
       "      <td>ネルロとパトラッシュ――この二人はさびしい身の上同志でした。</td>\n",
       "      <td>1.140869</td>\n",
       "      <td>0.527404</td>\n",
       "    </tr>\n",
       "    <tr>\n",
       "      <th>1</th>\n",
       "      <td>ふたりともこの世に頼るものなく取り残されたひとりぼっち同志ですから、その仲のいいことは言うま...</td>\n",
       "      <td>0.590121</td>\n",
       "      <td>0.580862</td>\n",
       "    </tr>\n",
       "    <tr>\n",
       "      <th>2</th>\n",
       "      <td>いや、「仲がいい」くらいな言葉では言いあらわせません。</td>\n",
       "      <td>-0.679344</td>\n",
       "      <td>-0.510203</td>\n",
       "    </tr>\n",
       "    <tr>\n",
       "      <th>3</th>\n",
       "      <td>兄弟でもこれほど愛し合っている者はまずないでしょう。</td>\n",
       "      <td>-0.395739</td>\n",
       "      <td>-0.552090</td>\n",
       "    </tr>\n",
       "    <tr>\n",
       "      <th>4</th>\n",
       "      <td>ほんとにこれ以上の親しさはかんがえられないほどの間柄でした。</td>\n",
       "      <td>1.552842</td>\n",
       "      <td>0.794932</td>\n",
       "    </tr>\n",
       "  </tbody>\n",
       "</table>\n",
       "</div>"
      ],
      "text/plain": [
       "                                                text  logit_score  pred_score\n",
       "0                     ネルロとパトラッシュ――この二人はさびしい身の上同志でした。     1.140869    0.527404\n",
       "1  ふたりともこの世に頼るものなく取り残されたひとりぼっち同志ですから、その仲のいいことは言うま...     0.590121    0.580862\n",
       "2                        いや、「仲がいい」くらいな言葉では言いあらわせません。    -0.679344   -0.510203\n",
       "3                         兄弟でもこれほど愛し合っている者はまずないでしょう。    -0.395739   -0.552090\n",
       "4                     ほんとにこれ以上の親しさはかんがえられないほどの間柄でした。     1.552842    0.794932"
      ]
     },
     "execution_count": 15,
     "metadata": {},
     "output_type": "execute_result"
    }
   ],
   "source": [
    "%%time\n",
    "# テキスト版でスコア取得し測定\n",
    "df = pd.read_csv(file_path)\n",
    "logit_score, pred_score = [], []\n",
    "for i, text in enumerate(tqdm(df['text'])):\n",
    "    logit, pred = get_score(text)\n",
    "    logit_score.append(logit)\n",
    "    pred_score.append(pred)\n",
    "\n",
    "df['logit_score'] = logit_score\n",
    "df['pred_score'] = pred_score\n",
    "df.head()"
   ]
  },
  {
   "cell_type": "code",
   "execution_count": 16,
   "metadata": {},
   "outputs": [],
   "source": [
    "# 指定されたwindowサイズで感情スコアの平均値を取得\n",
    "def get_score_mean(scores, window_size=10, score_mean_num=100):\n",
    "    score_mean = []\n",
    "    slide = int((len(scores) - window_size - 1) / 99)\n",
    "    for n in range(score_mean_num):\n",
    "        start = slide * n\n",
    "        if n == score_mean_num - 1:\n",
    "            end = len(scores) - 1\n",
    "        else:\n",
    "            end = start + window_size\n",
    "        score_mean.append(np.mean(scores[start:end]))\n",
    "        # print(f'{n}:len(scores):{len(scores)},st:{start},ed:{end},{scores[end]}{np.array(scores)[-1]}')\n",
    "    return score_mean"
   ]
  },
  {
   "cell_type": "code",
   "execution_count": 51,
   "metadata": {},
   "outputs": [
    {
     "data": {
      "text/plain": [
       "799"
      ]
     },
     "execution_count": 51,
     "metadata": {},
     "output_type": "execute_result"
    }
   ],
   "source": [
    "df.shape[0]"
   ]
  },
  {
   "cell_type": "code",
   "execution_count": 17,
   "metadata": {},
   "outputs": [
    {
     "name": "stdout",
     "output_type": "stream",
     "text": [
      "[-0.05103267855801672, -0.1334705951172601, -0.11421878218838254, -0.11028084575942478, -0.07061004399690989, -0.10958195693275463, -0.16756234589800145, -0.22191882119426187, -0.14919996922308543, -0.13535112568979743, -0.10887508811253421, -0.058783098352405264, -0.03508851152358565, -0.0035629914897792746, 0.011303158160650506, 0.030516740145548334, 0.033552316609043745, -0.021816746056454738, -0.045839514559919727, -0.004153926604948704, 0.012312735963917378, -0.024273441460147593, -0.01605168640988428, -0.0428839181579134, -0.09463907150352525, -0.1396359625102589, -0.20320151137106074, -0.202832190495617, -0.1820466049812125, -0.23726872715560146, -0.28469320250757085, -0.2896553746559335, -0.2762362300974768, -0.27288199183326095, -0.19450635617634035, -0.15685722114717435, -0.14515609200458107, -0.10548105643792723, -0.14052402312463186, -0.21112154653799609, -0.2267290340185915, -0.27032935858335133, -0.3417422199305498, -0.3144857918597617, -0.29848419584380753, -0.30390905448288286, -0.33277158106460514, -0.29812230718023375, -0.2419025127149228, -0.24396301398299775, -0.17693681213653312, -0.19150312568219202, -0.12567976441632653, -0.19332426005048947, -0.18331966728393762, -0.17065126909259357, -0.16055114657483385, -0.138073811049825, -0.11491081030723059, -0.12370143752287394, -0.17283371415387536, -0.30796293048598106, -0.3245553478434588, -0.39496479161177417, -0.41877815550275194, -0.3441363984613486, -0.3637200870533597, -0.36992883749025046, -0.3488961434893825, -0.3214258284618457, -0.36009491531400933, -0.3903557616139545, -0.4049828434070139, -0.41999483250268976, -0.4581738927009158, -0.4877494655244943, -0.5625873214723367, -0.5915071028138295, -0.5890680552583258, -0.6089376681630716, -0.598630113374887, -0.6095528812059816, -0.6431384194853171, -0.7123883628526574, -0.7284764504563883, -0.6841438209766861, -0.6631391880178602, -0.5455863797720873, -0.47290686536697474, -0.4203216373076979, -0.3584323449985786, -0.38648342969095184, -0.3550503197237381, -0.3237740153317931, -0.33556704546483057, -0.34847328062139965, -0.3895778012631824, -0.42456201951271333, -0.4136482945309495, -0.24877415601091057]\n",
      "[-0.01603201668967241, -0.045185197636766254, -0.039518902324280646, -0.0357875923315684, -0.01820806493549227, -0.03428144518684291, -0.058622271572268986, -0.08341244537875338, -0.05848199710156183, -0.04954717444173945, -0.04189505217210302, -0.01729032153603416, -0.005842636966105527, 0.01095973920522246, 0.016765380430521455, 0.02642858590719835, 0.026110442179553914, 0.005589278426560216, -0.011844744097511723, 0.005397042388436179, 0.014921685059865316, -0.003183997277193849, 0.003209586038529498, -0.0067562541496828665, -0.03304645887710763, -0.051991443214176584, -0.07599061690036606, -0.07598576718156443, -0.07141527589761985, -0.09238986399188731, -0.11313548327991797, -0.11663571693612344, -0.11111366223989043, -0.10475032884369856, -0.07267272434894394, -0.05848270148601172, -0.05445866296126407, -0.036188297114282286, -0.05092931449788172, -0.08028491281863279, -0.08590522670895799, -0.10418395220108752, -0.12960080099555682, -0.11861702274976287, -0.11284856432638828, -0.11518037562850136, -0.12705106574034541, -0.1096049965177692, -0.08347625908611706, -0.08623891843939727, -0.0580727422387345, -0.05851170833005845, -0.023677716652552288, -0.04939393746028156, -0.04380632140351541, -0.03476558147736315, -0.030844040449310398, -0.018601735620378698, -0.00834057147397935, -0.01594544787826778, -0.028998375501272815, -0.07377175283881854, -0.07728716337455893, -0.10460652495330235, -0.11711225907007854, -0.0872389906607334, -0.10049910252948976, -0.1058404265709643, -0.10198300214683485, -0.0957010380876889, -0.11527719700111533, -0.12703406248452528, -0.1332128291609902, -0.14053773317696913, -0.15724079826342985, -0.17107373438541246, -0.19717587952343923, -0.2106295400445566, -0.21298350740528707, -0.22185732208707798, -0.2221603221113577, -0.22823717984013586, -0.244414654355379, -0.26822676954779234, -0.2774588133928911, -0.26061176522722784, -0.25612828435388, -0.21664901818119506, -0.19491794817852523, -0.17726264715944445, -0.1484215092733971, -0.159935917306996, -0.1455757143737385, -0.12753748500122214, -0.12251205320628185, -0.12717880955282249, -0.13966501921227892, -0.1513244224794256, -0.14570368198478748, -0.0840217333798315]\n"
     ]
    }
   ],
   "source": [
    "# 取得したスコア数が100になるように平均化\n",
    "window_size = int(df.shape[0] / 5)\n",
    "logit_score_mean = get_score_mean(df['logit_score'], window_size=window_size)\n",
    "pred_score_mean = get_score_mean(df['pred_score'], window_size=window_size)\n",
    "print(list(logit_score_mean))\n",
    "print(list(pred_score_mean))"
   ]
  },
  {
   "cell_type": "code",
   "execution_count": 18,
   "metadata": {},
   "outputs": [],
   "source": [
    "# スコアを0-1に規格化\n",
    "def score_normalize(scores):\n",
    "    return (scores - np.min(scores)) / (np.max(scores) - np.min(scores))"
   ]
  },
  {
   "cell_type": "code",
   "execution_count": 19,
   "metadata": {},
   "outputs": [
    {
     "name": "stdout",
     "output_type": "stream",
     "text": [
      "[0.8890002598027935, 0.780818101697777, 0.8060819942972863, 0.8112496947820367, 0.8633091490665343, 0.8121668370959175, 0.7360799602336058, 0.6647486960536629, 0.7601766577187012, 0.7783503069716288, 0.8130944514469381, 0.8788294891844672, 0.9099235736244383, 0.9512940853378097, 0.9708027315896818, 0.9960164542407165, 1.0, 0.9273399311698894, 0.895815178376138, 0.9505186092131416, 0.9721275868273058, 0.9241160431621526, 0.9349053406343795, 0.8996937673871387, 0.8317761826679677, 0.7727273738152306, 0.6893111674880175, 0.6897958222561912, 0.7170724637856831, 0.6446052229660891, 0.5823707281521981, 0.5758589370455816, 0.5934686981706553, 0.5978704194824805, 0.7007217015393833, 0.7501281500310231, 0.7654833828625265, 0.8175483931106857, 0.7715619839339629, 0.678917812920269, 0.658436319103835, 0.6012202054226358, 0.5075060775135164, 0.5432743178330419, 0.5642729949270527, 0.5571540266235772, 0.5192781250445966, 0.5647478965045448, 0.6385243691196313, 0.6358204012943615, 0.72377797552687, 0.7046628001224641, 0.7910419029998407, 0.7022729502283314, 0.7154018414184623, 0.7320264082837397, 0.7452806618687523, 0.7747773639572691, 0.805173855197088, 0.7936380345095094, 0.7291624152750683, 0.5518341802105479, 0.5300601762954791, 0.43766281964520237, 0.4064128656799697, 0.5043642295488802, 0.4786648210246748, 0.47051716216292255, 0.4981180808026016, 0.5341670020701343, 0.4834220846556934, 0.44371118710456875, 0.42451626635454487, 0.4048162369796868, 0.3547143748869297, 0.31590275241042687, 0.21769405061030647, 0.17974301438779922, 0.18294374336407707, 0.1568691202481237, 0.17039558438395797, 0.15606178452866104, 0.11198793885394562, 0.02111217882979149, 0.0, 0.05817710747381211, 0.0857412019891867, 0.24000415547120282, 0.3353804949826375, 0.40438737547322867, 0.4856038530971044, 0.4487927956872933, 0.49004203892552756, 0.5310855083373055, 0.5156096750843795, 0.4986729980002965, 0.4447320939054603, 0.3988227795048309, 0.4131447125517847, 0.6295068049632931]\n",
      "[0.8602752114939097, 0.7643410562303511, 0.7829870919841736, 0.7952656859676891, 0.8531145057495068, 0.8002219531515027, 0.7201237771774819, 0.6385469369939769, 0.7205853773327705, 0.7499871316680966, 0.7751679133894207, 0.8561345171141498, 0.8938053274086695, 0.9490967814473269, 0.9682013617578974, 1.0, 0.9989530868065699, 0.9314242461890981, 0.874054238205135, 0.9307916564911811, 0.9621343271427651, 0.9025540932180943, 0.9235934101836843, 0.8907988941518724, 0.8042859133965793, 0.7419437946358052, 0.6629698926528201, 0.6629858515863358, 0.6780259331904801, 0.6090050124725566, 0.5407375576988089, 0.5292193648936212, 0.5473907491265686, 0.5683305229074093, 0.6738880569434879, 0.720583059420111, 0.7338249330022858, 0.7939470897256705, 0.7454389336864573, 0.6488386850800242, 0.6303439600494046, 0.5701942943040369, 0.4865552594081868, 0.5226994966193764, 0.5416817197607783, 0.5340084456879353, 0.49494565420930037, 0.5523553041742474, 0.6383369457027596, 0.629245883159057, 0.7219321092596945, 0.7204876068145948, 0.8351155636095638, 0.7504913874609028, 0.7688785139743268, 0.798628809468562, 0.811533395302278, 0.8518190565607837, 0.885585392940748, 0.8605600828364005, 0.8176069111910199, 0.6702714920829315, 0.6587033568333718, 0.5688037372977638, 0.5276512112450901, 0.6259549529538577, 0.5823200016551302, 0.5647433464408086, 0.5774369442438562, 0.5981089565537266, 0.5336898363186855, 0.49500160669650217, 0.4746691852446888, 0.4505651781919134, 0.39560052640006205, 0.35008058660050967, 0.2641864521344377, 0.21991459172790648, 0.21216840887810062, 0.18296741304138942, 0.18197033311975536, 0.161973262682566, 0.10873816786618681, 0.030379817874521587, 0.0, 0.055438455837475316, 0.07019221293195878, 0.20010633988692048, 0.27161660998275405, 0.32971477746105127, 0.4246220949492854, 0.3867317182501568, 0.4339867310158449, 0.4933449979728225, 0.509882148925823, 0.4945252885976584, 0.4534370115311708, 0.4150695000976579, 0.43356562895191036, 0.6365419575098606]\n"
     ]
    }
   ],
   "source": [
    "# 規格化\n",
    "logit_score_norm = score_normalize(logit_score_mean)\n",
    "pred_score_norm = score_normalize(pred_score_mean)\n",
    "print(list(logit_score_norm))\n",
    "print(list(pred_score_norm))"
   ]
  },
  {
   "attachments": {},
   "cell_type": "markdown",
   "metadata": {},
   "source": [
    "2種類のスコアを比較\n",
    "\n",
    "規格化すると，それほど違いはない．"
   ]
  },
  {
   "cell_type": "code",
   "execution_count": 21,
   "metadata": {},
   "outputs": [
    {
     "data": {
      "image/png": "[encoded data removed]",
      "text/plain": [
       "<Figure size 1440x576 with 2 Axes>"
      ]
     },
     "metadata": {
      "needs_background": "light"
     },
     "output_type": "display_data"
    }
   ],
   "source": [
    "plt.rcParams[\"font.size\"] = 18  # 文字サイズを大きくする\n",
    "\n",
    "fig = plt.figure(figsize=(20, 8))\n",
    "ax1 = fig.add_subplot(1, 2, 1)\n",
    "ax2 = fig.add_subplot(1, 2, 2)\n",
    "\n",
    "ax1.set_title('平均化したスコア値')\n",
    "ax1.plot(logit_score_mean, label='logit')\n",
    "ax1.plot(pred_score_mean, label='prediction')\n",
    "ax1.set_xlabel('Percentage of book')\n",
    "ax1.set_ylabel('スコア値')\n",
    "ax1.legend()\n",
    "\n",
    "ax2.set_title('正規化したスコア値')\n",
    "ax2.plot(logit_score_norm, label='logit')\n",
    "ax2.plot(pred_score_norm, label='prediction')\n",
    "ax2.set_xlabel('Percentage of book')\n",
    "ax2.legend()\n",
    "\n",
    "plt.show()"
   ]
  },
  {
   "attachments": {},
   "cell_type": "markdown",
   "metadata": {},
   "source": [
    "### 別の方法で平均化\n",
    "\n",
    "- window size: N/5 かつ step: 1で平均化\n",
    "- window size: 2 かつ step: 1で平均化を繰り返す"
   ]
  },
  {
   "cell_type": "code",
   "execution_count": 56,
   "metadata": {},
   "outputs": [
    {
     "data": {
      "text/plain": [
       "(799, 3)"
      ]
     },
     "execution_count": 56,
     "metadata": {},
     "output_type": "execute_result"
    }
   ],
   "source": [
    "df.shape"
   ]
  },
  {
   "cell_type": "code",
   "execution_count": 57,
   "metadata": {},
   "outputs": [
    {
     "data": {
      "text/plain": [
       "641"
      ]
     },
     "execution_count": 57,
     "metadata": {},
     "output_type": "execute_result"
    }
   ],
   "source": [
    "# windows size:N/5 and step:1\n",
    "window_size = int(df.shape[0] / 5)\n",
    "w = np.ones(window_size)/window_size\n",
    "logit_score_mean2 = np.convolve(df['logit_score'], w, mode='valid')\n",
    "len(logit_score_mean2)"
   ]
  },
  {
   "cell_type": "code",
   "execution_count": 58,
   "metadata": {},
   "outputs": [
    {
     "data": {
      "text/plain": [
       "[<matplotlib.lines.Line2D at 0x7f9c207f71c0>]"
      ]
     },
     "execution_count": 58,
     "metadata": {},
     "output_type": "execute_result"
    },
    {
     "data": {
      "image/png": "[encoded data removed]",
      "text/plain": [
       "<Figure size 432x288 with 1 Axes>"
      ]
     },
     "metadata": {
      "needs_background": "light"
     },
     "output_type": "display_data"
    }
   ],
   "source": [
    "# 描画\n",
    "plt.plot(logit_score_mean2)"
   ]
  },
  {
   "cell_type": "code",
   "execution_count": 59,
   "metadata": {},
   "outputs": [],
   "source": [
    "# window_size: 2で固定して100回平均化する関数\n",
    "def score_mean2(score, iter=100):\n",
    "    for _ in range(iter):\n",
    "        window_size = 2\n",
    "        w = np.ones(window_size)/window_size\n",
    "        score = np.convolve(score, w, mode='valid')\n",
    "    \n",
    "    plt.title(f'length: {len(score)}')\n",
    "    plt.plot(score)\n",
    "    plt.show()\n",
    "\n",
    "    return score"
   ]
  },
  {
   "cell_type": "code",
   "execution_count": 60,
   "metadata": {},
   "outputs": [
    {
     "data": {
      "image/png": "[encoded data removed]",
      "text/plain": [
       "<Figure size 432x288 with 1 Axes>"
      ]
     },
     "metadata": {
      "needs_background": "light"
     },
     "output_type": "display_data"
    },
    {
     "data": {
      "image/png": "[encoded data removed]",
      "text/plain": [
       "<Figure size 432x288 with 1 Axes>"
      ]
     },
     "metadata": {
      "needs_background": "light"
     },
     "output_type": "display_data"
    },
    {
     "data": {
      "image/png": "[encoded data removed]",
      "text/plain": [
       "<Figure size 432x288 with 1 Axes>"
      ]
     },
     "metadata": {
      "needs_background": "light"
     },
     "output_type": "display_data"
    },
    {
     "data": {
      "image/png": "[encoded data removed]",
      "text/plain": [
       "<Figure size 432x288 with 1 Axes>"
      ]
     },
     "metadata": {
      "needs_background": "light"
     },
     "output_type": "display_data"
    },
    {
     "data": {
      "image/png": "[encoded data removed]",
      "text/plain": [
       "<Figure size 432x288 with 1 Axes>"
      ]
     },
     "metadata": {
      "needs_background": "light"
     },
     "output_type": "display_data"
    }
   ],
   "source": [
    "score = logit_score_mean2\n",
    "for _ in np.arange(5):\n",
    "    score = score_mean2(score)"
   ]
  },
  {
   "attachments": {},
   "cell_type": "markdown",
   "metadata": {},
   "source": [
    "形が変わってしまうので，この案はボツ．"
   ]
  },
  {
   "cell_type": "code",
   "execution_count": null,
   "metadata": {},
   "outputs": [],
   "source": []
  }
 ],
 "metadata": {
  "kernelspec": {
   "display_name": "Python 3",
   "language": "python",
   "name": "python3"
  },
  "language_info": {
   "codemirror_mode": {
    "name": "ipython",
    "version": 3
   },
   "file_extension": ".py",
   "mimetype": "text/x-python",
   "name": "python",
   "nbconvert_exporter": "python",
   "pygments_lexer": "ipython3",
   "version": "3.8.10"
  },
  "orig_nbformat": 4
 },
 "nbformat": 4,
 "nbformat_minor": 2
}
