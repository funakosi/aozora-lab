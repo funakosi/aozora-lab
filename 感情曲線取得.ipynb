{
 "cells": [
  {
   "cell_type": "markdown",
   "metadata": {},
   "source": [
    "# 青空文庫から感情曲線取得"
   ]
  },
  {
   "cell_type": "code",
   "execution_count": 1,
   "metadata": {},
   "outputs": [],
   "source": [
    "import os\n",
    "import pandas as pd\n",
    "import numpy as np\n",
    "import urllib.error\n",
    "import urllib.request\n",
    "import japanize_matplotlib\n",
    "import matplotlib.pyplot as plt"
   ]
  },
  {
   "cell_type": "code",
   "execution_count": 2,
   "metadata": {},
   "outputs": [],
   "source": [
    "from transformers import AutoTokenizer, AutoModelForSequenceClassification"
   ]
  },
  {
   "cell_type": "code",
   "execution_count": 3,
   "metadata": {},
   "outputs": [
    {
     "name": "stdout",
     "output_type": "stream",
     "text": [
      "gpu is available\n"
     ]
    }
   ],
   "source": [
    "from library.tool import is_cuda_available\n",
    "# GPUが使用できるか確認\n",
    "is_cuda_available()"
   ]
  },
  {
   "cell_type": "code",
   "execution_count": 4,
   "metadata": {},
   "outputs": [
    {
     "data": {
      "text/plain": [
       "[pattern1]\n",
       "tokenizer = \"koheiduck/bert-japanese-finetuned-sentiment\"\n",
       "model = \"koheiduck/bert-japanese-finetuned-sentiment\"\n",
       "score_folder = \"koheiduck_bert-japanese-finetuned-sentiment\"\n",
       "\n",
       "[pattern2]\n",
       "tokenizer = \"A-Funakoshi/bert-base-japanese-v3-wrime-sentiment\"\n",
       "model = \"A-Funakoshi/bert-base-japanese-v3-wrime-sentiment\"\n",
       "score_folder = \"bert-base-japanese-v3-wrime-sentiment\"\n",
       "\n",
       "[pattern3]\n",
       "tokenizer = \"A-Funakoshi/bert-finetuned-multilingual-sentiments\"\n",
       "model = \"A-Funakoshi/bert-finetuned-multilingual-sentiments\"\n",
       "score_folder = \"bert-finetuned-multilingual-sentiments\""
      ]
     },
     "execution_count": 4,
     "metadata": {},
     "output_type": "execute_result"
    }
   ],
   "source": [
    "from library.tool import ReadModelTokenizerTome\n",
    "# 設定ファイルを読み込み\n",
    "model_settings = ReadModelTokenizerTome('./settings/model_tokenizer.toml')\n",
    "model_settings"
   ]
  },
  {
   "cell_type": "code",
   "execution_count": 5,
   "metadata": {},
   "outputs": [
    {
     "name": "stdout",
     "output_type": "stream",
     "text": [
      "tokenizer:koheiduck/bert-japanese-finetuned-sentiment\n",
      "model:koheiduck/bert-japanese-finetuned-sentiment\n",
      "score_folder:koheiduck_bert-japanese-finetuned-sentiment\n"
     ]
    }
   ],
   "source": [
    "# モデルやトークナイザーの名称を定義\n",
    "PATTERN = 'pattern1'\n",
    "\n",
    "model_settings.read(PATTERN)\n",
    "print(model_settings.get_str())"
   ]
  },
  {
   "cell_type": "code",
   "execution_count": 6,
   "metadata": {},
   "outputs": [
    {
     "name": "stdout",
     "output_type": "stream",
     "text": [
      "savel folder exists.\n"
     ]
    }
   ],
   "source": [
    "# 保存用のフォルダがなければ作成\n",
    "if os.path.isdir(f'data/{model_settings.score_folder}'):\n",
    "    print('savel folder exists.')\n",
    "else:\n",
    "    print('make save folder.')\n",
    "    os.makedirs(f'data/{model_settings.score_folder}')"
   ]
  },
  {
   "cell_type": "markdown",
   "metadata": {},
   "source": [
    "## 全リスト取得"
   ]
  },
  {
   "cell_type": "code",
   "execution_count": 7,
   "metadata": {},
   "outputs": [
    {
     "name": "stdout",
     "output_type": "stream",
     "text": [
      "-rw-r--r-- 1 root root 16578439 Aug 10 22:46 data/list_person_all_extended_utf8.csv\n"
     ]
    }
   ],
   "source": [
    "# # リスト取得\n",
    "# !wget https://www.aozora.gr.jp/index_pages/list_person_all_extended_utf8.zip\n",
    "# # 解凍\n",
    "# !unzip list_person_all_extended_utf8.zip\n",
    "# # 移動\n",
    "# !mv list_person_all_extended_utf8.csv data\n",
    "# # zip削除\n",
    "# !rm list_person_all_extended_utf8.zip\n",
    "# 確認\n",
    "!ls -la data/list_person_all_extended_utf8.*"
   ]
  },
  {
   "cell_type": "code",
   "execution_count": 7,
   "metadata": {},
   "outputs": [
    {
     "data": {
      "text/plain": [
       "(18798, 55)"
      ]
     },
     "execution_count": 7,
     "metadata": {},
     "output_type": "execute_result"
    }
   ],
   "source": [
    "# pandasで読み取る\n",
    "df_all = pd.read_csv('data/list_person_all_extended_utf8.csv')\n",
    "df_all.shape"
   ]
  },
  {
   "cell_type": "code",
   "execution_count": null,
   "metadata": {},
   "outputs": [],
   "source": [
    "# df_all.columns"
   ]
  },
  {
   "cell_type": "code",
   "execution_count": null,
   "metadata": {},
   "outputs": [],
   "source": [
    "# df_jp = df_all[df_all['分類番号'].str.endswith('913', na=False)]\n",
    "# df_jp['分類番号'].unique()"
   ]
  },
  {
   "cell_type": "markdown",
   "metadata": {},
   "source": [
    "## 対象作品を選択"
   ]
  },
  {
   "cell_type": "code",
   "execution_count": 11,
   "metadata": {},
   "outputs": [],
   "source": [
    "# columns = ['作品ID', '作品名', 'テキストファイルURL']\n",
    "# df_all[df_all['作品名']=='フランダースの犬'][columns]"
   ]
  },
  {
   "cell_type": "code",
   "execution_count": 12,
   "metadata": {},
   "outputs": [
    {
     "data": {
      "text/plain": [
       "{'id': 4331, 'fname': 'nero'}"
      ]
     },
     "execution_count": 12,
     "metadata": {},
     "output_type": "execute_result"
    }
   ],
   "source": [
    "# 比較用の作品\n",
    "TARGET_DIC = {'id':4331, 'fname': 'nero'}\n",
    "# TARGET_DIC = {'id':15267, 'fname': 'ginga'}\n",
    "# TARGET_DIC = {'id':1793, 'fname': 'oshie'}\n",
    "\n",
    "TARGET_DIC"
   ]
  },
  {
   "cell_type": "code",
   "execution_count": 13,
   "metadata": {},
   "outputs": [
    {
     "data": {
      "text/plain": [
       "対象                                                          True\n",
       "人物ID                                                          83\n",
       "氏名                                                          菊池 寛\n",
       "読み                                                        きくち かん\n",
       "作品ID                                                        4880\n",
       "作品名                                                     フランダースの犬\n",
       "副題                                                           NaN\n",
       "作品名読み                                                  フランダースのいぬ\n",
       "図書カードURL       https://www.aozora.gr.jp/cards/001044/card4880...\n",
       "テキストファイルURL    https://www.aozora.gr.jp/cards/001044/files/48...\n",
       "テキストファイルパス                                                      \n",
       "備考                                                              \n",
       "Name: 4331, dtype: object"
      ]
     },
     "execution_count": 13,
     "metadata": {},
     "output_type": "execute_result"
    }
   ],
   "source": [
    "from library.preprocess import select_features\n",
    "df = select_features(df_all)\n",
    "df.iloc[TARGET_DIC['id']]"
   ]
  },
  {
   "cell_type": "code",
   "execution_count": 14,
   "metadata": {},
   "outputs": [
    {
     "data": {
      "text/plain": [
       "('https://www.aozora.gr.jp/cards/001044/files/4880_ruby_13757.zip',\n",
       " 'フランダースの犬',\n",
       " 'data/cards',\n",
       " 'data/koheiduck_bert-japanese-finetuned-sentiment',\n",
       " 'data/cards/4880_ruby_13757.zip',\n",
       " 'nero_org.csv',\n",
       " 'nero_edit.csv',\n",
       " 'nero_score.csv')"
      ]
     },
     "execution_count": 14,
     "metadata": {},
     "output_type": "execute_result"
    }
   ],
   "source": [
    "# 対象作品\n",
    "target_file = df.iloc[TARGET_DIC['id']]['テキストファイルURL']\n",
    "target_work_name = df.iloc[TARGET_DIC['id']]['作品名']\n",
    "org_dir = 'data/cards'\n",
    "score_dir = f'data/{model_settings.score_folder}'\n",
    "zip_path = f\"{org_dir}/{target_file.split('/')[-1]}\"\n",
    "org_file_name = f\"{TARGET_DIC['fname']}_org.csv\"     # 要入力\n",
    "edit_file_name = f\"{TARGET_DIC['fname']}_edit.csv\"   # 要入力\n",
    "score_file_name = f\"{TARGET_DIC['fname']}_score.csv\" # 要入力\n",
    "\n",
    "target_file, target_work_name, org_dir, score_dir, zip_path, org_file_name, edit_file_name, score_file_name"
   ]
  },
  {
   "cell_type": "code",
   "execution_count": 15,
   "metadata": {},
   "outputs": [
    {
     "name": "stdout",
     "output_type": "stream",
     "text": [
      "-rw-r--r-- 1 root root 31144 Aug 17 00:02 data/cards/4880_ruby_13757.zip\n"
     ]
    }
   ],
   "source": [
    "from library.preprocess import download_file\n",
    "# Zipダウンロード\n",
    "download_file(target_file, zip_path)\n",
    "!ls -la $zip_path"
   ]
  },
  {
   "cell_type": "code",
   "execution_count": 16,
   "metadata": {},
   "outputs": [
    {
     "name": "stdout",
     "output_type": "stream",
     "text": [
      "read data/cards/nero_org.csv\n"
     ]
    },
    {
     "data": {
      "text/html": [
       "<div>\n",
       "<style scoped>\n",
       "    .dataframe tbody tr th:only-of-type {\n",
       "        vertical-align: middle;\n",
       "    }\n",
       "\n",
       "    .dataframe tbody tr th {\n",
       "        vertical-align: top;\n",
       "    }\n",
       "\n",
       "    .dataframe thead th {\n",
       "        text-align: right;\n",
       "    }\n",
       "</style>\n",
       "<table border=\"1\" class=\"dataframe\">\n",
       "  <thead>\n",
       "    <tr style=\"text-align: right;\">\n",
       "      <th></th>\n",
       "      <th>text</th>\n",
       "    </tr>\n",
       "  </thead>\n",
       "  <tbody>\n",
       "    <tr>\n",
       "      <th>0</th>\n",
       "      <td>フランダースの犬</td>\n",
       "    </tr>\n",
       "    <tr>\n",
       "      <th>1</th>\n",
       "      <td>A DOG OF FLANDERS</td>\n",
       "    </tr>\n",
       "    <tr>\n",
       "      <th>2</th>\n",
       "      <td>マリー・ルイーズ・ド・ラ・ラメー　Marie Louise de la Ramee</td>\n",
       "    </tr>\n",
       "    <tr>\n",
       "      <th>3</th>\n",
       "      <td>菊池寛訳</td>\n",
       "    </tr>\n",
       "    <tr>\n",
       "      <th>4</th>\n",
       "      <td>----------------------------------------------...</td>\n",
       "    </tr>\n",
       "  </tbody>\n",
       "</table>\n",
       "</div>"
      ],
      "text/plain": [
       "                                                text\n",
       "0                                           フランダースの犬\n",
       "1                                  A DOG OF FLANDERS\n",
       "2          マリー・ルイーズ・ド・ラ・ラメー　Marie Louise de la Ramee\n",
       "3                                               菊池寛訳\n",
       "4  ----------------------------------------------..."
      ]
     },
     "execution_count": 16,
     "metadata": {},
     "output_type": "execute_result"
    }
   ],
   "source": [
    "from library.preprocess import save_text\n",
    "# Zip読み込み\n",
    "target_df = save_text(zip_path, org_dir, org_file_name)\n",
    "target_df.head()"
   ]
  },
  {
   "cell_type": "markdown",
   "metadata": {},
   "source": [
    "## データクレンジング"
   ]
  },
  {
   "cell_type": "code",
   "execution_count": 17,
   "metadata": {},
   "outputs": [
    {
     "data": {
      "text/html": [
       "<div>\n",
       "<style scoped>\n",
       "    .dataframe tbody tr th:only-of-type {\n",
       "        vertical-align: middle;\n",
       "    }\n",
       "\n",
       "    .dataframe tbody tr th {\n",
       "        vertical-align: top;\n",
       "    }\n",
       "\n",
       "    .dataframe thead th {\n",
       "        text-align: right;\n",
       "    }\n",
       "</style>\n",
       "<table border=\"1\" class=\"dataframe\">\n",
       "  <thead>\n",
       "    <tr style=\"text-align: right;\">\n",
       "      <th></th>\n",
       "      <th>type</th>\n",
       "      <th>text</th>\n",
       "    </tr>\n",
       "  </thead>\n",
       "  <tbody>\n",
       "    <tr>\n",
       "      <th>0</th>\n",
       "      <td>本文</td>\n",
       "      <td>ネルロとパトラッシュ――この二人はさびしい身の上同志でした。</td>\n",
       "    </tr>\n",
       "    <tr>\n",
       "      <th>1</th>\n",
       "      <td>本文</td>\n",
       "      <td>ふたりともこの世に頼るものなく取り残されたひとりぼっち同志ですから、その仲のいいことは言うま...</td>\n",
       "    </tr>\n",
       "    <tr>\n",
       "      <th>2</th>\n",
       "      <td>本文</td>\n",
       "      <td>いや、「仲がいい」くらいな言葉では言いあらわせません。</td>\n",
       "    </tr>\n",
       "    <tr>\n",
       "      <th>3</th>\n",
       "      <td>本文</td>\n",
       "      <td>兄弟でもこれほど愛し合っている者はまずないでしょう。</td>\n",
       "    </tr>\n",
       "    <tr>\n",
       "      <th>4</th>\n",
       "      <td>本文</td>\n",
       "      <td>ほんとにこれ以上の親しさはかんがえられないほどの間柄でした。</td>\n",
       "    </tr>\n",
       "  </tbody>\n",
       "</table>\n",
       "</div>"
      ],
      "text/plain": [
       "  type                                               text\n",
       "0   本文                     ネルロとパトラッシュ――この二人はさびしい身の上同志でした。\n",
       "1   本文  ふたりともこの世に頼るものなく取り残されたひとりぼっち同志ですから、その仲のいいことは言うま...\n",
       "2   本文                        いや、「仲がいい」くらいな言葉では言いあらわせません。\n",
       "3   本文                         兄弟でもこれほど愛し合っている者はまずないでしょう。\n",
       "4   本文                     ほんとにこれ以上の親しさはかんがえられないほどの間柄でした。"
      ]
     },
     "execution_count": 17,
     "metadata": {},
     "output_type": "execute_result"
    }
   ],
   "source": [
    "from library.preprocess import get_text_body, split_kuten, add_type_column, remove_aozora_format, reset_index\n",
    "\n",
    "author_name = df.iloc[15267]['氏名'].replace(' ', '')\n",
    "# 本文取得\n",
    "body_df = get_text_body(target_df, author_name)\n",
    "# 句点「。」で分割\n",
    "body_df2 = split_kuten(body_df)\n",
    "# type列追加\n",
    "body_df3 = add_type_column(body_df2)\n",
    "# 青空文庫の書式を削除\n",
    "body_df4 = remove_aozora_format(body_df3)\n",
    "# インデックスをリセット\n",
    "body_df5 = reset_index(body_df4)\n",
    "body_df5.head()"
   ]
  },
  {
   "cell_type": "code",
   "execution_count": 18,
   "metadata": {},
   "outputs": [
    {
     "name": "stdout",
     "output_type": "stream",
     "text": [
      "-rw-r--r-- 1 root root 105921 Aug 17 00:03 data/cards/nero_edit.csv\n"
     ]
    }
   ],
   "source": [
    "# 編集後のファイルをCSVとして保存\n",
    "file_path = f'{org_dir}/{edit_file_name}'\n",
    "body_df5.to_csv(file_path, index=False)\n",
    "!ls -la $file_path"
   ]
  },
  {
   "cell_type": "markdown",
   "metadata": {},
   "source": [
    "## スコア取得"
   ]
  },
  {
   "cell_type": "code",
   "execution_count": 25,
   "metadata": {},
   "outputs": [
    {
     "name": "stdout",
     "output_type": "stream",
     "text": [
      "koheiduck/bert-japanese-finetuned-sentiment koheiduck/bert-japanese-finetuned-sentiment\n"
     ]
    },
    {
     "name": "stderr",
     "output_type": "stream",
     "text": [
      "/usr/local/lib/python3.8/dist-packages/torch/nn/modules/module.py:1383: UserWarning: positional arguments and argument \"destination\" are deprecated. nn.Module.state_dict will not accept them in the future. Refer to https://pytorch.org/docs/master/generated/torch.nn.Module.html#torch.nn.Module.state_dict for details.\n",
      "  warnings.warn(\n"
     ]
    }
   ],
   "source": [
    "# トークナイザーとモデルを取得\n",
    "print(model_settings.tokenizer, model_settings.model)\n",
    "tokenizer = AutoTokenizer.from_pretrained(model_settings.tokenizer)\n",
    "model = AutoModelForSequenceClassification.from_pretrained(model_settings.model)"
   ]
  },
  {
   "cell_type": "code",
   "execution_count": 20,
   "metadata": {},
   "outputs": [
    {
     "data": {
      "application/vnd.jupyter.widget-view+json": {
       "model_id": "a8c874a0bd3b463680e786dadb04386b",
       "version_major": 2,
       "version_minor": 0
      },
      "text/plain": [
       "  0%|          | 0/799 [00:00<?, ?it/s]"
      ]
     },
     "metadata": {},
     "output_type": "display_data"
    }
   ],
   "source": [
    "from library.score import get_novel_score\n",
    "# スコア取得\n",
    "score_df = get_novel_score(tokenizer, model, file_path, skip_row=1)"
   ]
  },
  {
   "cell_type": "code",
   "execution_count": 21,
   "metadata": {},
   "outputs": [
    {
     "name": "stdout",
     "output_type": "stream",
     "text": [
      "-rw-r--r-- 1 root root 128051 Aug 17 00:03 data/koheiduck_bert-japanese-finetuned-sentiment/nero_score.csv\n"
     ]
    }
   ],
   "source": [
    "# スコアをCSVで保存\n",
    "score_path = f'{score_dir}/{score_file_name}'\n",
    "score_df.to_csv(score_path)\n",
    "!ls -la $score_path"
   ]
  },
  {
   "cell_type": "code",
   "execution_count": 22,
   "metadata": {},
   "outputs": [
    {
     "data": {
      "text/html": [
       "<div>\n",
       "<style scoped>\n",
       "    .dataframe tbody tr th:only-of-type {\n",
       "        vertical-align: middle;\n",
       "    }\n",
       "\n",
       "    .dataframe tbody tr th {\n",
       "        vertical-align: top;\n",
       "    }\n",
       "\n",
       "    .dataframe thead th {\n",
       "        text-align: right;\n",
       "    }\n",
       "</style>\n",
       "<table border=\"1\" class=\"dataframe\">\n",
       "  <thead>\n",
       "    <tr style=\"text-align: right;\">\n",
       "      <th></th>\n",
       "      <th>type</th>\n",
       "      <th>text</th>\n",
       "      <th>logit_score</th>\n",
       "      <th>pred_score</th>\n",
       "    </tr>\n",
       "  </thead>\n",
       "  <tbody>\n",
       "    <tr>\n",
       "      <th>0</th>\n",
       "      <td>本文</td>\n",
       "      <td>ネルロとパトラッシュ――この二人はさびしい身の上同志でした。</td>\n",
       "      <td>1.140869</td>\n",
       "      <td>0.527404</td>\n",
       "    </tr>\n",
       "    <tr>\n",
       "      <th>1</th>\n",
       "      <td>本文</td>\n",
       "      <td>ふたりともこの世に頼るものなく取り残されたひとりぼっち同志ですから、その仲のいいことは言うま...</td>\n",
       "      <td>0.590121</td>\n",
       "      <td>0.580862</td>\n",
       "    </tr>\n",
       "    <tr>\n",
       "      <th>2</th>\n",
       "      <td>本文</td>\n",
       "      <td>いや、「仲がいい」くらいな言葉では言いあらわせません。</td>\n",
       "      <td>-0.679344</td>\n",
       "      <td>-0.510203</td>\n",
       "    </tr>\n",
       "    <tr>\n",
       "      <th>3</th>\n",
       "      <td>本文</td>\n",
       "      <td>兄弟でもこれほど愛し合っている者はまずないでしょう。</td>\n",
       "      <td>-0.395739</td>\n",
       "      <td>-0.552090</td>\n",
       "    </tr>\n",
       "    <tr>\n",
       "      <th>4</th>\n",
       "      <td>本文</td>\n",
       "      <td>ほんとにこれ以上の親しさはかんがえられないほどの間柄でした。</td>\n",
       "      <td>1.552842</td>\n",
       "      <td>0.794932</td>\n",
       "    </tr>\n",
       "    <tr>\n",
       "      <th>...</th>\n",
       "      <td>...</td>\n",
       "      <td>...</td>\n",
       "      <td>...</td>\n",
       "      <td>...</td>\n",
       "    </tr>\n",
       "    <tr>\n",
       "      <th>794</th>\n",
       "      <td>本文</td>\n",
       "      <td>ふたりが生きている間に一生けんめいに求めていたものを、死んで何もいらなくなった今になって、は...</td>\n",
       "      <td>1.464746</td>\n",
       "      <td>0.789745</td>\n",
       "    </tr>\n",
       "    <tr>\n",
       "      <th>795</th>\n",
       "      <td>本文</td>\n",
       "      <td>生命のある間はなれられなかったこのふたりは、死んでからもはなれませんでした。</td>\n",
       "      <td>-2.896164</td>\n",
       "      <td>-0.978908</td>\n",
       "    </tr>\n",
       "    <tr>\n",
       "      <th>796</th>\n",
       "      <td>本文</td>\n",
       "      <td>少年の腕はどうしてもはなすことのできないほどしっかりと犬を抱きしめていました。</td>\n",
       "      <td>0.000000</td>\n",
       "      <td>0.000000</td>\n",
       "    </tr>\n",
       "    <tr>\n",
       "      <th>797</th>\n",
       "      <td>本文</td>\n",
       "      <td>恥じ入って後悔した村の人達は、ふたりのために、神さまが特別のお恵みをお与え下さるように祈りな...</td>\n",
       "      <td>0.000000</td>\n",
       "      <td>0.000000</td>\n",
       "    </tr>\n",
       "    <tr>\n",
       "      <th>798</th>\n",
       "      <td>本文</td>\n",
       "      <td>――永遠に――（おわり）</td>\n",
       "      <td>0.000000</td>\n",
       "      <td>0.000000</td>\n",
       "    </tr>\n",
       "  </tbody>\n",
       "</table>\n",
       "<p>799 rows × 4 columns</p>\n",
       "</div>"
      ],
      "text/plain": [
       "    type                                               text  logit_score  \\\n",
       "0     本文                     ネルロとパトラッシュ――この二人はさびしい身の上同志でした。     1.140869   \n",
       "1     本文  ふたりともこの世に頼るものなく取り残されたひとりぼっち同志ですから、その仲のいいことは言うま...     0.590121   \n",
       "2     本文                        いや、「仲がいい」くらいな言葉では言いあらわせません。    -0.679344   \n",
       "3     本文                         兄弟でもこれほど愛し合っている者はまずないでしょう。    -0.395739   \n",
       "4     本文                     ほんとにこれ以上の親しさはかんがえられないほどの間柄でした。     1.552842   \n",
       "..   ...                                                ...          ...   \n",
       "794   本文  ふたりが生きている間に一生けんめいに求めていたものを、死んで何もいらなくなった今になって、は...     1.464746   \n",
       "795   本文             生命のある間はなれられなかったこのふたりは、死んでからもはなれませんでした。    -2.896164   \n",
       "796   本文            少年の腕はどうしてもはなすことのできないほどしっかりと犬を抱きしめていました。     0.000000   \n",
       "797   本文  恥じ入って後悔した村の人達は、ふたりのために、神さまが特別のお恵みをお与え下さるように祈りな...     0.000000   \n",
       "798   本文                                       ――永遠に――（おわり）     0.000000   \n",
       "\n",
       "     pred_score  \n",
       "0      0.527404  \n",
       "1      0.580862  \n",
       "2     -0.510203  \n",
       "3     -0.552090  \n",
       "4      0.794932  \n",
       "..          ...  \n",
       "794    0.789745  \n",
       "795   -0.978908  \n",
       "796    0.000000  \n",
       "797    0.000000  \n",
       "798    0.000000  \n",
       "\n",
       "[799 rows x 4 columns]"
      ]
     },
     "execution_count": 22,
     "metadata": {},
     "output_type": "execute_result"
    }
   ],
   "source": [
    "score_df"
   ]
  },
  {
   "cell_type": "markdown",
   "metadata": {},
   "source": [
    "## 感情曲線表示"
   ]
  },
  {
   "cell_type": "code",
   "execution_count": 23,
   "metadata": {},
   "outputs": [],
   "source": [
    "from library.score import get_score_mean, score_normalize\n",
    "window_size = int(score_df.shape[0] / 5)\n",
    "logit_score_mean = get_score_mean(score_df['logit_score'], window_size=window_size)\n",
    "logit_score_norm = score_normalize(logit_score_mean)"
   ]
  },
  {
   "cell_type": "code",
   "execution_count": 24,
   "metadata": {},
   "outputs": [
    {
     "data": {
      "text/plain": [
       "[<matplotlib.lines.Line2D at 0x7fd9341b62b0>]"
      ]
     },
     "execution_count": 24,
     "metadata": {},
     "output_type": "execute_result"
    },
    {
     "data": {
      "image/png": "[encoded data removed]",
      "text/plain": [
       "<Figure size 720x504 with 1 Axes>"
      ]
     },
     "metadata": {
      "needs_background": "light"
     },
     "output_type": "display_data"
    }
   ],
   "source": [
    "plt.figure(figsize=(10, 7))\n",
    "plt.title(df.iloc[TARGET_DIC['id']]['作品名'], fontsize=20)\n",
    "plt.plot(logit_score_norm)"
   ]
  },
  {
   "cell_type": "code",
   "execution_count": null,
   "metadata": {},
   "outputs": [],
   "source": []
  }
 ],
 "metadata": {
  "kernelspec": {
   "display_name": "Python 3",
   "language": "python",
   "name": "python3"
  },
  "language_info": {
   "codemirror_mode": {
    "name": "ipython",
    "version": 3
   },
   "file_extension": ".py",
   "mimetype": "text/x-python",
   "name": "python",
   "nbconvert_exporter": "python",
   "pygments_lexer": "ipython3",
   "version": "3.8.10"
  },
  "orig_nbformat": 4
 },
 "nbformat": 4,
 "nbformat_minor": 2
}
