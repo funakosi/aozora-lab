{
 "cells": [
  {
   "cell_type": "markdown",
   "metadata": {},
   "source": [
    "# 青空文庫から感情曲線取得"
   ]
  },
  {
   "cell_type": "code",
   "execution_count": 1,
   "metadata": {},
   "outputs": [],
   "source": [
    "import os\n",
    "import pandas as pd\n",
    "import numpy as np\n",
    "from tqdm.notebook import tqdm\n",
    "from zipfile import ZipFile\n",
    "from pathlib import Path\n",
    "import time\n",
    "import urllib.error\n",
    "import urllib.request\n",
    "import japanize_matplotlib\n",
    "import matplotlib.pyplot as plt"
   ]
  },
  {
   "cell_type": "code",
   "execution_count": 2,
   "metadata": {},
   "outputs": [],
   "source": [
    "from transformers import AutoTokenizer, AutoModelForSequenceClassification\n",
    "from transformers import pipeline\n",
    "import torch\n",
    "import torch.nn.functional as F"
   ]
  },
  {
   "cell_type": "code",
   "execution_count": 3,
   "metadata": {},
   "outputs": [
    {
     "name": "stdout",
     "output_type": "stream",
     "text": [
      "gpu is available\n"
     ]
    }
   ],
   "source": [
    "# GPUが使用できるか確認\n",
    "if torch.cuda.is_available():\n",
    "    print('gpu is available')\n",
    "else:\n",
    "    raise Exception('gpu is NOT available')"
   ]
  },
  {
   "cell_type": "code",
   "execution_count": 4,
   "metadata": {},
   "outputs": [
    {
     "data": {
      "text/plain": [
       "('A-Funakoshi/bert-base-japanese-v3-wrime-sentiment',\n",
       " 'A-Funakoshi/bert-base-japanese-v3-wrime-sentiment',\n",
       " 'bert-base-japanese-v3-wrime-sentiment')"
      ]
     },
     "execution_count": 4,
     "metadata": {},
     "output_type": "execute_result"
    }
   ],
   "source": [
    "# モデルやトークナイザーの名称を定義\n",
    "TOKENIZER_NAME = 'A-Funakoshi/bert-base-japanese-v3-wrime-sentiment'\n",
    "MODEL_NAME = 'A-Funakoshi/bert-base-japanese-v3-wrime-sentiment'\n",
    "# TOKENIZER_NAME = 'A-Funakoshi/sample-text-classification-bert'\n",
    "# MODEL_NAME = 'A-Funakoshi/sample-text-classification-bert'\n",
    "# TOKENIZER_NAME = 'koheiduck/bert-japanese-finetuned-sentiment'\n",
    "# MODEL_NAME = 'koheiduck/bert-japanese-finetuned-sentiment'\n",
    "# SCORE_FOLDER = MODEL_NAME.replace('/', '_')\n",
    "SCORE_FOLDER = 'bert-base-japanese-v3-wrime-sentiment'\n",
    "\n",
    "TOKENIZER_NAME, MODEL_NAME, SCORE_FOLDER"
   ]
  },
  {
   "cell_type": "code",
   "execution_count": 5,
   "metadata": {},
   "outputs": [
    {
     "name": "stdout",
     "output_type": "stream",
     "text": [
      "make save folder.\n"
     ]
    }
   ],
   "source": [
    "# 保存用のフォルダがなければ作成\n",
    "if os.path.isdir(f'data/{SCORE_FOLDER}'):\n",
    "    print('savel folder exists.')\n",
    "else:\n",
    "    print('make save folder.')\n",
    "    os.makedirs(f'data/{SCORE_FOLDER}')"
   ]
  },
  {
   "cell_type": "markdown",
   "metadata": {},
   "source": [
    "## 関数定義"
   ]
  },
  {
   "cell_type": "code",
   "execution_count": 6,
   "metadata": {},
   "outputs": [],
   "source": [
    "# 必要な特徴量のみ選択\n",
    "def select_features(df_all):\n",
    "    # 氏名，かな\n",
    "    df_kanji = df_all['姓'] + ' ' + df_all['名']\n",
    "    df_kana = df_all['姓読み'] + ' ' + df_all['名読み']\n",
    "    df_name = pd.concat([df_all['人物ID'], df_kanji, df_kana], axis=1).rename(columns={0: '氏名', 1: '読み'})\n",
    "    # 作品名\n",
    "    df_work = df_all.loc[:, ['作品ID', '作品名', '副題', '作品名読み']]\n",
    "    # URL\n",
    "    df_url = df_all.loc[:, ['図書カードURL', 'テキストファイルURL']]\n",
    "    # 結合\n",
    "    df = pd.concat([df_name, df_work, df_url], axis=1)\n",
    "    df = df.reset_index().drop(['index'], axis=1) # index振り直し\n",
    "    df.insert(0, '対象', True) # 対象列の追加\n",
    "    df['テキストファイルパス'] = '' # 保存場所\n",
    "    df['備考'] = ''\n",
    "    return df"
   ]
  },
  {
   "cell_type": "code",
   "execution_count": 7,
   "metadata": {},
   "outputs": [],
   "source": [
    "# クレンジングされたデータを保存する\n",
    "def save_text(target_file, org_dir, file_name, sep=',', force=False):\n",
    "    try:\n",
    "        save_file = f'{org_dir}/{file_name}'\n",
    "        if os.path.isfile(save_file) and force==False:\n",
    "            # Txtファイルの読み込み\n",
    "            print(f'read {save_file}')\n",
    "            df_org = pd.read_csv(save_file)\n",
    "            pass\n",
    "        else:\n",
    "            # Zipファイルの読み込み\n",
    "            print(f'read {target_file}')\n",
    "            # Zipファイル内に複数ファイルがある場合の対応\n",
    "            for file in ZipFile(target_file).namelist():\n",
    "                if file.endswith('.txt'):\n",
    "                    df_org = pd.read_csv(ZipFile(target_file).open(file), \n",
    "                                         encoding='cp932', names=['text'], sep=sep)\n",
    "                    break\n",
    "            # df_org = pd.read_csv(target_file, encoding='cp932', names=['text'], sep=sep)\n",
    "            df_org.to_csv(save_file, index=False)\n",
    "        return df_org\n",
    "    except Exception as e:\n",
    "        print(f'ERROR: {target_file}, {str(e)}')\n",
    "        return None"
   ]
  },
  {
   "cell_type": "code",
   "execution_count": 8,
   "metadata": {},
   "outputs": [],
   "source": [
    "# ファイルをダウンロード\n",
    "def download_file(url, dst_path):\n",
    "    try:\n",
    "        with urllib.request.urlopen(url) as web_file:\n",
    "            data = web_file.read()\n",
    "            with open(dst_path, mode='wb') as local_file:\n",
    "                local_file.write(data)\n",
    "    except urllib.error.URLError as e:\n",
    "        print(e)"
   ]
  },
  {
   "cell_type": "code",
   "execution_count": 9,
   "metadata": {},
   "outputs": [],
   "source": [
    "# テキストから本文を取得\n",
    "def get_text_body(target_df, author_name):\n",
    "    # 本文の先頭を探す（'---…'区切りの直後から本文が始まる前提）\n",
    "    head_txt = list(target_df[target_df['text'].str.contains(\n",
    "        '-------------------------------------------------------')].index)\n",
    "    # 本文の末尾を探す（'底本：'の直前に本文が終わる前提）\n",
    "    atx = list(target_df[target_df['text'].str.contains('底本：')].index)\n",
    "    if head_txt == []:\n",
    "        # もし'---…'区切りが無い場合は、作家名の直後に本文が始まる前提\n",
    "        head_txt = list(target_df[target_df['text'].str.contains(author_name)].index)\n",
    "        head_txt_num = head_txt[0]+1\n",
    "    else:\n",
    "        # 2個目の'---…'区切り直後から本文が始まる\n",
    "        head_txt_num = head_txt[1]+1\n",
    "    return target_df[head_txt_num:atx[0]]"
   ]
  },
  {
   "cell_type": "code",
   "execution_count": 10,
   "metadata": {},
   "outputs": [],
   "source": [
    "# 句点で区切る\n",
    "def split_kuten(target_df, split_kuten=True):\n",
    "    df = target_df.copy()\n",
    "    # 句点で分割\n",
    "    if split_kuten:\n",
    "        df = target_df.assign(text=target_df['text'].str.split(r'(?<=。)(?=..)')).explode('text')\n",
    "    return df"
   ]
  },
  {
   "cell_type": "code",
   "execution_count": 11,
   "metadata": {},
   "outputs": [],
   "source": [
    "# type列追加\n",
    "def add_type_column(target_df):\n",
    "    df = target_df.copy()\n",
    "    df.insert(loc=0, column='type', value='本文')\n",
    "    df.loc[df['text'].str.contains('字下げ.*見出し*'), 'type'] = '見出し'\n",
    "    return df"
   ]
  },
  {
   "cell_type": "code",
   "execution_count": 12,
   "metadata": {},
   "outputs": [],
   "source": [
    "# 青空文庫の書式を削除\n",
    "def remove_aozora_format(target_df):\n",
    "    df = target_df.copy()\n",
    "    # 青空文庫の書式削除\n",
    "    df = df.replace({'text': {'《.*?》': ''}}, regex=True)\n",
    "    df = df.replace({'text': {'［.*?］': ''}}, regex=True)\n",
    "    df = df.replace({'text': {'｜': ''}}, regex=True)\n",
    "    # 字下げ（行頭の全角スペース）を削除\n",
    "    df = df.replace({'text': {'　': ''}}, regex=True)\n",
    "    # 節区切りを削除\n",
    "    # df = df.replace({'text': {'^.$': ''}}, regex=True) # 1文字\n",
    "    # df = df.replace({'text': {'^―――.*$': ''}}, regex=True) # 先頭が\"―――\"\n",
    "    df = df.replace({'text': {'^＊＊＊.*$': ''}}, regex=True)\n",
    "    df = df.replace({'text': {'^×××.*$': ''}}, regex=True)\n",
    "    # # 記号、および記号削除によって残ったカッコを削除\n",
    "    # df = df.replace({'text': {'―': ''}}, regex=True)\n",
    "    # df = df.replace({'text': {'…': ''}}, regex=True)\n",
    "    # df = df.replace({'text': {'※': ''}}, regex=True)\n",
    "    df = df.replace({'text': {'「」': ''}}, regex=True)\n",
    "    # 一文字以下で構成されている行を削除 -> しない\n",
    "    # df['length'] = df['text'].map(lambda x: len(x))\n",
    "    # df = df[df['length'] > 1]\n",
    "    return df"
   ]
  },
  {
   "cell_type": "code",
   "execution_count": 13,
   "metadata": {},
   "outputs": [],
   "source": [
    "# インデックスをリセット\n",
    "def reset_index(target_df):\n",
    "    df = target_df.copy()\n",
    "    # インデックスがずれるので振りなおす\n",
    "    df = df.reset_index().drop(['index'], axis=1)\n",
    "\n",
    "    # 空白行を削除する（念のため）\n",
    "    df = df[~(df['text'] == '')]\n",
    "\n",
    "    # インデックスがずれるので振り直し、文字の長さの列を削除する\n",
    "    df = df.reset_index().drop(['index'], axis=1)\n",
    "    return df"
   ]
  },
  {
   "cell_type": "code",
   "execution_count": 14,
   "metadata": {},
   "outputs": [],
   "source": [
    "# スコアに掛ける係数を取得\n",
    "def get_coef(model):\n",
    "    array = []\n",
    "    for key in model.config.id2label.keys():\n",
    "        label = model.config.id2label[key]\n",
    "        weight = 0\n",
    "        if label.upper() == 'POSITIVE':\n",
    "            weight = 1\n",
    "        elif label.upper() == 'NEGATIVE':\n",
    "            weight = -1\n",
    "        array.append(weight)\n",
    "    return array"
   ]
  },
  {
   "cell_type": "code",
   "execution_count": 15,
   "metadata": {},
   "outputs": [],
   "source": [
    "# スコア取得関数\n",
    "\"\"\"\n",
    "Arg:\n",
    "    tokenizer\n",
    "    model\n",
    "    text: text(one line)\n",
    "    truncation: Bool(Default:True)\n",
    "Returns:\n",
    "    max logit\n",
    "    max prediction\n",
    "\"\"\"\n",
    "def get_score(tokenizer, model, text, truncation=True):\n",
    "    # 0: NEUTRAL  -> 0\n",
    "    # 1: NEGATIVE -> -1\n",
    "    # 2: POSITIVE -> 1\n",
    "    # coef_array = [0, -1, 1]\n",
    "    coef_array = get_coef(model)\n",
    "    # text: 文字列型を想定\n",
    "    batch = tokenizer(text, padding=True, truncation=truncation, return_tensors='pt')\n",
    "    \n",
    "    with torch.no_grad():\n",
    "        output = model(batch['input_ids'], attention_mask=batch['attention_mask'])\n",
    "        prediction = F.softmax(output.logits, dim=1)\n",
    "        label = torch.max(output.logits, dim=1)\n",
    "        value = label.values.item()\n",
    "        index = label.indices.item()\n",
    "    logit_value = value * coef_array[index]\n",
    "    pred_value = torch.max(prediction).item() * coef_array[index]\n",
    "    return logit_value, pred_value"
   ]
  },
  {
   "cell_type": "code",
   "execution_count": 16,
   "metadata": {},
   "outputs": [],
   "source": [
    "# 小説のスコアを取得する関数\n",
    "\"\"\"\n",
    "Arg:\n",
    "    file_path\n",
    "Returns:\n",
    "    data frame\n",
    "\"\"\"\n",
    "def get_novel_score(tokenizer, model, file_path, truncation=True):\n",
    "    df = pd.read_csv(file_path)\n",
    "    logit_score, pred_score = [], []\n",
    "    for i, text in enumerate(tqdm(df['text'])):\n",
    "        logit, pred = get_score(tokenizer, model, text, truncation)\n",
    "        logit_score.append(logit)\n",
    "        pred_score.append(pred)\n",
    "\n",
    "    df['logit_score'] = logit_score\n",
    "    df['pred_score'] = pred_score\n",
    "    return df"
   ]
  },
  {
   "cell_type": "code",
   "execution_count": 17,
   "metadata": {},
   "outputs": [],
   "source": [
    "# 指定されたwindowサイズで感情スコアの平均値を取得\n",
    "def get_score_mean(scores, window_size=10, score_mean_num=100):\n",
    "    score_mean = []\n",
    "    slide = int((len(scores) - window_size - 1) / 99)\n",
    "    for n in range(score_mean_num):\n",
    "        start = slide * n\n",
    "        if n == score_mean_num - 1:\n",
    "            end = len(scores) - 1\n",
    "        else:\n",
    "            end = start + window_size\n",
    "        score_mean.append(np.mean(scores[start:end]))\n",
    "        # print(f'{n}:len(scores):{len(scores)},st:{start},ed:{end},{scores[end]}{np.array(scores)[-1]}')\n",
    "    return score_mean"
   ]
  },
  {
   "cell_type": "code",
   "execution_count": 18,
   "metadata": {},
   "outputs": [],
   "source": [
    "# スコアを0-1に規格化\n",
    "def score_normalize(scores):\n",
    "    return (scores - np.min(scores)) / (np.max(scores) - np.min(scores))"
   ]
  },
  {
   "cell_type": "markdown",
   "metadata": {},
   "source": [
    "## 全リスト取得"
   ]
  },
  {
   "cell_type": "code",
   "execution_count": 25,
   "metadata": {},
   "outputs": [
    {
     "name": "stdout",
     "output_type": "stream",
     "text": [
      "-rw-r--r-- 1 root root 16578439 Aug 10 22:46 data/list_person_all_extended_utf8.csv\n"
     ]
    }
   ],
   "source": [
    "# # リスト取得\n",
    "# !wget https://www.aozora.gr.jp/index_pages/list_person_all_extended_utf8.zip\n",
    "# # 解凍\n",
    "# !unzip list_person_all_extended_utf8.zip\n",
    "# # 移動\n",
    "# !mv list_person_all_extended_utf8.csv data\n",
    "# # zip削除\n",
    "# !rm list_person_all_extended_utf8.zip\n",
    "# 確認\n",
    "!ls -la data/list_person_all_extended_utf8.*"
   ]
  },
  {
   "cell_type": "code",
   "execution_count": 19,
   "metadata": {},
   "outputs": [
    {
     "data": {
      "text/html": [
       "<div>\n",
       "<style scoped>\n",
       "    .dataframe tbody tr th:only-of-type {\n",
       "        vertical-align: middle;\n",
       "    }\n",
       "\n",
       "    .dataframe tbody tr th {\n",
       "        vertical-align: top;\n",
       "    }\n",
       "\n",
       "    .dataframe thead th {\n",
       "        text-align: right;\n",
       "    }\n",
       "</style>\n",
       "<table border=\"1\" class=\"dataframe\">\n",
       "  <thead>\n",
       "    <tr style=\"text-align: right;\">\n",
       "      <th></th>\n",
       "      <th>作品ID</th>\n",
       "      <th>作品名</th>\n",
       "      <th>作品名読み</th>\n",
       "      <th>ソート用読み</th>\n",
       "      <th>副題</th>\n",
       "      <th>副題読み</th>\n",
       "      <th>原題</th>\n",
       "      <th>初出</th>\n",
       "      <th>分類番号</th>\n",
       "      <th>文字遣い種別</th>\n",
       "      <th>...</th>\n",
       "      <th>テキストファイルURL</th>\n",
       "      <th>テキストファイル最終更新日</th>\n",
       "      <th>テキストファイル符号化方式</th>\n",
       "      <th>テキストファイル文字集合</th>\n",
       "      <th>テキストファイル修正回数</th>\n",
       "      <th>XHTML/HTMLファイルURL</th>\n",
       "      <th>XHTML/HTMLファイル最終更新日</th>\n",
       "      <th>XHTML/HTMLファイル符号化方式</th>\n",
       "      <th>XHTML/HTMLファイル文字集合</th>\n",
       "      <th>XHTML/HTMLファイル修正回数</th>\n",
       "    </tr>\n",
       "  </thead>\n",
       "  <tbody>\n",
       "    <tr>\n",
       "      <th>0</th>\n",
       "      <td>59898</td>\n",
       "      <td>ウェストミンスター寺院</td>\n",
       "      <td>ウェストミンスターじいん</td>\n",
       "      <td>うえすとみんすたあしいん</td>\n",
       "      <td>NaN</td>\n",
       "      <td>NaN</td>\n",
       "      <td>NaN</td>\n",
       "      <td>NaN</td>\n",
       "      <td>NDC 933</td>\n",
       "      <td>新字新仮名</td>\n",
       "      <td>...</td>\n",
       "      <td>https://www.aozora.gr.jp/cards/001257/files/59...</td>\n",
       "      <td>2020-03-28</td>\n",
       "      <td>ShiftJIS</td>\n",
       "      <td>JIS X 0208</td>\n",
       "      <td>0.0</td>\n",
       "      <td>https://www.aozora.gr.jp/cards/001257/files/59...</td>\n",
       "      <td>2020-03-28</td>\n",
       "      <td>ShiftJIS</td>\n",
       "      <td>JIS X 0208</td>\n",
       "      <td>0.0</td>\n",
       "    </tr>\n",
       "    <tr>\n",
       "      <th>1</th>\n",
       "      <td>56078</td>\n",
       "      <td>駅伝馬車</td>\n",
       "      <td>えきでんばしゃ</td>\n",
       "      <td>えきてんはしや</td>\n",
       "      <td>NaN</td>\n",
       "      <td>NaN</td>\n",
       "      <td>NaN</td>\n",
       "      <td>NaN</td>\n",
       "      <td>NDC 933</td>\n",
       "      <td>旧字旧仮名</td>\n",
       "      <td>...</td>\n",
       "      <td>https://www.aozora.gr.jp/cards/001257/files/56...</td>\n",
       "      <td>2013-09-03</td>\n",
       "      <td>ShiftJIS</td>\n",
       "      <td>JIS X 0208</td>\n",
       "      <td>0.0</td>\n",
       "      <td>https://www.aozora.gr.jp/cards/001257/files/56...</td>\n",
       "      <td>2013-09-03</td>\n",
       "      <td>ShiftJIS</td>\n",
       "      <td>JIS X 0208</td>\n",
       "      <td>0.0</td>\n",
       "    </tr>\n",
       "  </tbody>\n",
       "</table>\n",
       "<p>2 rows × 55 columns</p>\n",
       "</div>"
      ],
      "text/plain": [
       "    作品ID          作品名         作品名読み        ソート用読み   副題 副題読み   原題   初出  \\\n",
       "0  59898  ウェストミンスター寺院  ウェストミンスターじいん  うえすとみんすたあしいん  NaN  NaN  NaN  NaN   \n",
       "1  56078         駅伝馬車       えきでんばしゃ       えきてんはしや  NaN  NaN  NaN  NaN   \n",
       "\n",
       "      分類番号 文字遣い種別  ...                                        テキストファイルURL  \\\n",
       "0  NDC 933  新字新仮名  ...  https://www.aozora.gr.jp/cards/001257/files/59...   \n",
       "1  NDC 933  旧字旧仮名  ...  https://www.aozora.gr.jp/cards/001257/files/56...   \n",
       "\n",
       "  テキストファイル最終更新日 テキストファイル符号化方式 テキストファイル文字集合  テキストファイル修正回数  \\\n",
       "0    2020-03-28      ShiftJIS   JIS X 0208           0.0   \n",
       "1    2013-09-03      ShiftJIS   JIS X 0208           0.0   \n",
       "\n",
       "                                   XHTML/HTMLファイルURL XHTML/HTMLファイル最終更新日  \\\n",
       "0  https://www.aozora.gr.jp/cards/001257/files/59...          2020-03-28   \n",
       "1  https://www.aozora.gr.jp/cards/001257/files/56...          2013-09-03   \n",
       "\n",
       "  XHTML/HTMLファイル符号化方式 XHTML/HTMLファイル文字集合 XHTML/HTMLファイル修正回数  \n",
       "0            ShiftJIS         JIS X 0208                0.0  \n",
       "1            ShiftJIS         JIS X 0208                0.0  \n",
       "\n",
       "[2 rows x 55 columns]"
      ]
     },
     "execution_count": 19,
     "metadata": {},
     "output_type": "execute_result"
    }
   ],
   "source": [
    "# pandasで読み取る\n",
    "df_all = pd.read_csv('data/list_person_all_extended_utf8.csv')\n",
    "df_all.head(2)"
   ]
  },
  {
   "cell_type": "code",
   "execution_count": 20,
   "metadata": {},
   "outputs": [
    {
     "data": {
      "text/plain": [
       "Index(['作品ID', '作品名', '作品名読み', 'ソート用読み', '副題', '副題読み', '原題', '初出', '分類番号',\n",
       "       '文字遣い種別', '作品著作権フラグ', '公開日', '最終更新日', '図書カードURL', '人物ID', '姓', '名',\n",
       "       '姓読み', '名読み', '姓読みソート用', '名読みソート用', '姓ローマ字', '名ローマ字', '役割フラグ', '生年月日',\n",
       "       '没年月日', '人物著作権フラグ', '底本名1', '底本出版社名1', '底本初版発行年1', '入力に使用した版1',\n",
       "       '校正に使用した版1', '底本の親本名1', '底本の親本出版社名1', '底本の親本初版発行年1', '底本名2', '底本出版社名2',\n",
       "       '底本初版発行年2', '入力に使用した版2', '校正に使用した版2', '底本の親本名2', '底本の親本出版社名2',\n",
       "       '底本の親本初版発行年2', '入力者', '校正者', 'テキストファイルURL', 'テキストファイル最終更新日',\n",
       "       'テキストファイル符号化方式', 'テキストファイル文字集合', 'テキストファイル修正回数', 'XHTML/HTMLファイルURL',\n",
       "       'XHTML/HTMLファイル最終更新日', 'XHTML/HTMLファイル符号化方式', 'XHTML/HTMLファイル文字集合',\n",
       "       'XHTML/HTMLファイル修正回数'],\n",
       "      dtype='object')"
      ]
     },
     "execution_count": 20,
     "metadata": {},
     "output_type": "execute_result"
    }
   ],
   "source": [
    "df_all.columns"
   ]
  },
  {
   "cell_type": "code",
   "execution_count": 28,
   "metadata": {},
   "outputs": [
    {
     "data": {
      "text/plain": [
       "array(['NDC 913', 'NDC K913', 'NDC 190 913', 'NDC 912 913',\n",
       "       'NDC K912 K913', 'NDC 796 913', 'NDC 210 913', 'NDC 022 913',\n",
       "       'NDC 756 913', 'NDC 147 387 913', 'NDC 779 913', 'NDC 289 913'],\n",
       "      dtype=object)"
      ]
     },
     "execution_count": 28,
     "metadata": {},
     "output_type": "execute_result"
    }
   ],
   "source": [
    "df_jp = df_all[df_all['分類番号'].str.endswith('913', na=False)]\n",
    "df_jp['分類番号'].unique()"
   ]
  },
  {
   "cell_type": "markdown",
   "metadata": {},
   "source": [
    "## 対象作品を選択"
   ]
  },
  {
   "cell_type": "code",
   "execution_count": 21,
   "metadata": {},
   "outputs": [
    {
     "data": {
      "text/html": [
       "<div>\n",
       "<style scoped>\n",
       "    .dataframe tbody tr th:only-of-type {\n",
       "        vertical-align: middle;\n",
       "    }\n",
       "\n",
       "    .dataframe tbody tr th {\n",
       "        vertical-align: top;\n",
       "    }\n",
       "\n",
       "    .dataframe thead th {\n",
       "        text-align: right;\n",
       "    }\n",
       "</style>\n",
       "<table border=\"1\" class=\"dataframe\">\n",
       "  <thead>\n",
       "    <tr style=\"text-align: right;\">\n",
       "      <th></th>\n",
       "      <th>作品ID</th>\n",
       "      <th>作品名</th>\n",
       "      <th>テキストファイルURL</th>\n",
       "    </tr>\n",
       "  </thead>\n",
       "  <tbody>\n",
       "    <tr>\n",
       "      <th>458</th>\n",
       "      <td>57302</td>\n",
       "      <td>フランダースの犬</td>\n",
       "      <td>https://www.aozora.gr.jp/cards/001044/files/57...</td>\n",
       "    </tr>\n",
       "    <tr>\n",
       "      <th>4331</th>\n",
       "      <td>4880</td>\n",
       "      <td>フランダースの犬</td>\n",
       "      <td>https://www.aozora.gr.jp/cards/001044/files/48...</td>\n",
       "    </tr>\n",
       "    <tr>\n",
       "      <th>10883</th>\n",
       "      <td>57302</td>\n",
       "      <td>フランダースの犬</td>\n",
       "      <td>https://www.aozora.gr.jp/cards/001044/files/57...</td>\n",
       "    </tr>\n",
       "    <tr>\n",
       "      <th>10884</th>\n",
       "      <td>4880</td>\n",
       "      <td>フランダースの犬</td>\n",
       "      <td>https://www.aozora.gr.jp/cards/001044/files/48...</td>\n",
       "    </tr>\n",
       "  </tbody>\n",
       "</table>\n",
       "</div>"
      ],
      "text/plain": [
       "        作品ID       作品名                                        テキストファイルURL\n",
       "458    57302  フランダースの犬  https://www.aozora.gr.jp/cards/001044/files/57...\n",
       "4331    4880  フランダースの犬  https://www.aozora.gr.jp/cards/001044/files/48...\n",
       "10883  57302  フランダースの犬  https://www.aozora.gr.jp/cards/001044/files/57...\n",
       "10884   4880  フランダースの犬  https://www.aozora.gr.jp/cards/001044/files/48..."
      ]
     },
     "execution_count": 21,
     "metadata": {},
     "output_type": "execute_result"
    }
   ],
   "source": [
    "columns = ['作品ID', '作品名', 'テキストファイルURL']\n",
    "df_all[df_all['作品名']=='フランダースの犬'][columns]"
   ]
  },
  {
   "cell_type": "code",
   "execution_count": 48,
   "metadata": {},
   "outputs": [
    {
     "data": {
      "text/plain": [
       "{'id': 1793, 'fname': 'oshie'}"
      ]
     },
     "execution_count": 48,
     "metadata": {},
     "output_type": "execute_result"
    }
   ],
   "source": [
    "# 比較用の作品\n",
    "# TARGET_DIC = {'id':4331, 'fname': 'nero'}\n",
    "# TARGET_DIC = {'id':15267, 'fname': 'ginga'}\n",
    "TARGET_DIC = {'id':1793, 'fname': 'oshie'}\n",
    "\n",
    "TARGET_DIC"
   ]
  },
  {
   "cell_type": "code",
   "execution_count": 49,
   "metadata": {},
   "outputs": [
    {
     "data": {
      "text/plain": [
       "対象                                                          True\n",
       "人物ID                                                        1779\n",
       "氏名                                                        江戸川 乱歩\n",
       "読み                                                      えどがわ らんぽ\n",
       "作品ID                                                       56645\n",
       "作品名                                                      押絵と旅する男\n",
       "副題                                                           NaN\n",
       "作品名読み                                                おしえとたびするおとこ\n",
       "図書カードURL       https://www.aozora.gr.jp/cards/001779/card5664...\n",
       "テキストファイルURL    https://www.aozora.gr.jp/cards/001779/files/56...\n",
       "テキストファイルパス                                                      \n",
       "備考                                                              \n",
       "Name: 1793, dtype: object"
      ]
     },
     "execution_count": 49,
     "metadata": {},
     "output_type": "execute_result"
    }
   ],
   "source": [
    "df = select_features(df_all)\n",
    "df.iloc[TARGET_DIC['id']]"
   ]
  },
  {
   "cell_type": "code",
   "execution_count": 50,
   "metadata": {},
   "outputs": [
    {
     "data": {
      "text/plain": [
       "('https://www.aozora.gr.jp/cards/001779/files/56645_ruby_58194.zip',\n",
       " '押絵と旅する男',\n",
       " 'data/cards',\n",
       " 'data/bert-base-japanese-v3-wrime-sentiment',\n",
       " 'data/cards/56645_ruby_58194.zip',\n",
       " 'oshie_org.csv',\n",
       " 'oshie_edit.csv',\n",
       " 'oshie_score.csv')"
      ]
     },
     "execution_count": 50,
     "metadata": {},
     "output_type": "execute_result"
    }
   ],
   "source": [
    "# 対象作品\n",
    "target_file = df.iloc[TARGET_DIC['id']]['テキストファイルURL']\n",
    "target_work_name = df.iloc[TARGET_DIC['id']]['作品名']\n",
    "org_dir = 'data/cards'\n",
    "score_dir = f'data/{SCORE_FOLDER}'\n",
    "zip_path = f\"{org_dir}/{target_file.split('/')[-1]}\"\n",
    "org_file_name = f\"{TARGET_DIC['fname']}_org.csv\"     # 要入力\n",
    "edit_file_name = f\"{TARGET_DIC['fname']}_edit.csv\"   # 要入力\n",
    "score_file_name = f\"{TARGET_DIC['fname']}_score.csv\" # 要入力\n",
    "\n",
    "target_file, target_work_name, org_dir, score_dir, zip_path, org_file_name, edit_file_name, score_file_name"
   ]
  },
  {
   "cell_type": "code",
   "execution_count": 51,
   "metadata": {},
   "outputs": [
    {
     "name": "stdout",
     "output_type": "stream",
     "text": [
      "-rw-r--r-- 1 root root 19001 Aug 13 10:39 data/cards/56645_ruby_58194.zip\n"
     ]
    }
   ],
   "source": [
    "# Zipダウンロード\n",
    "download_file(target_file, zip_path)\n",
    "!ls -la $zip_path"
   ]
  },
  {
   "cell_type": "code",
   "execution_count": 52,
   "metadata": {},
   "outputs": [
    {
     "name": "stdout",
     "output_type": "stream",
     "text": [
      "read data/cards/oshie_org.csv\n"
     ]
    },
    {
     "data": {
      "text/html": [
       "<div>\n",
       "<style scoped>\n",
       "    .dataframe tbody tr th:only-of-type {\n",
       "        vertical-align: middle;\n",
       "    }\n",
       "\n",
       "    .dataframe tbody tr th {\n",
       "        vertical-align: top;\n",
       "    }\n",
       "\n",
       "    .dataframe thead th {\n",
       "        text-align: right;\n",
       "    }\n",
       "</style>\n",
       "<table border=\"1\" class=\"dataframe\">\n",
       "  <thead>\n",
       "    <tr style=\"text-align: right;\">\n",
       "      <th></th>\n",
       "      <th>text</th>\n",
       "    </tr>\n",
       "  </thead>\n",
       "  <tbody>\n",
       "    <tr>\n",
       "      <th>0</th>\n",
       "      <td>押絵と旅する男</td>\n",
       "    </tr>\n",
       "    <tr>\n",
       "      <th>1</th>\n",
       "      <td>江戸川乱歩</td>\n",
       "    </tr>\n",
       "    <tr>\n",
       "      <th>2</th>\n",
       "      <td>----------------------------------------------...</td>\n",
       "    </tr>\n",
       "    <tr>\n",
       "      <th>3</th>\n",
       "      <td>【テキスト中に現れる記号について】</td>\n",
       "    </tr>\n",
       "    <tr>\n",
       "      <th>4</th>\n",
       "      <td>《》：ルビ</td>\n",
       "    </tr>\n",
       "  </tbody>\n",
       "</table>\n",
       "</div>"
      ],
      "text/plain": [
       "                                                text\n",
       "0                                            押絵と旅する男\n",
       "1                                              江戸川乱歩\n",
       "2  ----------------------------------------------...\n",
       "3                                  【テキスト中に現れる記号について】\n",
       "4                                              《》：ルビ"
      ]
     },
     "execution_count": 52,
     "metadata": {},
     "output_type": "execute_result"
    }
   ],
   "source": [
    "# Zip読み込み\n",
    "target_df = save_text(zip_path, org_dir, org_file_name)\n",
    "target_df.head()"
   ]
  },
  {
   "cell_type": "markdown",
   "metadata": {},
   "source": [
    "## データクレンジング"
   ]
  },
  {
   "cell_type": "code",
   "execution_count": 53,
   "metadata": {},
   "outputs": [
    {
     "data": {
      "text/html": [
       "<div>\n",
       "<style scoped>\n",
       "    .dataframe tbody tr th:only-of-type {\n",
       "        vertical-align: middle;\n",
       "    }\n",
       "\n",
       "    .dataframe tbody tr th {\n",
       "        vertical-align: top;\n",
       "    }\n",
       "\n",
       "    .dataframe thead th {\n",
       "        text-align: right;\n",
       "    }\n",
       "</style>\n",
       "<table border=\"1\" class=\"dataframe\">\n",
       "  <thead>\n",
       "    <tr style=\"text-align: right;\">\n",
       "      <th></th>\n",
       "      <th>type</th>\n",
       "      <th>text</th>\n",
       "    </tr>\n",
       "  </thead>\n",
       "  <tbody>\n",
       "    <tr>\n",
       "      <th>0</th>\n",
       "      <td>本文</td>\n",
       "      <td>この話が私の夢か私の一時的狂気の幻でなかったならば、あの押絵と旅をしていた男こそ狂人であった...</td>\n",
       "    </tr>\n",
       "    <tr>\n",
       "      <th>1</th>\n",
       "      <td>本文</td>\n",
       "      <td>だが、夢が時として、どこかこの世界と喰違った別の世界を、チラリと覗かせてくれる様に、又狂人が...</td>\n",
       "    </tr>\n",
       "    <tr>\n",
       "      <th>2</th>\n",
       "      <td>本文</td>\n",
       "      <td>いつとも知れぬ、ある暖かい薄曇った日のことである。</td>\n",
       "    </tr>\n",
       "    <tr>\n",
       "      <th>3</th>\n",
       "      <td>本文</td>\n",
       "      <td>その時、私は態々魚津へ蜃気楼を見に出掛けた帰り途であった。</td>\n",
       "    </tr>\n",
       "    <tr>\n",
       "      <th>4</th>\n",
       "      <td>本文</td>\n",
       "      <td>私がこの話をすると、時々、お前は魚津なんかへ行ったことはないじゃないかと、親しい友達に突っ込...</td>\n",
       "    </tr>\n",
       "  </tbody>\n",
       "</table>\n",
       "</div>"
      ],
      "text/plain": [
       "  type                                               text\n",
       "0   本文  この話が私の夢か私の一時的狂気の幻でなかったならば、あの押絵と旅をしていた男こそ狂人であった...\n",
       "1   本文  だが、夢が時として、どこかこの世界と喰違った別の世界を、チラリと覗かせてくれる様に、又狂人が...\n",
       "2   本文                          いつとも知れぬ、ある暖かい薄曇った日のことである。\n",
       "3   本文                      その時、私は態々魚津へ蜃気楼を見に出掛けた帰り途であった。\n",
       "4   本文  私がこの話をすると、時々、お前は魚津なんかへ行ったことはないじゃないかと、親しい友達に突っ込..."
      ]
     },
     "execution_count": 53,
     "metadata": {},
     "output_type": "execute_result"
    }
   ],
   "source": [
    "author_name = df.iloc[15267]['氏名'].replace(' ', '')\n",
    "# 本文取得\n",
    "body_df = get_text_body(target_df, author_name)\n",
    "# 句点「。」で分割\n",
    "body_df2 = split_kuten(body_df)\n",
    "# type列追加\n",
    "body_df3 = add_type_column(body_df2)\n",
    "# 青空文庫の書式を削除\n",
    "body_df4 = remove_aozora_format(body_df3)\n",
    "# インデックスをリセット\n",
    "body_df5 = reset_index(body_df4)\n",
    "body_df5.head()"
   ]
  },
  {
   "cell_type": "code",
   "execution_count": 54,
   "metadata": {},
   "outputs": [
    {
     "name": "stdout",
     "output_type": "stream",
     "text": [
      "-rw-r--r-- 1 root root 54596 Aug 13 10:39 data/cards/oshie_edit.csv\n"
     ]
    }
   ],
   "source": [
    "# 編集後のファイルをCSVとして保存\n",
    "file_path = f'{org_dir}/{edit_file_name}'\n",
    "body_df5.to_csv(file_path, index=False)\n",
    "!ls -la $file_path"
   ]
  },
  {
   "cell_type": "markdown",
   "metadata": {},
   "source": [
    "## スコア取得"
   ]
  },
  {
   "cell_type": "code",
   "execution_count": 55,
   "metadata": {},
   "outputs": [
    {
     "name": "stderr",
     "output_type": "stream",
     "text": [
      "/usr/local/lib/python3.8/dist-packages/torch/nn/modules/module.py:1383: UserWarning: positional arguments and argument \"destination\" are deprecated. nn.Module.state_dict will not accept them in the future. Refer to https://pytorch.org/docs/master/generated/torch.nn.Module.html#torch.nn.Module.state_dict for details.\n",
      "  warnings.warn(\n"
     ]
    }
   ],
   "source": [
    "# トークナイザーとモデルを取得\n",
    "tokenizer = AutoTokenizer.from_pretrained(TOKENIZER_NAME)\n",
    "model = AutoModelForSequenceClassification.from_pretrained(MODEL_NAME)"
   ]
  },
  {
   "cell_type": "code",
   "execution_count": 56,
   "metadata": {},
   "outputs": [
    {
     "data": {
      "application/vnd.jupyter.widget-view+json": {
       "model_id": "fba4736749574cc1807068e08303ab43",
       "version_major": 2,
       "version_minor": 0
      },
      "text/plain": [
       "  0%|          | 0/323 [00:00<?, ?it/s]"
      ]
     },
     "metadata": {},
     "output_type": "display_data"
    }
   ],
   "source": [
    "# スコア取得\n",
    "score_df = get_novel_score(tokenizer, model, file_path)"
   ]
  },
  {
   "cell_type": "code",
   "execution_count": 57,
   "metadata": {},
   "outputs": [
    {
     "name": "stdout",
     "output_type": "stream",
     "text": [
      "-rw-r--r-- 1 root root 61928 Aug 13 10:39 data/bert-base-japanese-v3-wrime-sentiment/oshie_score.csv\n"
     ]
    }
   ],
   "source": [
    "# スコアをCSVで保存\n",
    "score_path = f'{score_dir}/{score_file_name}'\n",
    "score_df.to_csv(score_path)\n",
    "!ls -la $score_path"
   ]
  },
  {
   "cell_type": "code",
   "execution_count": 58,
   "metadata": {},
   "outputs": [
    {
     "data": {
      "text/html": [
       "<div>\n",
       "<style scoped>\n",
       "    .dataframe tbody tr th:only-of-type {\n",
       "        vertical-align: middle;\n",
       "    }\n",
       "\n",
       "    .dataframe tbody tr th {\n",
       "        vertical-align: top;\n",
       "    }\n",
       "\n",
       "    .dataframe thead th {\n",
       "        text-align: right;\n",
       "    }\n",
       "</style>\n",
       "<table border=\"1\" class=\"dataframe\">\n",
       "  <thead>\n",
       "    <tr style=\"text-align: right;\">\n",
       "      <th></th>\n",
       "      <th>type</th>\n",
       "      <th>text</th>\n",
       "      <th>logit_score</th>\n",
       "      <th>pred_score</th>\n",
       "    </tr>\n",
       "  </thead>\n",
       "  <tbody>\n",
       "    <tr>\n",
       "      <th>0</th>\n",
       "      <td>本文</td>\n",
       "      <td>この話が私の夢か私の一時的狂気の幻でなかったならば、あの押絵と旅をしていた男こそ狂人であった...</td>\n",
       "      <td>0.000000</td>\n",
       "      <td>0.000000</td>\n",
       "    </tr>\n",
       "    <tr>\n",
       "      <th>1</th>\n",
       "      <td>本文</td>\n",
       "      <td>だが、夢が時として、どこかこの世界と喰違った別の世界を、チラリと覗かせてくれる様に、又狂人が...</td>\n",
       "      <td>0.000000</td>\n",
       "      <td>0.000000</td>\n",
       "    </tr>\n",
       "    <tr>\n",
       "      <th>2</th>\n",
       "      <td>本文</td>\n",
       "      <td>いつとも知れぬ、ある暖かい薄曇った日のことである。</td>\n",
       "      <td>0.000000</td>\n",
       "      <td>0.000000</td>\n",
       "    </tr>\n",
       "    <tr>\n",
       "      <th>3</th>\n",
       "      <td>本文</td>\n",
       "      <td>その時、私は態々魚津へ蜃気楼を見に出掛けた帰り途であった。</td>\n",
       "      <td>0.000000</td>\n",
       "      <td>0.000000</td>\n",
       "    </tr>\n",
       "    <tr>\n",
       "      <th>4</th>\n",
       "      <td>本文</td>\n",
       "      <td>私がこの話をすると、時々、お前は魚津なんかへ行ったことはないじゃないかと、親しい友達に突っ込...</td>\n",
       "      <td>-1.545100</td>\n",
       "      <td>-0.648484</td>\n",
       "    </tr>\n",
       "    <tr>\n",
       "      <th>...</th>\n",
       "      <td>...</td>\n",
       "      <td>...</td>\n",
       "      <td>...</td>\n",
       "      <td>...</td>\n",
       "    </tr>\n",
       "    <tr>\n",
       "      <th>318</th>\n",
       "      <td>本文</td>\n",
       "      <td>汽車は相も変らず、ゴトンゴトンと鈍い音を立てて、闇の中を走っていた。</td>\n",
       "      <td>-1.258882</td>\n",
       "      <td>-0.507716</td>\n",
       "    </tr>\n",
       "    <tr>\n",
       "      <th>319</th>\n",
       "      <td>本文</td>\n",
       "      <td>十分ばかりそうしていると、車輪の音がのろくなって、窓の外にチラチラと、二つ三つの燈火が見え、...</td>\n",
       "      <td>-1.404940</td>\n",
       "      <td>-0.562575</td>\n",
       "    </tr>\n",
       "    <tr>\n",
       "      <th>320</th>\n",
       "      <td>本文</td>\n",
       "      <td>駅員がたった一人、ぽっつりと、プラットフォームに立っているのが見えた。</td>\n",
       "      <td>0.000000</td>\n",
       "      <td>0.000000</td>\n",
       "    </tr>\n",
       "    <tr>\n",
       "      <th>321</th>\n",
       "      <td>本文</td>\n",
       "      <td>「ではお先へ、私は一晩ここの親戚へ泊りますので」</td>\n",
       "      <td>0.000000</td>\n",
       "      <td>0.000000</td>\n",
       "    </tr>\n",
       "    <tr>\n",
       "      <th>322</th>\n",
       "      <td>本文</td>\n",
       "      <td>老人は額の包みを抱てヒョイと立上り、そんな挨拶を残して、車の外へ出て行ったが、窓から見ている...</td>\n",
       "      <td>0.000000</td>\n",
       "      <td>0.000000</td>\n",
       "    </tr>\n",
       "  </tbody>\n",
       "</table>\n",
       "<p>323 rows × 4 columns</p>\n",
       "</div>"
      ],
      "text/plain": [
       "    type                                               text  logit_score  \\\n",
       "0     本文  この話が私の夢か私の一時的狂気の幻でなかったならば、あの押絵と旅をしていた男こそ狂人であった...     0.000000   \n",
       "1     本文  だが、夢が時として、どこかこの世界と喰違った別の世界を、チラリと覗かせてくれる様に、又狂人が...     0.000000   \n",
       "2     本文                          いつとも知れぬ、ある暖かい薄曇った日のことである。     0.000000   \n",
       "3     本文                      その時、私は態々魚津へ蜃気楼を見に出掛けた帰り途であった。     0.000000   \n",
       "4     本文  私がこの話をすると、時々、お前は魚津なんかへ行ったことはないじゃないかと、親しい友達に突っ込...    -1.545100   \n",
       "..   ...                                                ...          ...   \n",
       "318   本文                 汽車は相も変らず、ゴトンゴトンと鈍い音を立てて、闇の中を走っていた。    -1.258882   \n",
       "319   本文  十分ばかりそうしていると、車輪の音がのろくなって、窓の外にチラチラと、二つ三つの燈火が見え、...    -1.404940   \n",
       "320   本文                駅員がたった一人、ぽっつりと、プラットフォームに立っているのが見えた。     0.000000   \n",
       "321   本文                           「ではお先へ、私は一晩ここの親戚へ泊りますので」     0.000000   \n",
       "322   本文  老人は額の包みを抱てヒョイと立上り、そんな挨拶を残して、車の外へ出て行ったが、窓から見ている...     0.000000   \n",
       "\n",
       "     pred_score  \n",
       "0      0.000000  \n",
       "1      0.000000  \n",
       "2      0.000000  \n",
       "3      0.000000  \n",
       "4     -0.648484  \n",
       "..          ...  \n",
       "318   -0.507716  \n",
       "319   -0.562575  \n",
       "320    0.000000  \n",
       "321    0.000000  \n",
       "322    0.000000  \n",
       "\n",
       "[323 rows x 4 columns]"
      ]
     },
     "execution_count": 58,
     "metadata": {},
     "output_type": "execute_result"
    }
   ],
   "source": [
    "score_df"
   ]
  },
  {
   "cell_type": "markdown",
   "metadata": {},
   "source": [
    "## 感情曲線表示"
   ]
  },
  {
   "cell_type": "code",
   "execution_count": 59,
   "metadata": {},
   "outputs": [],
   "source": [
    "window_size = int(score_df.shape[0] / 5)\n",
    "logit_score_mean = get_score_mean(score_df['logit_score'], window_size=window_size)\n",
    "logit_score_norm = score_normalize(logit_score_mean)"
   ]
  },
  {
   "cell_type": "code",
   "execution_count": 60,
   "metadata": {},
   "outputs": [
    {
     "data": {
      "text/plain": [
       "[<matplotlib.lines.Line2D at 0x7f9125f427c0>]"
      ]
     },
     "execution_count": 60,
     "metadata": {},
     "output_type": "execute_result"
    },
    {
     "data": {
      "image/png": "[encoded data removed]",
      "text/plain": [
       "<Figure size 720x504 with 1 Axes>"
      ]
     },
     "metadata": {
      "needs_background": "light"
     },
     "output_type": "display_data"
    }
   ],
   "source": [
    "plt.figure(figsize=(10, 7))\n",
    "plt.title(df.iloc[TARGET_DIC['id']]['作品名'], fontsize=20)\n",
    "plt.plot(logit_score_norm)"
   ]
  },
  {
   "cell_type": "code",
   "execution_count": null,
   "metadata": {},
   "outputs": [],
   "source": []
  }
 ],
 "metadata": {
  "kernelspec": {
   "display_name": "Python 3",
   "language": "python",
   "name": "python3"
  },
  "language_info": {
   "codemirror_mode": {
    "name": "ipython",
    "version": 3
   },
   "file_extension": ".py",
   "mimetype": "text/x-python",
   "name": "python",
   "nbconvert_exporter": "python",
   "pygments_lexer": "ipython3",
   "version": "3.8.10"
  },
  "orig_nbformat": 4
 },
 "nbformat": 4,
 "nbformat_minor": 2
}
