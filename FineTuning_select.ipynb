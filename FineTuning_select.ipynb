{
 "cells": [
  {
   "cell_type": "markdown",
   "metadata": {},
   "source": [
    "# パラメータの組み合わせ選択"
   ]
  },
  {
   "cell_type": "code",
   "execution_count": 2,
   "metadata": {},
   "outputs": [],
   "source": [
    "import pandas as pd"
   ]
  },
  {
   "cell_type": "code",
   "execution_count": 3,
   "metadata": {},
   "outputs": [
    {
     "name": "stdout",
     "output_type": "stream",
     "text": [
      "gpu is available\n"
     ]
    }
   ],
   "source": [
    "import torch\n",
    "# GPUが使用可能か判断\n",
    "if torch.cuda.is_available():\n",
    "    print('gpu is available')\n",
    "else:\n",
    "    raise Exception('gpu is NOT available')"
   ]
  },
  {
   "cell_type": "markdown",
   "metadata": {},
   "source": [
    "## １回目"
   ]
  },
  {
   "cell_type": "code",
   "execution_count": 4,
   "metadata": {},
   "outputs": [],
   "source": [
    "result_list1 = [\n",
    "    'result/result_20230831_213600/result.csv',\n",
    "    'result/result_20230831_224140/result.csv',\n",
    "    'result/result_20230831_234809/result.csv',\n",
    "    'result/result_20230901_005502/result.csv',\n",
    "    'result/result_20230901_015959/result.csv',\n",
    "]"
   ]
  },
  {
   "cell_type": "code",
   "execution_count": 5,
   "metadata": {},
   "outputs": [],
   "source": [
    "def get_finetuning_result(results):\n",
    "    result_df = []\n",
    "    for result in results:\n",
    "        df = pd.read_csv(result, index_col=0)\n",
    "        result_df.append(df)\n",
    "    # 結果をマージ\n",
    "    return pd.concat([df for df in result_df], axis=0)"
   ]
  },
  {
   "cell_type": "code",
   "execution_count": 6,
   "metadata": {},
   "outputs": [],
   "source": [
    "# result_df = []\n",
    "# for result in result_list:\n",
    "#     df = pd.read_csv(result, index_col=0)\n",
    "#     result_df.append(df)"
   ]
  },
  {
   "cell_type": "code",
   "execution_count": 7,
   "metadata": {},
   "outputs": [],
   "source": [
    "# merge_df = pd.concat([df for df in result_df], axis=0)\n",
    "# merge_df\n",
    "merge_df1 = get_finetuning_result(result_list1)"
   ]
  },
  {
   "cell_type": "code",
   "execution_count": 8,
   "metadata": {},
   "outputs": [
    {
     "data": {
      "text/html": [
       "<div>\n",
       "<style scoped>\n",
       "    .dataframe tbody tr th:only-of-type {\n",
       "        vertical-align: middle;\n",
       "    }\n",
       "\n",
       "    .dataframe tbody tr th {\n",
       "        vertical-align: top;\n",
       "    }\n",
       "\n",
       "    .dataframe thead th {\n",
       "        text-align: right;\n",
       "    }\n",
       "</style>\n",
       "<table border=\"1\" class=\"dataframe\">\n",
       "  <thead>\n",
       "    <tr style=\"text-align: right;\">\n",
       "      <th></th>\n",
       "      <th></th>\n",
       "      <th></th>\n",
       "      <th></th>\n",
       "      <th>coef</th>\n",
       "    </tr>\n",
       "    <tr>\n",
       "      <th>type</th>\n",
       "      <th>lr</th>\n",
       "      <th>batch</th>\n",
       "      <th>epoch</th>\n",
       "      <th></th>\n",
       "    </tr>\n",
       "  </thead>\n",
       "  <tbody>\n",
       "    <tr>\n",
       "      <th rowspan=\"28\" valign=\"top\">constant</th>\n",
       "      <th>0.000005</th>\n",
       "      <th>16</th>\n",
       "      <th>2</th>\n",
       "      <td>-5</td>\n",
       "    </tr>\n",
       "    <tr>\n",
       "      <th rowspan=\"3\" valign=\"top\">0.000008</th>\n",
       "      <th>32</th>\n",
       "      <th>2</th>\n",
       "      <td>-3</td>\n",
       "    </tr>\n",
       "    <tr>\n",
       "      <th>128</th>\n",
       "      <th>2</th>\n",
       "      <td>-3</td>\n",
       "    </tr>\n",
       "    <tr>\n",
       "      <th>256</th>\n",
       "      <th>2</th>\n",
       "      <td>-3</td>\n",
       "    </tr>\n",
       "    <tr>\n",
       "      <th rowspan=\"4\" valign=\"top\">0.000010</th>\n",
       "      <th>16</th>\n",
       "      <th>2</th>\n",
       "      <td>-3</td>\n",
       "    </tr>\n",
       "    <tr>\n",
       "      <th>64</th>\n",
       "      <th>2</th>\n",
       "      <td>-1</td>\n",
       "    </tr>\n",
       "    <tr>\n",
       "      <th>128</th>\n",
       "      <th>2</th>\n",
       "      <td>-5</td>\n",
       "    </tr>\n",
       "    <tr>\n",
       "      <th>256</th>\n",
       "      <th>2</th>\n",
       "      <td>-5</td>\n",
       "    </tr>\n",
       "    <tr>\n",
       "      <th rowspan=\"5\" valign=\"top\">0.000013</th>\n",
       "      <th>16</th>\n",
       "      <th>2</th>\n",
       "      <td>-5</td>\n",
       "    </tr>\n",
       "    <tr>\n",
       "      <th>32</th>\n",
       "      <th>2</th>\n",
       "      <td>-1</td>\n",
       "    </tr>\n",
       "    <tr>\n",
       "      <th>64</th>\n",
       "      <th>2</th>\n",
       "      <td>-3</td>\n",
       "    </tr>\n",
       "    <tr>\n",
       "      <th>128</th>\n",
       "      <th>2</th>\n",
       "      <td>-1</td>\n",
       "    </tr>\n",
       "    <tr>\n",
       "      <th>256</th>\n",
       "      <th>2</th>\n",
       "      <td>-5</td>\n",
       "    </tr>\n",
       "    <tr>\n",
       "      <th rowspan=\"5\" valign=\"top\">0.000015</th>\n",
       "      <th>16</th>\n",
       "      <th>2</th>\n",
       "      <td>-5</td>\n",
       "    </tr>\n",
       "    <tr>\n",
       "      <th>32</th>\n",
       "      <th>2</th>\n",
       "      <td>-1</td>\n",
       "    </tr>\n",
       "    <tr>\n",
       "      <th>64</th>\n",
       "      <th>2</th>\n",
       "      <td>-5</td>\n",
       "    </tr>\n",
       "    <tr>\n",
       "      <th>128</th>\n",
       "      <th>2</th>\n",
       "      <td>-5</td>\n",
       "    </tr>\n",
       "    <tr>\n",
       "      <th>256</th>\n",
       "      <th>2</th>\n",
       "      <td>-3</td>\n",
       "    </tr>\n",
       "    <tr>\n",
       "      <th rowspan=\"5\" valign=\"top\">0.000017</th>\n",
       "      <th>16</th>\n",
       "      <th>2</th>\n",
       "      <td>-5</td>\n",
       "    </tr>\n",
       "    <tr>\n",
       "      <th>32</th>\n",
       "      <th>2</th>\n",
       "      <td>-1</td>\n",
       "    </tr>\n",
       "    <tr>\n",
       "      <th>64</th>\n",
       "      <th>2</th>\n",
       "      <td>-3</td>\n",
       "    </tr>\n",
       "    <tr>\n",
       "      <th>128</th>\n",
       "      <th>2</th>\n",
       "      <td>-3</td>\n",
       "    </tr>\n",
       "    <tr>\n",
       "      <th>256</th>\n",
       "      <th>2</th>\n",
       "      <td>-3</td>\n",
       "    </tr>\n",
       "    <tr>\n",
       "      <th rowspan=\"5\" valign=\"top\">0.000020</th>\n",
       "      <th>16</th>\n",
       "      <th>2</th>\n",
       "      <td>-3</td>\n",
       "    </tr>\n",
       "    <tr>\n",
       "      <th>32</th>\n",
       "      <th>2</th>\n",
       "      <td>-1</td>\n",
       "    </tr>\n",
       "    <tr>\n",
       "      <th>64</th>\n",
       "      <th>2</th>\n",
       "      <td>-1</td>\n",
       "    </tr>\n",
       "    <tr>\n",
       "      <th>128</th>\n",
       "      <th>2</th>\n",
       "      <td>-3</td>\n",
       "    </tr>\n",
       "    <tr>\n",
       "      <th>256</th>\n",
       "      <th>2</th>\n",
       "      <td>-5</td>\n",
       "    </tr>\n",
       "  </tbody>\n",
       "</table>\n",
       "</div>"
      ],
      "text/plain": [
       "                               coef\n",
       "type     lr       batch epoch      \n",
       "constant 0.000005 16    2        -5\n",
       "         0.000008 32    2        -3\n",
       "                  128   2        -3\n",
       "                  256   2        -3\n",
       "         0.000010 16    2        -3\n",
       "                  64    2        -1\n",
       "                  128   2        -5\n",
       "                  256   2        -5\n",
       "         0.000013 16    2        -5\n",
       "                  32    2        -1\n",
       "                  64    2        -3\n",
       "                  128   2        -1\n",
       "                  256   2        -5\n",
       "         0.000015 16    2        -5\n",
       "                  32    2        -1\n",
       "                  64    2        -5\n",
       "                  128   2        -5\n",
       "                  256   2        -3\n",
       "         0.000017 16    2        -5\n",
       "                  32    2        -1\n",
       "                  64    2        -3\n",
       "                  128   2        -3\n",
       "                  256   2        -3\n",
       "         0.000020 16    2        -3\n",
       "                  32    2        -1\n",
       "                  64    2        -1\n",
       "                  128   2        -3\n",
       "                  256   2        -5"
      ]
     },
     "execution_count": 8,
     "metadata": {},
     "output_type": "execute_result"
    }
   ],
   "source": [
    "groupby_df1 = merge_df1.groupby(['type', 'lr', 'batch', 'epoch']).sum()\n",
    "groupby_df1[groupby_df1['coef']<0]"
   ]
  },
  {
   "cell_type": "code",
   "execution_count": 9,
   "metadata": {},
   "outputs": [
    {
     "data": {
      "text/plain": [
       "(28, 1)"
      ]
     },
     "execution_count": 9,
     "metadata": {},
     "output_type": "execute_result"
    }
   ],
   "source": [
    "groupby_df1[groupby_df1['coef']<0].shape"
   ]
  },
  {
   "cell_type": "markdown",
   "metadata": {},
   "source": [
    "## ２回目"
   ]
  },
  {
   "cell_type": "code",
   "execution_count": 10,
   "metadata": {},
   "outputs": [],
   "source": [
    "result_list2 = [\n",
    "    'result/result_20230901_091113/result.csv',\n",
    "    'result/result_20230901_125314/result.csv',\n",
    "    'result/result_20230901_163403/result.csv',\n",
    "    'result/result_20230901_201302/result.csv',\n",
    "    'result/result_20230901_235154/result.csv',\n",
    "]"
   ]
  },
  {
   "cell_type": "code",
   "execution_count": 11,
   "metadata": {},
   "outputs": [],
   "source": [
    "merge_df2 = get_finetuning_result(result_list2)"
   ]
  },
  {
   "cell_type": "code",
   "execution_count": 12,
   "metadata": {},
   "outputs": [
    {
     "data": {
      "text/html": [
       "<div>\n",
       "<style scoped>\n",
       "    .dataframe tbody tr th:only-of-type {\n",
       "        vertical-align: middle;\n",
       "    }\n",
       "\n",
       "    .dataframe tbody tr th {\n",
       "        vertical-align: top;\n",
       "    }\n",
       "\n",
       "    .dataframe thead th {\n",
       "        text-align: right;\n",
       "    }\n",
       "</style>\n",
       "<table border=\"1\" class=\"dataframe\">\n",
       "  <thead>\n",
       "    <tr style=\"text-align: right;\">\n",
       "      <th></th>\n",
       "      <th></th>\n",
       "      <th></th>\n",
       "      <th></th>\n",
       "      <th>coef</th>\n",
       "    </tr>\n",
       "    <tr>\n",
       "      <th>type</th>\n",
       "      <th>lr</th>\n",
       "      <th>batch</th>\n",
       "      <th>epoch</th>\n",
       "      <th></th>\n",
       "    </tr>\n",
       "  </thead>\n",
       "  <tbody>\n",
       "    <tr>\n",
       "      <th rowspan=\"15\" valign=\"top\">constant</th>\n",
       "      <th rowspan=\"3\" valign=\"top\">0.000010</th>\n",
       "      <th>16</th>\n",
       "      <th>10</th>\n",
       "      <td>-3</td>\n",
       "    </tr>\n",
       "    <tr>\n",
       "      <th>128</th>\n",
       "      <th>10</th>\n",
       "      <td>-1</td>\n",
       "    </tr>\n",
       "    <tr>\n",
       "      <th>256</th>\n",
       "      <th>10</th>\n",
       "      <td>-5</td>\n",
       "    </tr>\n",
       "    <tr>\n",
       "      <th rowspan=\"3\" valign=\"top\">0.000013</th>\n",
       "      <th>64</th>\n",
       "      <th>10</th>\n",
       "      <td>-1</td>\n",
       "    </tr>\n",
       "    <tr>\n",
       "      <th>128</th>\n",
       "      <th>10</th>\n",
       "      <td>-1</td>\n",
       "    </tr>\n",
       "    <tr>\n",
       "      <th>256</th>\n",
       "      <th>10</th>\n",
       "      <td>-3</td>\n",
       "    </tr>\n",
       "    <tr>\n",
       "      <th rowspan=\"3\" valign=\"top\">0.000015</th>\n",
       "      <th>16</th>\n",
       "      <th>10</th>\n",
       "      <td>-3</td>\n",
       "    </tr>\n",
       "    <tr>\n",
       "      <th>32</th>\n",
       "      <th>10</th>\n",
       "      <td>-3</td>\n",
       "    </tr>\n",
       "    <tr>\n",
       "      <th>256</th>\n",
       "      <th>10</th>\n",
       "      <td>-3</td>\n",
       "    </tr>\n",
       "    <tr>\n",
       "      <th rowspan=\"3\" valign=\"top\">0.000017</th>\n",
       "      <th>16</th>\n",
       "      <th>10</th>\n",
       "      <td>-5</td>\n",
       "    </tr>\n",
       "    <tr>\n",
       "      <th>32</th>\n",
       "      <th>10</th>\n",
       "      <td>-1</td>\n",
       "    </tr>\n",
       "    <tr>\n",
       "      <th>256</th>\n",
       "      <th>10</th>\n",
       "      <td>-5</td>\n",
       "    </tr>\n",
       "    <tr>\n",
       "      <th rowspan=\"3\" valign=\"top\">0.000020</th>\n",
       "      <th>16</th>\n",
       "      <th>10</th>\n",
       "      <td>-5</td>\n",
       "    </tr>\n",
       "    <tr>\n",
       "      <th>32</th>\n",
       "      <th>10</th>\n",
       "      <td>-1</td>\n",
       "    </tr>\n",
       "    <tr>\n",
       "      <th>256</th>\n",
       "      <th>10</th>\n",
       "      <td>-3</td>\n",
       "    </tr>\n",
       "  </tbody>\n",
       "</table>\n",
       "</div>"
      ],
      "text/plain": [
       "                               coef\n",
       "type     lr       batch epoch      \n",
       "constant 0.000010 16    10       -3\n",
       "                  128   10       -1\n",
       "                  256   10       -5\n",
       "         0.000013 64    10       -1\n",
       "                  128   10       -1\n",
       "                  256   10       -3\n",
       "         0.000015 16    10       -3\n",
       "                  32    10       -3\n",
       "                  256   10       -3\n",
       "         0.000017 16    10       -5\n",
       "                  32    10       -1\n",
       "                  256   10       -5\n",
       "         0.000020 16    10       -5\n",
       "                  32    10       -1\n",
       "                  256   10       -3"
      ]
     },
     "execution_count": 12,
     "metadata": {},
     "output_type": "execute_result"
    }
   ],
   "source": [
    "groupby_df2 = merge_df2.groupby(['type', 'lr', 'batch', 'epoch']).sum()\n",
    "groupby_df2[groupby_df2['coef']<0]"
   ]
  },
  {
   "cell_type": "code",
   "execution_count": 13,
   "metadata": {},
   "outputs": [
    {
     "data": {
      "text/plain": [
       "(15, 1)"
      ]
     },
     "execution_count": 13,
     "metadata": {},
     "output_type": "execute_result"
    }
   ],
   "source": [
    "groupby_df2[groupby_df2['coef']<0].shape"
   ]
  },
  {
   "cell_type": "markdown",
   "metadata": {},
   "source": [
    "## ３回目"
   ]
  },
  {
   "cell_type": "code",
   "execution_count": 14,
   "metadata": {},
   "outputs": [],
   "source": [
    "result_list3 = [\n",
    "    'result/result_20230902_053526/result.csv',\n",
    "    'result/result_20230902_093024/result.csv',\n",
    "    'result/result_20230902_132515/result.csv',\n",
    "    'result/result_20230902_172042/result.csv',\n",
    "    'result/result_20230902_211520/result.csv',\n",
    "]"
   ]
  },
  {
   "cell_type": "code",
   "execution_count": 15,
   "metadata": {},
   "outputs": [],
   "source": [
    "merge_df3 = get_finetuning_result(result_list3)"
   ]
  },
  {
   "cell_type": "code",
   "execution_count": 16,
   "metadata": {},
   "outputs": [
    {
     "data": {
      "text/html": [
       "<div>\n",
       "<style scoped>\n",
       "    .dataframe tbody tr th:only-of-type {\n",
       "        vertical-align: middle;\n",
       "    }\n",
       "\n",
       "    .dataframe tbody tr th {\n",
       "        vertical-align: top;\n",
       "    }\n",
       "\n",
       "    .dataframe thead th {\n",
       "        text-align: right;\n",
       "    }\n",
       "</style>\n",
       "<table border=\"1\" class=\"dataframe\">\n",
       "  <thead>\n",
       "    <tr style=\"text-align: right;\">\n",
       "      <th></th>\n",
       "      <th></th>\n",
       "      <th></th>\n",
       "      <th></th>\n",
       "      <th>coef</th>\n",
       "    </tr>\n",
       "    <tr>\n",
       "      <th>type</th>\n",
       "      <th>lr</th>\n",
       "      <th>batch</th>\n",
       "      <th>epoch</th>\n",
       "      <th></th>\n",
       "    </tr>\n",
       "  </thead>\n",
       "  <tbody>\n",
       "    <tr>\n",
       "      <th rowspan=\"5\" valign=\"top\">constant</th>\n",
       "      <th rowspan=\"2\" valign=\"top\">0.000013</th>\n",
       "      <th>128</th>\n",
       "      <th>20</th>\n",
       "      <td>-1</td>\n",
       "    </tr>\n",
       "    <tr>\n",
       "      <th>256</th>\n",
       "      <th>20</th>\n",
       "      <td>-1</td>\n",
       "    </tr>\n",
       "    <tr>\n",
       "      <th>0.000015</th>\n",
       "      <th>16</th>\n",
       "      <th>20</th>\n",
       "      <td>-1</td>\n",
       "    </tr>\n",
       "    <tr>\n",
       "      <th>0.000017</th>\n",
       "      <th>16</th>\n",
       "      <th>20</th>\n",
       "      <td>-3</td>\n",
       "    </tr>\n",
       "    <tr>\n",
       "      <th>0.000020</th>\n",
       "      <th>32</th>\n",
       "      <th>20</th>\n",
       "      <td>-1</td>\n",
       "    </tr>\n",
       "  </tbody>\n",
       "</table>\n",
       "</div>"
      ],
      "text/plain": [
       "                               coef\n",
       "type     lr       batch epoch      \n",
       "constant 0.000013 128   20       -1\n",
       "                  256   20       -1\n",
       "         0.000015 16    20       -1\n",
       "         0.000017 16    20       -3\n",
       "         0.000020 32    20       -1"
      ]
     },
     "execution_count": 16,
     "metadata": {},
     "output_type": "execute_result"
    }
   ],
   "source": [
    "groupby_df3 = merge_df3.groupby(['type', 'lr', 'batch', 'epoch']).sum()\n",
    "groupby_df3[groupby_df3['coef']<0]"
   ]
  },
  {
   "cell_type": "markdown",
   "metadata": {},
   "source": [
    "## ４回目"
   ]
  },
  {
   "cell_type": "code",
   "execution_count": 17,
   "metadata": {},
   "outputs": [],
   "source": [
    "result_list4 = [\n",
    "    'result/result_20230903_144719/result.csv',\n",
    "    'result/result_20230903_181641/result.csv',\n",
    "    'result/result_20230903_214733/result.csv',\n",
    "    'result/result_20230904_011827/result.csv',\n",
    "    'result/result_20230904_045034/result.csv',\n",
    "]"
   ]
  },
  {
   "cell_type": "code",
   "execution_count": 18,
   "metadata": {},
   "outputs": [],
   "source": [
    "merge_df4 = get_finetuning_result(result_list4)"
   ]
  },
  {
   "cell_type": "code",
   "execution_count": 19,
   "metadata": {},
   "outputs": [
    {
     "data": {
      "text/html": [
       "<div>\n",
       "<style scoped>\n",
       "    .dataframe tbody tr th:only-of-type {\n",
       "        vertical-align: middle;\n",
       "    }\n",
       "\n",
       "    .dataframe tbody tr th {\n",
       "        vertical-align: top;\n",
       "    }\n",
       "\n",
       "    .dataframe thead th {\n",
       "        text-align: right;\n",
       "    }\n",
       "</style>\n",
       "<table border=\"1\" class=\"dataframe\">\n",
       "  <thead>\n",
       "    <tr style=\"text-align: right;\">\n",
       "      <th></th>\n",
       "      <th></th>\n",
       "      <th></th>\n",
       "      <th></th>\n",
       "      <th>coef</th>\n",
       "    </tr>\n",
       "    <tr>\n",
       "      <th>type</th>\n",
       "      <th>lr</th>\n",
       "      <th>batch</th>\n",
       "      <th>epoch</th>\n",
       "      <th></th>\n",
       "    </tr>\n",
       "  </thead>\n",
       "  <tbody>\n",
       "  </tbody>\n",
       "</table>\n",
       "</div>"
      ],
      "text/plain": [
       "Empty DataFrame\n",
       "Columns: [coef]\n",
       "Index: []"
      ]
     },
     "execution_count": 19,
     "metadata": {},
     "output_type": "execute_result"
    }
   ],
   "source": [
    "groupby_df4 = merge_df4.groupby(['type', 'lr', 'batch', 'epoch']).sum()\n",
    "groupby_df4[groupby_df4['coef']<0]"
   ]
  },
  {
   "cell_type": "code",
   "execution_count": 20,
   "metadata": {},
   "outputs": [
    {
     "data": {
      "text/html": [
       "<div>\n",
       "<style scoped>\n",
       "    .dataframe tbody tr th:only-of-type {\n",
       "        vertical-align: middle;\n",
       "    }\n",
       "\n",
       "    .dataframe tbody tr th {\n",
       "        vertical-align: top;\n",
       "    }\n",
       "\n",
       "    .dataframe thead th {\n",
       "        text-align: right;\n",
       "    }\n",
       "</style>\n",
       "<table border=\"1\" class=\"dataframe\">\n",
       "  <thead>\n",
       "    <tr style=\"text-align: right;\">\n",
       "      <th></th>\n",
       "      <th></th>\n",
       "      <th></th>\n",
       "      <th></th>\n",
       "      <th>coef</th>\n",
       "    </tr>\n",
       "    <tr>\n",
       "      <th>type</th>\n",
       "      <th>lr</th>\n",
       "      <th>batch</th>\n",
       "      <th>epoch</th>\n",
       "      <th></th>\n",
       "    </tr>\n",
       "  </thead>\n",
       "  <tbody>\n",
       "    <tr>\n",
       "      <th rowspan=\"5\" valign=\"top\">constant</th>\n",
       "      <th rowspan=\"2\" valign=\"top\">0.000013</th>\n",
       "      <th>128</th>\n",
       "      <th>50</th>\n",
       "      <td>5</td>\n",
       "    </tr>\n",
       "    <tr>\n",
       "      <th>256</th>\n",
       "      <th>50</th>\n",
       "      <td>5</td>\n",
       "    </tr>\n",
       "    <tr>\n",
       "      <th>0.000015</th>\n",
       "      <th>16</th>\n",
       "      <th>50</th>\n",
       "      <td>5</td>\n",
       "    </tr>\n",
       "    <tr>\n",
       "      <th>0.000017</th>\n",
       "      <th>16</th>\n",
       "      <th>50</th>\n",
       "      <td>3</td>\n",
       "    </tr>\n",
       "    <tr>\n",
       "      <th>0.000020</th>\n",
       "      <th>32</th>\n",
       "      <th>50</th>\n",
       "      <td>3</td>\n",
       "    </tr>\n",
       "  </tbody>\n",
       "</table>\n",
       "</div>"
      ],
      "text/plain": [
       "                               coef\n",
       "type     lr       batch epoch      \n",
       "constant 0.000013 128   50        5\n",
       "                  256   50        5\n",
       "         0.000015 16    50        5\n",
       "         0.000017 16    50        3\n",
       "         0.000020 32    50        3"
      ]
     },
     "execution_count": 20,
     "metadata": {},
     "output_type": "execute_result"
    }
   ],
   "source": [
    "groupby_df4"
   ]
  },
  {
   "cell_type": "code",
   "execution_count": null,
   "metadata": {},
   "outputs": [],
   "source": []
  },
  {
   "cell_type": "code",
   "execution_count": 33,
   "metadata": {},
   "outputs": [],
   "source": [
    "type_list = ['constant',] #'linear', 'cosine']\n",
    "lr_list = [5e-6, 7e-6, 1e-5, 1.5e-5, 2e-5]\n",
    "batch_size_list = [16, 32, 64, 128, 256]\n",
    "weight_decay_list = [0, 1e-4, 5e-4, 1e-5]\n",
    "epoch_list = [2, 5, 10]"
   ]
  },
  {
   "cell_type": "code",
   "execution_count": 34,
   "metadata": {},
   "outputs": [
    {
     "name": "stdout",
     "output_type": "stream",
     "text": [
      "[{'type': 'constant', 'lr': 5e-06, 'batch': 16, 'target': True}, {'type': 'constant', 'lr': 5e-06, 'batch': 16, 'target': True}, {'type': 'constant', 'lr': 5e-06, 'batch': 16, 'target': True}, {'type': 'constant', 'lr': 5e-06, 'batch': 16, 'target': True}, {'type': 'constant', 'lr': 5e-06, 'batch': 32, 'target': True}, {'type': 'constant', 'lr': 5e-06, 'batch': 32, 'target': True}, {'type': 'constant', 'lr': 5e-06, 'batch': 32, 'target': True}, {'type': 'constant', 'lr': 5e-06, 'batch': 32, 'target': True}, {'type': 'constant', 'lr': 5e-06, 'batch': 64, 'target': True}, {'type': 'constant', 'lr': 5e-06, 'batch': 64, 'target': True}, {'type': 'constant', 'lr': 5e-06, 'batch': 64, 'target': True}, {'type': 'constant', 'lr': 5e-06, 'batch': 64, 'target': True}, {'type': 'constant', 'lr': 5e-06, 'batch': 128, 'target': True}, {'type': 'constant', 'lr': 5e-06, 'batch': 128, 'target': True}, {'type': 'constant', 'lr': 5e-06, 'batch': 128, 'target': True}, {'type': 'constant', 'lr': 5e-06, 'batch': 128, 'target': True}, {'type': 'constant', 'lr': 5e-06, 'batch': 256, 'target': True}, {'type': 'constant', 'lr': 5e-06, 'batch': 256, 'target': True}, {'type': 'constant', 'lr': 5e-06, 'batch': 256, 'target': True}, {'type': 'constant', 'lr': 5e-06, 'batch': 256, 'target': True}, {'type': 'constant', 'lr': 7e-06, 'batch': 16, 'target': True}, {'type': 'constant', 'lr': 7e-06, 'batch': 16, 'target': True}, {'type': 'constant', 'lr': 7e-06, 'batch': 16, 'target': True}, {'type': 'constant', 'lr': 7e-06, 'batch': 16, 'target': True}, {'type': 'constant', 'lr': 7e-06, 'batch': 32, 'target': True}, {'type': 'constant', 'lr': 7e-06, 'batch': 32, 'target': True}, {'type': 'constant', 'lr': 7e-06, 'batch': 32, 'target': True}, {'type': 'constant', 'lr': 7e-06, 'batch': 32, 'target': True}, {'type': 'constant', 'lr': 7e-06, 'batch': 64, 'target': True}, {'type': 'constant', 'lr': 7e-06, 'batch': 64, 'target': True}, {'type': 'constant', 'lr': 7e-06, 'batch': 64, 'target': True}, {'type': 'constant', 'lr': 7e-06, 'batch': 64, 'target': True}, {'type': 'constant', 'lr': 7e-06, 'batch': 128, 'target': True}, {'type': 'constant', 'lr': 7e-06, 'batch': 128, 'target': True}, {'type': 'constant', 'lr': 7e-06, 'batch': 128, 'target': True}, {'type': 'constant', 'lr': 7e-06, 'batch': 128, 'target': True}, {'type': 'constant', 'lr': 7e-06, 'batch': 256, 'target': True}, {'type': 'constant', 'lr': 7e-06, 'batch': 256, 'target': True}, {'type': 'constant', 'lr': 7e-06, 'batch': 256, 'target': True}, {'type': 'constant', 'lr': 7e-06, 'batch': 256, 'target': True}, {'type': 'constant', 'lr': 1e-05, 'batch': 16, 'target': True}, {'type': 'constant', 'lr': 1e-05, 'batch': 16, 'target': True}, {'type': 'constant', 'lr': 1e-05, 'batch': 16, 'target': True}, {'type': 'constant', 'lr': 1e-05, 'batch': 16, 'target': True}, {'type': 'constant', 'lr': 1e-05, 'batch': 32, 'target': True}, {'type': 'constant', 'lr': 1e-05, 'batch': 32, 'target': True}, {'type': 'constant', 'lr': 1e-05, 'batch': 32, 'target': True}, {'type': 'constant', 'lr': 1e-05, 'batch': 32, 'target': True}, {'type': 'constant', 'lr': 1e-05, 'batch': 64, 'target': True}, {'type': 'constant', 'lr': 1e-05, 'batch': 64, 'target': True}, {'type': 'constant', 'lr': 1e-05, 'batch': 64, 'target': True}, {'type': 'constant', 'lr': 1e-05, 'batch': 64, 'target': True}, {'type': 'constant', 'lr': 1e-05, 'batch': 128, 'target': True}, {'type': 'constant', 'lr': 1e-05, 'batch': 128, 'target': True}, {'type': 'constant', 'lr': 1e-05, 'batch': 128, 'target': True}, {'type': 'constant', 'lr': 1e-05, 'batch': 128, 'target': True}, {'type': 'constant', 'lr': 1e-05, 'batch': 256, 'target': True}, {'type': 'constant', 'lr': 1e-05, 'batch': 256, 'target': True}, {'type': 'constant', 'lr': 1e-05, 'batch': 256, 'target': True}, {'type': 'constant', 'lr': 1e-05, 'batch': 256, 'target': True}, {'type': 'constant', 'lr': 1.5e-05, 'batch': 16, 'target': True}, {'type': 'constant', 'lr': 1.5e-05, 'batch': 16, 'target': True}, {'type': 'constant', 'lr': 1.5e-05, 'batch': 16, 'target': True}, {'type': 'constant', 'lr': 1.5e-05, 'batch': 16, 'target': True}, {'type': 'constant', 'lr': 1.5e-05, 'batch': 32, 'target': True}, {'type': 'constant', 'lr': 1.5e-05, 'batch': 32, 'target': True}, {'type': 'constant', 'lr': 1.5e-05, 'batch': 32, 'target': True}, {'type': 'constant', 'lr': 1.5e-05, 'batch': 32, 'target': True}, {'type': 'constant', 'lr': 1.5e-05, 'batch': 64, 'target': True}, {'type': 'constant', 'lr': 1.5e-05, 'batch': 64, 'target': True}, {'type': 'constant', 'lr': 1.5e-05, 'batch': 64, 'target': True}, {'type': 'constant', 'lr': 1.5e-05, 'batch': 64, 'target': True}, {'type': 'constant', 'lr': 1.5e-05, 'batch': 128, 'target': True}, {'type': 'constant', 'lr': 1.5e-05, 'batch': 128, 'target': True}, {'type': 'constant', 'lr': 1.5e-05, 'batch': 128, 'target': True}, {'type': 'constant', 'lr': 1.5e-05, 'batch': 128, 'target': True}, {'type': 'constant', 'lr': 1.5e-05, 'batch': 256, 'target': True}, {'type': 'constant', 'lr': 1.5e-05, 'batch': 256, 'target': True}, {'type': 'constant', 'lr': 1.5e-05, 'batch': 256, 'target': True}, {'type': 'constant', 'lr': 1.5e-05, 'batch': 256, 'target': True}, {'type': 'constant', 'lr': 2e-05, 'batch': 16, 'target': True}, {'type': 'constant', 'lr': 2e-05, 'batch': 16, 'target': True}, {'type': 'constant', 'lr': 2e-05, 'batch': 16, 'target': True}, {'type': 'constant', 'lr': 2e-05, 'batch': 16, 'target': True}, {'type': 'constant', 'lr': 2e-05, 'batch': 32, 'target': True}, {'type': 'constant', 'lr': 2e-05, 'batch': 32, 'target': True}, {'type': 'constant', 'lr': 2e-05, 'batch': 32, 'target': True}, {'type': 'constant', 'lr': 2e-05, 'batch': 32, 'target': True}, {'type': 'constant', 'lr': 2e-05, 'batch': 64, 'target': True}, {'type': 'constant', 'lr': 2e-05, 'batch': 64, 'target': True}, {'type': 'constant', 'lr': 2e-05, 'batch': 64, 'target': True}, {'type': 'constant', 'lr': 2e-05, 'batch': 64, 'target': True}, {'type': 'constant', 'lr': 2e-05, 'batch': 128, 'target': True}, {'type': 'constant', 'lr': 2e-05, 'batch': 128, 'target': True}, {'type': 'constant', 'lr': 2e-05, 'batch': 128, 'target': True}, {'type': 'constant', 'lr': 2e-05, 'batch': 128, 'target': True}, {'type': 'constant', 'lr': 2e-05, 'batch': 256, 'target': True}, {'type': 'constant', 'lr': 2e-05, 'batch': 256, 'target': True}, {'type': 'constant', 'lr': 2e-05, 'batch': 256, 'target': True}, {'type': 'constant', 'lr': 2e-05, 'batch': 256, 'target': True}]\n"
     ]
    }
   ],
   "source": [
    "import itertools\n",
    "hyper_parameters = []\n",
    "for p in itertools.product(type_list, lr_list, batch_size_list, weight_decay_list):\n",
    "    para = {\n",
    "        'type': p[0],\n",
    "        'lr': p[1],\n",
    "        'batch': p[2],\n",
    "        'target': True\n",
    "    }\n",
    "    hyper_parameters.append(para)\n",
    "print(hyper_parameters)"
   ]
  },
  {
   "cell_type": "code",
   "execution_count": 35,
   "metadata": {},
   "outputs": [
    {
     "data": {
      "text/plain": [
       "{'type': 'constant', 'lr': 5e-06, 'batch': 16, 'target': True}"
      ]
     },
     "execution_count": 35,
     "metadata": {},
     "output_type": "execute_result"
    }
   ],
   "source": [
    "hyper_parameters[0]"
   ]
  },
  {
   "cell_type": "code",
   "execution_count": 38,
   "metadata": {},
   "outputs": [
    {
     "name": "stdout",
     "output_type": "stream",
     "text": [
      "[{'type': 'constant', 'lr': 5e-06, 'batch': 16, 'target': False}, {'type': 'constant', 'lr': 5e-06, 'batch': 16, 'target': True}, {'type': 'constant', 'lr': 5e-06, 'batch': 16, 'target': False}, {'type': 'constant', 'lr': 5e-06, 'batch': 16, 'target': True}, {'type': 'constant', 'lr': 5e-06, 'batch': 32, 'target': False}, {'type': 'constant', 'lr': 5e-06, 'batch': 32, 'target': True}, {'type': 'constant', 'lr': 5e-06, 'batch': 32, 'target': False}, {'type': 'constant', 'lr': 5e-06, 'batch': 32, 'target': True}, {'type': 'constant', 'lr': 5e-06, 'batch': 64, 'target': False}, {'type': 'constant', 'lr': 5e-06, 'batch': 64, 'target': True}, {'type': 'constant', 'lr': 5e-06, 'batch': 64, 'target': False}, {'type': 'constant', 'lr': 5e-06, 'batch': 64, 'target': True}, {'type': 'constant', 'lr': 5e-06, 'batch': 128, 'target': False}, {'type': 'constant', 'lr': 5e-06, 'batch': 128, 'target': True}, {'type': 'constant', 'lr': 5e-06, 'batch': 128, 'target': False}, {'type': 'constant', 'lr': 5e-06, 'batch': 128, 'target': True}, {'type': 'constant', 'lr': 5e-06, 'batch': 256, 'target': False}, {'type': 'constant', 'lr': 5e-06, 'batch': 256, 'target': True}, {'type': 'constant', 'lr': 5e-06, 'batch': 256, 'target': False}, {'type': 'constant', 'lr': 5e-06, 'batch': 256, 'target': True}, {'type': 'constant', 'lr': 7e-06, 'batch': 16, 'target': False}, {'type': 'constant', 'lr': 7e-06, 'batch': 16, 'target': True}, {'type': 'constant', 'lr': 7e-06, 'batch': 16, 'target': False}, {'type': 'constant', 'lr': 7e-06, 'batch': 16, 'target': True}, {'type': 'constant', 'lr': 7e-06, 'batch': 32, 'target': False}, {'type': 'constant', 'lr': 7e-06, 'batch': 32, 'target': True}, {'type': 'constant', 'lr': 7e-06, 'batch': 32, 'target': False}, {'type': 'constant', 'lr': 7e-06, 'batch': 32, 'target': True}, {'type': 'constant', 'lr': 7e-06, 'batch': 64, 'target': False}, {'type': 'constant', 'lr': 7e-06, 'batch': 64, 'target': True}, {'type': 'constant', 'lr': 7e-06, 'batch': 64, 'target': False}, {'type': 'constant', 'lr': 7e-06, 'batch': 64, 'target': True}, {'type': 'constant', 'lr': 7e-06, 'batch': 128, 'target': False}, {'type': 'constant', 'lr': 7e-06, 'batch': 128, 'target': True}, {'type': 'constant', 'lr': 7e-06, 'batch': 128, 'target': False}, {'type': 'constant', 'lr': 7e-06, 'batch': 128, 'target': True}, {'type': 'constant', 'lr': 7e-06, 'batch': 256, 'target': False}, {'type': 'constant', 'lr': 7e-06, 'batch': 256, 'target': True}, {'type': 'constant', 'lr': 7e-06, 'batch': 256, 'target': False}, {'type': 'constant', 'lr': 7e-06, 'batch': 256, 'target': True}, {'type': 'constant', 'lr': 1e-05, 'batch': 16, 'target': False}, {'type': 'constant', 'lr': 1e-05, 'batch': 16, 'target': True}, {'type': 'constant', 'lr': 1e-05, 'batch': 16, 'target': False}, {'type': 'constant', 'lr': 1e-05, 'batch': 16, 'target': True}, {'type': 'constant', 'lr': 1e-05, 'batch': 32, 'target': False}, {'type': 'constant', 'lr': 1e-05, 'batch': 32, 'target': True}, {'type': 'constant', 'lr': 1e-05, 'batch': 32, 'target': False}, {'type': 'constant', 'lr': 1e-05, 'batch': 32, 'target': True}, {'type': 'constant', 'lr': 1e-05, 'batch': 64, 'target': False}, {'type': 'constant', 'lr': 1e-05, 'batch': 64, 'target': True}, {'type': 'constant', 'lr': 1e-05, 'batch': 64, 'target': False}, {'type': 'constant', 'lr': 1e-05, 'batch': 64, 'target': True}, {'type': 'constant', 'lr': 1e-05, 'batch': 128, 'target': False}, {'type': 'constant', 'lr': 1e-05, 'batch': 128, 'target': True}, {'type': 'constant', 'lr': 1e-05, 'batch': 128, 'target': False}, {'type': 'constant', 'lr': 1e-05, 'batch': 128, 'target': True}, {'type': 'constant', 'lr': 1e-05, 'batch': 256, 'target': False}, {'type': 'constant', 'lr': 1e-05, 'batch': 256, 'target': True}, {'type': 'constant', 'lr': 1e-05, 'batch': 256, 'target': False}, {'type': 'constant', 'lr': 1e-05, 'batch': 256, 'target': True}, {'type': 'constant', 'lr': 1.5e-05, 'batch': 16, 'target': False}, {'type': 'constant', 'lr': 1.5e-05, 'batch': 16, 'target': True}, {'type': 'constant', 'lr': 1.5e-05, 'batch': 16, 'target': False}, {'type': 'constant', 'lr': 1.5e-05, 'batch': 16, 'target': True}, {'type': 'constant', 'lr': 1.5e-05, 'batch': 32, 'target': False}, {'type': 'constant', 'lr': 1.5e-05, 'batch': 32, 'target': True}, {'type': 'constant', 'lr': 1.5e-05, 'batch': 32, 'target': False}, {'type': 'constant', 'lr': 1.5e-05, 'batch': 32, 'target': True}, {'type': 'constant', 'lr': 1.5e-05, 'batch': 64, 'target': False}, {'type': 'constant', 'lr': 1.5e-05, 'batch': 64, 'target': True}, {'type': 'constant', 'lr': 1.5e-05, 'batch': 64, 'target': False}, {'type': 'constant', 'lr': 1.5e-05, 'batch': 64, 'target': True}, {'type': 'constant', 'lr': 1.5e-05, 'batch': 128, 'target': False}, {'type': 'constant', 'lr': 1.5e-05, 'batch': 128, 'target': True}, {'type': 'constant', 'lr': 1.5e-05, 'batch': 128, 'target': False}, {'type': 'constant', 'lr': 1.5e-05, 'batch': 128, 'target': True}, {'type': 'constant', 'lr': 1.5e-05, 'batch': 256, 'target': False}, {'type': 'constant', 'lr': 1.5e-05, 'batch': 256, 'target': True}, {'type': 'constant', 'lr': 1.5e-05, 'batch': 256, 'target': False}, {'type': 'constant', 'lr': 1.5e-05, 'batch': 256, 'target': True}, {'type': 'constant', 'lr': 2e-05, 'batch': 16, 'target': False}, {'type': 'constant', 'lr': 2e-05, 'batch': 16, 'target': True}, {'type': 'constant', 'lr': 2e-05, 'batch': 16, 'target': False}, {'type': 'constant', 'lr': 2e-05, 'batch': 16, 'target': True}, {'type': 'constant', 'lr': 2e-05, 'batch': 32, 'target': False}, {'type': 'constant', 'lr': 2e-05, 'batch': 32, 'target': True}, {'type': 'constant', 'lr': 2e-05, 'batch': 32, 'target': False}, {'type': 'constant', 'lr': 2e-05, 'batch': 32, 'target': True}, {'type': 'constant', 'lr': 2e-05, 'batch': 64, 'target': False}, {'type': 'constant', 'lr': 2e-05, 'batch': 64, 'target': True}, {'type': 'constant', 'lr': 2e-05, 'batch': 64, 'target': False}, {'type': 'constant', 'lr': 2e-05, 'batch': 64, 'target': True}, {'type': 'constant', 'lr': 2e-05, 'batch': 128, 'target': False}, {'type': 'constant', 'lr': 2e-05, 'batch': 128, 'target': True}, {'type': 'constant', 'lr': 2e-05, 'batch': 128, 'target': False}, {'type': 'constant', 'lr': 2e-05, 'batch': 128, 'target': True}, {'type': 'constant', 'lr': 2e-05, 'batch': 256, 'target': False}, {'type': 'constant', 'lr': 2e-05, 'batch': 256, 'target': True}, {'type': 'constant', 'lr': 2e-05, 'batch': 256, 'target': False}, {'type': 'constant', 'lr': 2e-05, 'batch': 256, 'target': True}]\n"
     ]
    }
   ],
   "source": [
    "for i, hyper_parameter in enumerate(hyper_parameters):\n",
    "    if i % 2 == 0:\n",
    "        hyper_parameter['target'] = False\n",
    "print(hyper_parameters)"
   ]
  },
  {
   "cell_type": "code",
   "execution_count": null,
   "metadata": {},
   "outputs": [],
   "source": []
  }
 ],
 "metadata": {
  "kernelspec": {
   "display_name": "Python 3",
   "language": "python",
   "name": "python3"
  },
  "language_info": {
   "codemirror_mode": {
    "name": "ipython",
    "version": 3
   },
   "file_extension": ".py",
   "mimetype": "text/x-python",
   "name": "python",
   "nbconvert_exporter": "python",
   "pygments_lexer": "ipython3",
   "version": "3.8.10"
  },
  "orig_nbformat": 4
 },
 "nbformat": 4,
 "nbformat_minor": 2
}
