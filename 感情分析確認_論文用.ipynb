{
 "cells": [
  {
   "cell_type": "code",
   "execution_count": 1,
   "metadata": {},
   "outputs": [],
   "source": [
    "from transformers import AutoTokenizer, AutoModelForSequenceClassification\n",
    "from transformers import pipeline\n",
    "import torch\n",
    "import torch.nn.functional as F\n",
    "from pprint import pprint"
   ]
  },
  {
   "cell_type": "code",
   "execution_count": 2,
   "metadata": {},
   "outputs": [
    {
     "name": "stderr",
     "output_type": "stream",
     "text": [
      "/usr/local/lib/python3.8/dist-packages/torch/nn/modules/module.py:1383: UserWarning: positional arguments and argument \"destination\" are deprecated. nn.Module.state_dict will not accept them in the future. Refer to https://pytorch.org/docs/master/generated/torch.nn.Module.html#torch.nn.Module.state_dict for details.\n",
      "  warnings.warn(\n"
     ]
    }
   ],
   "source": [
    "# モデルとトークナイザの読み込み\n",
    "model_name = \"koheiduck/bert-japanese-finetuned-sentiment\"\n",
    "tokenizer = AutoTokenizer.from_pretrained(model_name)\n",
    "model = AutoModelForSequenceClassification.from_pretrained(model_name)"
   ]
  },
  {
   "cell_type": "code",
   "execution_count": 3,
   "metadata": {},
   "outputs": [
    {
     "name": "stdout",
     "output_type": "stream",
     "text": [
      "[{'label': 'POSITIVE', 'score': 0.9896088242530823}]\n",
      "[{'label': 'NEUTRAL', 'score': 0.9275946021080017}]\n",
      "[{'label': 'NEGATIVE', 'score': 0.9918387532234192}]\n"
     ]
    }
   ],
   "source": [
    "# 動作確認\n",
    "cls = pipeline('sentiment-analysis',model=model,tokenizer=tokenizer)\n",
    "print(cls(\"私はとっても幸せ\"))\n",
    "print(cls(\"吾輩は猫である\"))\n",
    "print(cls(\"私はとっても不幸\"))"
   ]
  },
  {
   "cell_type": "code",
   "execution_count": null,
   "metadata": {},
   "outputs": [
    {
     "name": "stdout",
     "output_type": "stream",
     "text": [
      "logits : \n",
      " [[-1.3570828 -2.2782886  3.53434  ]\n",
      " [ 2.1544192 -0.7660058 -1.5692033]\n",
      " [-1.9613895  3.547533  -1.9304129]]\n",
      "predictions : \n",
      " [[0.00743268 0.0029585  0.9896088 ]\n",
      " [0.9275947  0.05000735 0.02239802]\n",
      " [0.00401741 0.99183875 0.00414381]]\n",
      "prediction : \n",
      " [2 0 1] ['POSITIVE', 'NEUTRAL', 'NEGATIVE']\n"
     ]
    }
   ],
   "source": [
    "X = [\n",
    "    \"私はとっても幸せ\",\n",
    "    \"吾輩は猫である\",\n",
    "    \"私はとっても不幸\"\n",
    "]\n",
    "# トークナイズ処理\n",
    "tokenized_text = tokenizer(X , \n",
    "                           padding=True, \n",
    "                           truncation=True, return_tensors='pt')\n",
    "# スコア取得\n",
    "with torch.no_grad():\n",
    "    outputs = model(**tokenized_text)\n",
    "    predictions = F.softmax(outputs.logits, dim=1)\n",
    "    prediction = torch.argmax(predictions, dim=1)\n",
    "\n",
    "print('logits : \\n', outputs.logits.numpy())\n",
    "print('predictions : \\n', predictions.numpy())\n",
    "print('prediction : \\n', \n",
    "       prediction.numpy(),\n",
    "       [model.config.id2label[p] for p in prediction.numpy()])"
   ]
  },
  {
   "cell_type": "code",
   "execution_count": 8,
   "metadata": {},
   "outputs": [],
   "source": [
    "# パラメータ数のカウント\n",
    "def print_trainable_parameters(model, verbose=False):\n",
    "    trainable_params = 0\n",
    "    all_param = 0\n",
    "    for param_name, param in model.named_parameters():\n",
    "        all_param += param.numel()\n",
    "        if param.requires_grad:\n",
    "            if verbose: print(param_name)\n",
    "            trainable_params += param.numel()\n",
    "    print(\n",
    "        f'trainable params: {trainable_params}',\n",
    "        f'|| all params: {all_param}',\n",
    "        f'|| trainable: {100 * trainable_params / all_param}'\n",
    "    )\n",
    "    print(\n",
    "        f'trainable params: {round(trainable_params / 1024 / 1024, 2)} g',\n",
    "        f'|| all params: {round(all_param / 1024 / 1024, 2)} g',\n",
    "    )\n",
    "    print(\n",
    "        f'trainable params: {round(trainable_params / 1024 / 1024 / 1024, 2)} g',\n",
    "        f'|| all params: {round(all_param / 1024 / 1024 / 1024, 2)} g',\n",
    "    )"
   ]
  },
  {
   "cell_type": "code",
   "execution_count": 7,
   "metadata": {},
   "outputs": [
    {
     "data": {
      "application/vnd.jupyter.widget-view+json": {
       "model_id": "7108f2d50f1d4baab98ac078d55f2888",
       "version_major": 2,
       "version_minor": 0
      },
      "text/plain": [
       "Downloading tokenizer_config.json:   0%|          | 0.00/174 [00:00<?, ?B/s]"
      ]
     },
     "metadata": {},
     "output_type": "display_data"
    },
    {
     "data": {
      "application/vnd.jupyter.widget-view+json": {
       "model_id": "c32fc7469b8e4f588923e5741bade4f7",
       "version_major": 2,
       "version_minor": 0
      },
      "text/plain": [
       "Downloading config.json:   0%|          | 0.00/518 [00:00<?, ?B/s]"
      ]
     },
     "metadata": {},
     "output_type": "display_data"
    },
    {
     "data": {
      "application/vnd.jupyter.widget-view+json": {
       "model_id": "b5a0cb36cc084db28e88b97820e23159",
       "version_major": 2,
       "version_minor": 0
      },
      "text/plain": [
       "Downloading vocab.txt:   0%|          | 0.00/236k [00:00<?, ?B/s]"
      ]
     },
     "metadata": {},
     "output_type": "display_data"
    },
    {
     "data": {
      "application/vnd.jupyter.widget-view+json": {
       "model_id": "7db1513e10684adc91550a9e337cd732",
       "version_major": 2,
       "version_minor": 0
      },
      "text/plain": [
       "Downloading pytorch_model.bin:   0%|          | 0.00/1.35G [00:00<?, ?B/s]"
      ]
     },
     "metadata": {},
     "output_type": "display_data"
    },
    {
     "name": "stderr",
     "output_type": "stream",
     "text": [
      "/usr/local/lib/python3.8/dist-packages/torch/nn/modules/module.py:1383: UserWarning: positional arguments and argument \"destination\" are deprecated. nn.Module.state_dict will not accept them in the future. Refer to https://pytorch.org/docs/master/generated/torch.nn.Module.html#torch.nn.Module.state_dict for details.\n",
      "  warnings.warn(\n",
      "Some weights of BertForSequenceClassification were not initialized from the model checkpoint at cl-tohoku/bert-large-japanese and are newly initialized: ['classifier.bias', 'classifier.weight']\n",
      "You should probably TRAIN this model on a down-stream task to be able to use it for predictions and inference.\n"
     ]
    },
    {
     "name": "stdout",
     "output_type": "stream",
     "text": [
      "trainable params: 337443842 || all params: 337443842 || trainable: 100.0\n",
      "trainable params: 0.31 g || all params: 0.31 g\n"
     ]
    }
   ],
   "source": [
    "# モデルとトークナイザの読み込み\n",
    "model_name = \"cl-tohoku/bert-large-japanese\"\n",
    "tokenizer = AutoTokenizer.from_pretrained(model_name)\n",
    "model = AutoModelForSequenceClassification.from_pretrained(model_name)"
   ]
  },
  {
   "cell_type": "code",
   "execution_count": 9,
   "metadata": {},
   "outputs": [
    {
     "name": "stdout",
     "output_type": "stream",
     "text": [
      "trainable params: 337443842 || all params: 337443842 || trainable: 100.0\n",
      "trainable params: 321.81 g || all params: 321.81 g\n",
      "trainable params: 0.31 g || all params: 0.31 g\n"
     ]
    }
   ],
   "source": [
    "print_trainable_parameters(model)"
   ]
  },
  {
   "cell_type": "code",
   "execution_count": null,
   "metadata": {},
   "outputs": [],
   "source": []
  }
 ],
 "metadata": {
  "kernelspec": {
   "display_name": "Python 3",
   "language": "python",
   "name": "python3"
  },
  "language_info": {
   "codemirror_mode": {
    "name": "ipython",
    "version": 3
   },
   "file_extension": ".py",
   "mimetype": "text/x-python",
   "name": "python",
   "nbconvert_exporter": "python",
   "pygments_lexer": "ipython3",
   "version": "3.8.10"
  }
 },
 "nbformat": 4,
 "nbformat_minor": 2
}
