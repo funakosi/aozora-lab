{
 "cells": [
  {
   "cell_type": "code",
   "execution_count": 16,
   "metadata": {},
   "outputs": [],
   "source": [
    "from transformers import AutoTokenizer, AutoModelForSequenceClassification\n",
    "from transformers import pipeline\n",
    "import torch\n",
    "import torch.nn.functional as F\n",
    "from pprint import pprint"
   ]
  },
  {
   "cell_type": "code",
   "execution_count": 3,
   "metadata": {},
   "outputs": [
    {
     "name": "stderr",
     "output_type": "stream",
     "text": [
      "/usr/local/lib/python3.8/dist-packages/torch/nn/modules/module.py:1383: UserWarning: positional arguments and argument \"destination\" are deprecated. nn.Module.state_dict will not accept them in the future. Refer to https://pytorch.org/docs/master/generated/torch.nn.Module.html#torch.nn.Module.state_dict for details.\n",
      "  warnings.warn(\n"
     ]
    }
   ],
   "source": [
    "# モデルとトークナイザの読み込み\n",
    "model_name = \"koheiduck/bert-japanese-finetuned-sentiment\"\n",
    "tokenizer = AutoTokenizer.from_pretrained(model_name)\n",
    "model = AutoModelForSequenceClassification.from_pretrained(model_name)"
   ]
  },
  {
   "cell_type": "code",
   "execution_count": 5,
   "metadata": {},
   "outputs": [
    {
     "name": "stdout",
     "output_type": "stream",
     "text": [
      "[{'label': 'POSITIVE', 'score': 0.9896088242530823}]\n",
      "[{'label': 'NEUTRAL', 'score': 0.9275946021080017}]\n",
      "[{'label': 'NEGATIVE', 'score': 0.9918387532234192}]\n"
     ]
    }
   ],
   "source": [
    "# 動作確認\n",
    "cls = pipeline('sentiment-analysis',model=model,tokenizer=tokenizer)\n",
    "print(cls(\"私はとっても幸せ\"))\n",
    "print(cls(\"吾輩は猫である\"))\n",
    "print(cls(\"私はとっても不幸\"))"
   ]
  },
  {
   "cell_type": "code",
   "execution_count": 30,
   "metadata": {},
   "outputs": [
    {
     "data": {
      "text/plain": [
       "[{'label': 'POSITIVE', 'score': 0.9896088242530823},\n",
       " {'label': 'NEUTRAL', 'score': 0.9275946021080017},\n",
       " {'label': 'NEGATIVE', 'score': 0.9918387532234192}]"
      ]
     },
     "execution_count": 30,
     "metadata": {},
     "output_type": "execute_result"
    }
   ],
   "source": [
    "cls(X)"
   ]
  },
  {
   "cell_type": "code",
   "execution_count": 29,
   "metadata": {},
   "outputs": [
    {
     "name": "stdout",
     "output_type": "stream",
     "text": [
      "logits : \n",
      " [[-1.3570828 -2.2782886  3.53434  ]\n",
      " [ 2.1544192 -0.7660058 -1.5692033]\n",
      " [-1.9613895  3.547533  -1.9304129]]\n",
      "predictions : \n",
      " [[0.00743268 0.0029585  0.9896088 ]\n",
      " [0.9275947  0.05000735 0.02239802]\n",
      " [0.00401741 0.99183875 0.00414381]]\n",
      "prediction : \n",
      " [2 0 1] ['POSITIVE', 'NEUTRAL', 'NEGATIVE']\n"
     ]
    }
   ],
   "source": [
    "X = [\n",
    "    \"私はとっても幸せ\",\n",
    "    \"吾輩は猫である\",\n",
    "    \"私はとっても不幸\"\n",
    "]\n",
    "# トークナイズ処理\n",
    "tokenized_text = tokenizer(X , \n",
    "                           padding=True, \n",
    "                           truncation=True, return_tensors='pt')\n",
    "# スコア取得\n",
    "with torch.no_grad():\n",
    "    outputs = model(**tokenized_text)\n",
    "    predictions = F.softmax(outputs.logits, dim=1)\n",
    "    prediction = torch.argmax(predictions, dim=1)\n",
    "\n",
    "print('logits : \\n', outputs.logits.numpy())\n",
    "print('predictions : \\n', predictions.numpy())\n",
    "print('prediction : \\n', \n",
    "       prediction.numpy(),\n",
    "       [model.config.id2label[p] for p in prediction.numpy()])"
   ]
  },
  {
   "cell_type": "code",
   "execution_count": null,
   "metadata": {},
   "outputs": [],
   "source": []
  }
 ],
 "metadata": {
  "kernelspec": {
   "display_name": "Python 3",
   "language": "python",
   "name": "python3"
  },
  "language_info": {
   "codemirror_mode": {
    "name": "ipython",
    "version": 3
   },
   "file_extension": ".py",
   "mimetype": "text/x-python",
   "name": "python",
   "nbconvert_exporter": "python",
   "pygments_lexer": "ipython3",
   "version": "3.8.10"
  }
 },
 "nbformat": 4,
 "nbformat_minor": 2
}
