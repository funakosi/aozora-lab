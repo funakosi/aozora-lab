{
 "cells": [
  {
   "cell_type": "code",
   "execution_count": 1,
   "metadata": {},
   "outputs": [],
   "source": [
    "import os\n",
    "import sys\n",
    "import glob\n",
    "import shutil\n",
    "import numpy as np\n",
    "from tqdm import tqdm\n",
    "import pandas as pd\n",
    "from pathlib import Path\n",
    "import matplotlib.pyplot as plt"
   ]
  },
  {
   "cell_type": "code",
   "execution_count": 2,
   "metadata": {},
   "outputs": [],
   "source": [
    "from transformers import AutoTokenizer, AutoModelForSequenceClassification\n",
    "from transformers import pipeline\n",
    "import torch\n",
    "import torch.nn.functional as F"
   ]
  },
  {
   "cell_type": "code",
   "execution_count": 3,
   "metadata": {},
   "outputs": [],
   "source": [
    "from library import tool\n",
    "from library import preprocess\n",
    "from library import score"
   ]
  },
  {
   "cell_type": "code",
   "execution_count": 4,
   "metadata": {},
   "outputs": [
    {
     "name": "stdout",
     "output_type": "stream",
     "text": [
      "gpu is available\n"
     ]
    }
   ],
   "source": [
    "# GPUチェック\n",
    "tool.is_cuda_available()"
   ]
  },
  {
   "cell_type": "code",
   "execution_count": 5,
   "metadata": {},
   "outputs": [
    {
     "data": {
      "text/plain": [
       "[pattern1]\n",
       "tokenizer = \"koheiduck/bert-japanese-finetuned-sentiment\"\n",
       "model = \"koheiduck/bert-japanese-finetuned-sentiment\"\n",
       "score_folder = \"koheiduck_bert-japanese-finetuned-sentiment\"\n",
       "\n",
       "[pattern2]\n",
       "tokenizer = \"A-Funakoshi/bert-multilingual-sentiments-base\"\n",
       "model = \"A-Funakoshi/bert-multilingual-sentiments-base\"\n",
       "score_folder = \"bert-multilingual-sentiments-base\"\n",
       "\n",
       "[pattern3]\n",
       "tokenizer = \"A-Funakoshi/bert-finetuned-multilingual-sentiments-adamw\"\n",
       "model = \"A-Funakoshi/bert-finetuned-multilingual-sentiments-adamw\"\n",
       "score_folder = \"bert-finetuned-multilingual-sentiments-adamw\"\n",
       "\n",
       "[pattern4]\n",
       "tokenizer = \"A-Funakoshi/bert-wrime-base\"\n",
       "model = \"A-Funakoshi/bert-wrime-base\"\n",
       "score_folder = \"bert-wrime-base\"\n",
       "\n",
       "[pattern5]\n",
       "tokenizer = \"A-Funakoshi/bert-base-japanese-v3-wrime-v2\"\n",
       "model = \"A-Funakoshi/bert-base-japanese-v3-wrime-v2\"\n",
       "score_folder = \"bert-base-japanese-v3-wrime-v2\""
      ]
     },
     "execution_count": 5,
     "metadata": {},
     "output_type": "execute_result"
    }
   ],
   "source": [
    "# 設定ファイルを読み込み\n",
    "model_settings = tool.ReadModelTokenizerTome('./settings/model_tokenizer.toml')\n",
    "model_settings"
   ]
  },
  {
   "cell_type": "code",
   "execution_count": 6,
   "metadata": {},
   "outputs": [
    {
     "name": "stdout",
     "output_type": "stream",
     "text": [
      "tokenizer:koheiduck/bert-japanese-finetuned-sentiment\n",
      "model:koheiduck/bert-japanese-finetuned-sentiment\n",
      "score_folder:koheiduck_bert-japanese-finetuned-sentiment\n"
     ]
    }
   ],
   "source": [
    "# モデルやトークナイザーの名称を定義\n",
    "PATTERN = 'pattern1'\n",
    "\n",
    "model_settings.read(PATTERN)\n",
    "print(model_settings.get_str())"
   ]
  },
  {
   "cell_type": "code",
   "execution_count": 7,
   "metadata": {},
   "outputs": [
    {
     "name": "stderr",
     "output_type": "stream",
     "text": [
      "/usr/local/lib/python3.8/dist-packages/torch/nn/modules/module.py:1383: UserWarning: positional arguments and argument \"destination\" are deprecated. nn.Module.state_dict will not accept them in the future. Refer to https://pytorch.org/docs/master/generated/torch.nn.Module.html#torch.nn.Module.state_dict for details.\n",
      "  warnings.warn(\n"
     ]
    }
   ],
   "source": [
    "# モデルとトークナイザの読み込み\n",
    "tokenizer = AutoTokenizer.from_pretrained(model_settings.tokenizer)\n",
    "model = AutoModelForSequenceClassification.from_pretrained(model_settings.model)"
   ]
  },
  {
   "cell_type": "code",
   "execution_count": 8,
   "metadata": {},
   "outputs": [
    {
     "name": "stdout",
     "output_type": "stream",
     "text": [
      "[{'label': 'POSITIVE', 'score': 0.9896088242530823}]\n",
      "[{'label': 'NEUTRAL', 'score': 0.9275946021080017}]\n",
      "[{'label': 'NEGATIVE', 'score': 0.9918387532234192}]\n"
     ]
    }
   ],
   "source": [
    "# 動作確認\n",
    "cls = pipeline('sentiment-analysis',model=model,tokenizer=tokenizer)\n",
    "print(cls(\"私はとっても幸せ\"))\n",
    "print(cls('吾輩は猫である'))\n",
    "print(cls(\"私はとっても不幸\"))"
   ]
  },
  {
   "cell_type": "code",
   "execution_count": 38,
   "metadata": {},
   "outputs": [
    {
     "name": "stdout",
     "output_type": "stream",
     "text": [
      "logits : [-1.3570833 -2.2782881  3.534339 ]\n",
      "predictions : [0.00743269 0.0029585  0.9896088 ]\n",
      "prediction : 2 POSITIVE\n"
     ]
    }
   ],
   "source": [
    "# トークナイズ処理\n",
    "tokenized_text = tokenizer(\"私はとっても幸せ\" , padding=True, truncation=True, return_tensors='pt')\n",
    "# スコア取得\n",
    "with torch.no_grad():\n",
    "    outputs = model(**tokenized_text)\n",
    "    predictions = F.softmax(outputs.logits, dim=1)\n",
    "    prediction = torch.argmax(predictions, dim=1)\n",
    "\n",
    "print('logits :', outputs.logits.numpy()[0])\n",
    "print('predictions :', predictions.numpy()[0])\n",
    "print('prediction :', \n",
    "      prediction.numpy()[0], \n",
    "      model.config.id2label[prediction.numpy()[0]])"
   ]
  },
  {
   "cell_type": "code",
   "execution_count": null,
   "metadata": {},
   "outputs": [],
   "source": []
  }
 ],
 "metadata": {
  "kernelspec": {
   "display_name": "Python 3",
   "language": "python",
   "name": "python3"
  },
  "language_info": {
   "codemirror_mode": {
    "name": "ipython",
    "version": 3
   },
   "file_extension": ".py",
   "mimetype": "text/x-python",
   "name": "python",
   "nbconvert_exporter": "python",
   "pygments_lexer": "ipython3",
   "version": "3.8.10"
  }
 },
 "nbformat": 4,
 "nbformat_minor": 2
}
