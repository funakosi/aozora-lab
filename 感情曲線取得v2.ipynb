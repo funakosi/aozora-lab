{
 "cells": [
  {
   "cell_type": "markdown",
   "metadata": {},
   "source": [
    "# 青空文庫から感情曲線取得"
   ]
  },
  {
   "cell_type": "code",
   "execution_count": 1,
   "metadata": {},
   "outputs": [],
   "source": [
    "import os\n",
    "import pandas as pd\n",
    "import numpy as np\n",
    "import urllib.error\n",
    "import urllib.request\n",
    "import japanize_matplotlib\n",
    "import matplotlib.pyplot as plt"
   ]
  },
  {
   "cell_type": "code",
   "execution_count": 2,
   "metadata": {},
   "outputs": [],
   "source": [
    "from transformers import AutoTokenizer, AutoModelForSequenceClassification"
   ]
  },
  {
   "cell_type": "code",
   "execution_count": 3,
   "metadata": {},
   "outputs": [],
   "source": [
    "from library import tool\n",
    "from library import preprocess\n",
    "from library import score"
   ]
  },
  {
   "cell_type": "code",
   "execution_count": 4,
   "metadata": {},
   "outputs": [
    {
     "name": "stdout",
     "output_type": "stream",
     "text": [
      "gpu is available\n"
     ]
    }
   ],
   "source": [
    "# GPUが使用できるか確認\n",
    "tool.is_cuda_available()"
   ]
  },
  {
   "cell_type": "code",
   "execution_count": 5,
   "metadata": {},
   "outputs": [
    {
     "data": {
      "text/plain": [
       "[pattern1]\n",
       "tokenizer = \"koheiduck/bert-japanese-finetuned-sentiment\"\n",
       "model = \"koheiduck/bert-japanese-finetuned-sentiment\"\n",
       "score_folder = \"koheiduck_bert-japanese-finetuned-sentiment\"\n",
       "\n",
       "[pattern2]\n",
       "tokenizer = \"A-Funakoshi/bert-finetuned-multilingual-sentiments\"\n",
       "model = \"A-Funakoshi/bert-finetuned-multilingual-sentiments\"\n",
       "score_folder = \"bert-finetuned-multilingual-sentiments\"\n",
       "\n",
       "[pattern3]\n",
       "tokenizer = \"A-Funakoshi/bert-base-japanese-v3-wrime-sentiment\"\n",
       "model = \"A-Funakoshi/bert-base-japanese-v3-wrime-sentiment\"\n",
       "score_folder = \"bert-base-japanese-v3-wrime-sentiment\"\n",
       "\n",
       "[pattern4]\n",
       "tokenizer = \"A-Funakoshi/bert-base-japanese-v3-wrime-v1\"\n",
       "model = \"A-Funakoshi/bert-base-japanese-v3-wrime-v1\"\n",
       "score_folder = \"bert-base-japanese-v3-wrime-v1\"\n",
       "\n",
       "[pattern5]\n",
       "tokenizer = \"A-Funakoshi/bert-finetuned-multilingual-sentiments-adamw\"\n",
       "model = \"A-Funakoshi/bert-finetuned-multilingual-sentiments-adamw\"\n",
       "score_folder = \"bert-finetuned-multilingual-sentiments-adamw\"\n",
       "\n",
       "[pattern6]\n",
       "tokenizer = \"A-Funakoshi/bert-finetuned-multilingual-sentiments-adafactor\"\n",
       "model = \"A-Funakoshi/bert-finetuned-multilingual-sentiments-adafactor\"\n",
       "score_folder = \"bert-finetuned-multilingual-sentiments-adafactor\"\n",
       "\n",
       "[pattern7]\n",
       "tokenizer = \"A-Funakoshi/bert-multilingual-sentiments-base\"\n",
       "model = \"A-Funakoshi/bert-multilingual-sentiments-base\"\n",
       "score_folder = \"bert-multilingual-sentiments-base\"\n",
       "\n",
       "[pattern8]\n",
       "tokenizer = \"A-Funakoshi/bert-wrime-base\"\n",
       "model = \"A-Funakoshi/bert-wrime-base\"\n",
       "score_folder = \"bert-wrime-base\"\n",
       "\n",
       "[pattern9]\n",
       "tokenizer = \"A-Funakoshi/bert-base-japanese-v3-wrime-v2\"\n",
       "model = \"A-Funakoshi/bert-base-japanese-v3-wrime-v2\"\n",
       "score_folder = \"bert-base-japanese-v3-wrime-v2\""
      ]
     },
     "execution_count": 5,
     "metadata": {},
     "output_type": "execute_result"
    }
   ],
   "source": [
    "# 設定ファイルを読み込み\n",
    "model_settings = tool.ReadModelTokenizerTome('./settings/model_tokenizer.toml')\n",
    "model_settings"
   ]
  },
  {
   "cell_type": "code",
   "execution_count": 6,
   "metadata": {},
   "outputs": [
    {
     "name": "stdout",
     "output_type": "stream",
     "text": [
      "tokenizer:A-Funakoshi/bert-base-japanese-v3-wrime-v2\n",
      "model:A-Funakoshi/bert-base-japanese-v3-wrime-v2\n",
      "score_folder:bert-base-japanese-v3-wrime-v2\n"
     ]
    }
   ],
   "source": [
    "# モデルやトークナイザーの名称を定義\n",
    "PATTERN = 'pattern9'\n",
    "\n",
    "model_settings.read(PATTERN)\n",
    "print(model_settings.get_str())"
   ]
  },
  {
   "cell_type": "code",
   "execution_count": 7,
   "metadata": {},
   "outputs": [
    {
     "name": "stdout",
     "output_type": "stream",
     "text": [
      "make save folder.\n"
     ]
    }
   ],
   "source": [
    "# 保存用のフォルダがなければ作成\n",
    "if os.path.isdir(f'data/{model_settings.score_folder}'):\n",
    "    print('savel folder exists.')\n",
    "else:\n",
    "    print('make save folder.')\n",
    "    os.makedirs(f'data/{model_settings.score_folder}')"
   ]
  },
  {
   "cell_type": "code",
   "execution_count": 8,
   "metadata": {},
   "outputs": [
    {
     "name": "stdout",
     "output_type": "stream",
     "text": [
      "A-Funakoshi/bert-base-japanese-v3-wrime-v2 A-Funakoshi/bert-base-japanese-v3-wrime-v2\n"
     ]
    },
    {
     "data": {
      "application/vnd.jupyter.widget-view+json": {
       "model_id": "d3fd78ea8f1e4cd7a2de023c4f483755",
       "version_major": 2,
       "version_minor": 0
      },
      "text/plain": [
       "Downloading (…)okenizer_config.json:   0%|          | 0.00/497 [00:00<?, ?B/s]"
      ]
     },
     "metadata": {},
     "output_type": "display_data"
    },
    {
     "data": {
      "application/vnd.jupyter.widget-view+json": {
       "model_id": "62b563c45437464c8d5f893fb9bb8c8a",
       "version_major": 2,
       "version_minor": 0
      },
      "text/plain": [
       "Downloading (…)solve/main/vocab.txt:   0%|          | 0.00/258k [00:00<?, ?B/s]"
      ]
     },
     "metadata": {},
     "output_type": "display_data"
    },
    {
     "data": {
      "application/vnd.jupyter.widget-view+json": {
       "model_id": "5c7b4aca529f406c9b15915f0bcc2d57",
       "version_major": 2,
       "version_minor": 0
      },
      "text/plain": [
       "Downloading (…)cial_tokens_map.json:   0%|          | 0.00/125 [00:00<?, ?B/s]"
      ]
     },
     "metadata": {},
     "output_type": "display_data"
    },
    {
     "data": {
      "application/vnd.jupyter.widget-view+json": {
       "model_id": "bc8486375f0b4f7f965e4300234af077",
       "version_major": 2,
       "version_minor": 0
      },
      "text/plain": [
       "Downloading (…)lve/main/config.json:   0%|          | 0.00/926 [00:00<?, ?B/s]"
      ]
     },
     "metadata": {},
     "output_type": "display_data"
    },
    {
     "data": {
      "application/vnd.jupyter.widget-view+json": {
       "model_id": "e38dd19a1ed640dd90fa57ce75d3621e",
       "version_major": 2,
       "version_minor": 0
      },
      "text/plain": [
       "Downloading pytorch_model.bin:   0%|          | 0.00/443M [00:00<?, ?B/s]"
      ]
     },
     "metadata": {},
     "output_type": "display_data"
    },
    {
     "name": "stderr",
     "output_type": "stream",
     "text": [
      "/usr/local/lib/python3.8/dist-packages/torch/nn/modules/module.py:1383: UserWarning: positional arguments and argument \"destination\" are deprecated. nn.Module.state_dict will not accept them in the future. Refer to https://pytorch.org/docs/master/generated/torch.nn.Module.html#torch.nn.Module.state_dict for details.\n",
      "  warnings.warn(\n"
     ]
    }
   ],
   "source": [
    "# トークナイザーとモデルを取得\n",
    "print(model_settings.tokenizer, model_settings.model)\n",
    "tokenizer = AutoTokenizer.from_pretrained(model_settings.tokenizer)\n",
    "model = AutoModelForSequenceClassification.from_pretrained(model_settings.model)"
   ]
  },
  {
   "cell_type": "code",
   "execution_count": 9,
   "metadata": {},
   "outputs": [
    {
     "data": {
      "text/plain": [
       "(18798, 55)"
      ]
     },
     "execution_count": 9,
     "metadata": {},
     "output_type": "execute_result"
    }
   ],
   "source": [
    "# 全リスト取得\n",
    "df_all = pd.read_csv('data/list_person_all_extended_utf8.csv')\n",
    "df_all.shape"
   ]
  },
  {
   "cell_type": "code",
   "execution_count": 10,
   "metadata": {},
   "outputs": [
    {
     "data": {
      "text/plain": [
       "3"
      ]
     },
     "execution_count": 10,
     "metadata": {},
     "output_type": "execute_result"
    }
   ],
   "source": [
    "# 取得する作品一覧\n",
    "target_list = [\n",
    "    {'id':4331, 'fname': 'nero', 'exec': True},\n",
    "    {'id':15267, 'fname': 'ginga', 'exec': True},\n",
    "    {'id':1793, 'fname': 'oshie', 'exec': True}\n",
    "]\n",
    "len(target_list)"
   ]
  },
  {
   "cell_type": "code",
   "execution_count": 11,
   "metadata": {},
   "outputs": [],
   "source": [
    "# スコア取得時の対象行数\n",
    "SKIP_ROW = 1\n",
    "\n",
    "# ダウンロードや編集を実施するか\n",
    "DL_CLEANSE = False"
   ]
  },
  {
   "cell_type": "code",
   "execution_count": 12,
   "metadata": {},
   "outputs": [
    {
     "name": "stdout",
     "output_type": "stream",
     "text": [
      "====================================================================================================\n",
      "対象                                                          True\n",
      "人物ID                                                          83\n",
      "氏名                                                          菊池 寛\n",
      "読み                                                        きくち かん\n",
      "作品ID                                                        4880\n",
      "作品名                                                     フランダースの犬\n",
      "副題                                                           NaN\n",
      "作品名読み                                                  フランダースのいぬ\n",
      "図書カードURL       https://www.aozora.gr.jp/cards/001044/card4880...\n",
      "テキストファイルURL    https://www.aozora.gr.jp/cards/001044/files/48...\n",
      "テキストファイルパス                                                      \n",
      "備考                                                              \n",
      "Name: 4331, dtype: object\n",
      "----------------------------------------------------------------------------------------------------\n",
      "https://www.aozora.gr.jp/cards/001044/files/4880_ruby_13757.zip\n",
      "フランダースの犬\n",
      "data/cards\n",
      "data/bert-base-japanese-v3-wrime-v2\n",
      "data/cards/4880_ruby_13757.zip\n",
      "nero_org.csvnero_edit.csv\n",
      "nero_score.csv\n",
      "----------------------------------------------------------------------------------------------------\n",
      "skip download, cleansing.\n",
      "                                                   text\n",
      "type                                                   \n",
      "本文                       ネルロとパトラッシュ――この二人はさびしい身の上同志でした。\n",
      "本文    ふたりともこの世に頼るものなく取り残されたひとりぼっち同志ですから、その仲のいいことは言うま...\n",
      "本文                          いや、「仲がいい」くらいな言葉では言いあらわせません。\n",
      "本文                           兄弟でもこれほど愛し合っている者はまずないでしょう。\n",
      "本文                       ほんとにこれ以上の親しさはかんがえられないほどの間柄でした。\n",
      "----------------------------------------------------------------------------------------------------\n"
     ]
    },
    {
     "data": {
      "application/vnd.jupyter.widget-view+json": {
       "model_id": "0f39d5e454f2430880be8112a738e721",
       "version_major": 2,
       "version_minor": 0
      },
      "text/plain": [
       "  0%|          | 0/799 [00:00<?, ?it/s]"
      ]
     },
     "metadata": {},
     "output_type": "display_data"
    },
    {
     "name": "stdout",
     "output_type": "stream",
     "text": [
      "save score file data/bert-base-japanese-v3-wrime-v2/nero_score.csv\n",
      "====================================================================================================\n",
      "対象                                                          True\n",
      "人物ID                                                          81\n",
      "氏名                                                         宮沢 賢治\n",
      "読み                                                      みやざわ けんじ\n",
      "作品ID                                                         456\n",
      "作品名                                                       銀河鉄道の夜\n",
      "副題                                                           NaN\n",
      "作品名読み                                                 ぎんがてつどうのよる\n",
      "図書カードURL       https://www.aozora.gr.jp/cards/000081/card456....\n",
      "テキストファイルURL    https://www.aozora.gr.jp/cards/000081/files/45...\n",
      "テキストファイルパス                                                      \n",
      "備考                                                              \n",
      "Name: 15267, dtype: object\n",
      "----------------------------------------------------------------------------------------------------\n",
      "https://www.aozora.gr.jp/cards/000081/files/456_ruby_145.zip\n",
      "銀河鉄道の夜\n",
      "data/cards\n",
      "data/bert-base-japanese-v3-wrime-v2\n",
      "data/cards/456_ruby_145.zip\n",
      "ginga_org.csvginga_edit.csv\n",
      "ginga_score.csv\n",
      "----------------------------------------------------------------------------------------------------\n",
      "skip download, cleansing.\n",
      "                                                   text\n",
      "type                                                   \n",
      "見出し                                             一、午后の授業\n",
      "本文    「ではみなさんは、そういうふうに川だと云われたり、乳の流れたあとだと云われたりしていたこのぼ...\n",
      "本文    」先生は、黒板に吊した大きな黒い星座の図の、上から下へ白くけぶった銀河帯のようなところを指し...\n",
      "本文                                      カムパネルラが手をあげました。\n",
      "本文                                      それから四五人手をあげました。\n",
      "----------------------------------------------------------------------------------------------------\n"
     ]
    },
    {
     "data": {
      "application/vnd.jupyter.widget-view+json": {
       "model_id": "6800322e5aab4178a2701c9c96de1fe8",
       "version_major": 2,
       "version_minor": 0
      },
      "text/plain": [
       "  0%|          | 0/1157 [00:00<?, ?it/s]"
      ]
     },
     "metadata": {},
     "output_type": "display_data"
    },
    {
     "name": "stdout",
     "output_type": "stream",
     "text": [
      "save score file data/bert-base-japanese-v3-wrime-v2/ginga_score.csv\n",
      "====================================================================================================\n",
      "対象                                                          True\n",
      "人物ID                                                        1779\n",
      "氏名                                                        江戸川 乱歩\n",
      "読み                                                      えどがわ らんぽ\n",
      "作品ID                                                       56645\n",
      "作品名                                                      押絵と旅する男\n",
      "副題                                                           NaN\n",
      "作品名読み                                                おしえとたびするおとこ\n",
      "図書カードURL       https://www.aozora.gr.jp/cards/001779/card5664...\n",
      "テキストファイルURL    https://www.aozora.gr.jp/cards/001779/files/56...\n",
      "テキストファイルパス                                                      \n",
      "備考                                                              \n",
      "Name: 1793, dtype: object\n",
      "----------------------------------------------------------------------------------------------------\n",
      "https://www.aozora.gr.jp/cards/001779/files/56645_ruby_58194.zip\n",
      "押絵と旅する男\n",
      "data/cards\n",
      "data/bert-base-japanese-v3-wrime-v2\n",
      "data/cards/56645_ruby_58194.zip\n",
      "oshie_org.csvoshie_edit.csv\n",
      "oshie_score.csv\n",
      "----------------------------------------------------------------------------------------------------\n",
      "skip download, cleansing.\n",
      "                                                   text\n",
      "type                                                   \n",
      "本文    この話が私の夢か私の一時的狂気の幻でなかったならば、あの押絵と旅をしていた男こそ狂人であった...\n",
      "本文    だが、夢が時として、どこかこの世界と喰違った別の世界を、チラリと覗かせてくれる様に、又狂人が...\n",
      "本文                            いつとも知れぬ、ある暖かい薄曇った日のことである。\n",
      "本文                        その時、私は態々魚津へ蜃気楼を見に出掛けた帰り途であった。\n",
      "本文    私がこの話をすると、時々、お前は魚津なんかへ行ったことはないじゃないかと、親しい友達に突っ込...\n",
      "----------------------------------------------------------------------------------------------------\n"
     ]
    },
    {
     "data": {
      "application/vnd.jupyter.widget-view+json": {
       "model_id": "1a53af95f00a4dcd9c72a2953b46950d",
       "version_major": 2,
       "version_minor": 0
      },
      "text/plain": [
       "  0%|          | 0/323 [00:00<?, ?it/s]"
      ]
     },
     "metadata": {},
     "output_type": "display_data"
    },
    {
     "name": "stdout",
     "output_type": "stream",
     "text": [
      "save score file data/bert-base-japanese-v3-wrime-v2/oshie_score.csv\n"
     ]
    }
   ],
   "source": [
    "for target in target_list:\n",
    "    # 特徴量を絞る\n",
    "    df = preprocess.select_features(df_all)\n",
    "    print('='*100)\n",
    "    print(df.iloc[target['id']])\n",
    "    # 対象作品(必要な情報の取得)\n",
    "    target_file = df.iloc[target['id']]['テキストファイルURL']\n",
    "    target_work_name = df.iloc[target['id']]['作品名']\n",
    "    org_dir = 'data/cards'\n",
    "    score_dir = f'data/{model_settings.score_folder}'\n",
    "    zip_path = f\"{org_dir}/{target_file.split('/')[-1]}\"\n",
    "    org_file_name = f\"{target['fname']}_org.csv\"\n",
    "    edit_file_name = f\"{target['fname']}_edit.csv\"\n",
    "    score_file_name = f\"{target['fname']}_score.csv\"\n",
    "    print('-'*100)\n",
    "    # 確認\n",
    "    print(f'{target_file}\\n{target_work_name}\\n'\n",
    "          f'{org_dir}\\n{score_dir}\\n{zip_path}\\n{org_file_name}'\n",
    "          f'{edit_file_name}\\n{score_file_name}')\n",
    "    print('-'*100)\n",
    "    if DL_CLEANSE:   # skip download/cleansing\n",
    "        # Zipダウンロード\n",
    "        preprocess.download_file(target_file, zip_path)\n",
    "        # Zip読み込み\n",
    "        target_df = preprocess.save_text(zip_path, org_dir, org_file_name)\n",
    "        print('shape:',target_df.shape)\n",
    "        print('-'*100)\n",
    "        # データクレンジング\n",
    "        print('data cleansing.')\n",
    "        author_name = df.iloc[15267]['氏名'].replace(' ', '')\n",
    "        body_df = preprocess.get_text_body(target_df, author_name)   # 本文取得\n",
    "        body_df2 = preprocess.split_kuten(body_df)  # 句点「。」で分割\n",
    "        body_df3 = preprocess.add_type_column(body_df2)   # type列追加\n",
    "        body_df4 = preprocess.remove_aozora_format(body_df3)  # 青空文庫の書式を削除\n",
    "        body_df5 = preprocess.reset_index(body_df4)  # インデックスをリセット\n",
    "        # 編集後のファイルをCSVとして保存\n",
    "        print('save cleansing file.',f'{org_dir}/{edit_file_name}')\n",
    "        file_path = f'{org_dir}/{edit_file_name}'\n",
    "        body_df5.to_csv(file_path, index=False)\n",
    "    else:\n",
    "        print('skip download, cleansing.')\n",
    "        file_path = f'{org_dir}/{edit_file_name}'\n",
    "        body_df5 = pd.read_csv(file_path, index_col=0)\n",
    "        print(body_df5.head())\n",
    "    print('-'*100)\n",
    "    if target['exec']:\n",
    "        # スコア取得    \n",
    "        score_df = score.get_novel_score(tokenizer, model, file_path, skip_row=SKIP_ROW)\n",
    "        # スコアをCSVで保存\n",
    "        score_path = f'{score_dir}/{score_file_name}'\n",
    "        score_df.to_csv(score_path)\n",
    "        print('save score file', score_path)\n",
    "    else:\n",
    "        print('skip scoring')"
   ]
  },
  {
   "cell_type": "markdown",
   "metadata": {},
   "source": [
    "## 感情曲線表示"
   ]
  },
  {
   "cell_type": "code",
   "execution_count": 13,
   "metadata": {},
   "outputs": [],
   "source": [
    "score_list = []\n",
    "novel_list = []\n",
    "length_list = []\n",
    "for target in target_list:\n",
    "    # スコアファイルを読み込む\n",
    "    score_dir = f'data/{model_settings.score_folder}'\n",
    "    score_file_name = f\"{target['fname']}_score.csv\"\n",
    "    score_path = f'{score_dir}/{score_file_name}'\n",
    "    score_df = pd.read_csv(score_path)\n",
    "    # スコアの平均化/正規化\n",
    "    window_size = int(score_df.shape[0] / 5)\n",
    "    logit_score_mean = score.get_score_mean(score_df['logit_score'], window_size=window_size)\n",
    "    logit_score_norm = score.score_normalize(logit_score_mean)\n",
    "    # リストに保存\n",
    "    score_list.append(logit_score_norm)  # スコア\n",
    "    novel_list.append(df.iloc[target['id']]['作品名'])  # 作品名\n",
    "    length_list.append(score_df.shape[0])  # 行数"
   ]
  },
  {
   "cell_type": "code",
   "execution_count": 15,
   "metadata": {},
   "outputs": [
    {
     "data": {
      "text/plain": [
       "(['フランダースの犬', '銀河鉄道の夜', '押絵と旅する男'],\n",
       " 'A-Funakoshi/bert-base-japanese-v3-wrime-v2',\n",
       " 1)"
      ]
     },
     "execution_count": 15,
     "metadata": {},
     "output_type": "execute_result"
    }
   ],
   "source": [
    "novel_list, model_settings.model, SKIP_ROW"
   ]
  },
  {
   "cell_type": "code",
   "execution_count": 16,
   "metadata": {},
   "outputs": [
    {
     "data": {
      "image/png": "[encoded data removed]",
      "text/plain": [
       "<Figure size 1440x360 with 3 Axes>"
      ]
     },
     "metadata": {
      "needs_background": "light"
     },
     "output_type": "display_data"
    }
   ],
   "source": [
    "plt.figure(figsize=(20, 5))\n",
    "plt.suptitle(f'{model_settings.model} ({SKIP_ROW}行単位でスコア取得)', fontsize=20)\n",
    "for idx in np.arange(len(score_list)):\n",
    "    plt.subplot(1, 3, idx+1)\n",
    "    plt.title(f'{novel_list[idx]}({length_list[idx]})', fontsize=18)\n",
    "    plt.plot(score_list[idx])\n",
    "plt.tight_layout()"
   ]
  },
  {
   "cell_type": "code",
   "execution_count": null,
   "metadata": {},
   "outputs": [],
   "source": []
  }
 ],
 "metadata": {
  "kernelspec": {
   "display_name": "Python 3",
   "language": "python",
   "name": "python3"
  },
  "language_info": {
   "codemirror_mode": {
    "name": "ipython",
    "version": 3
   },
   "file_extension": ".py",
   "mimetype": "text/x-python",
   "name": "python",
   "nbconvert_exporter": "python",
   "pygments_lexer": "ipython3",
   "version": "3.8.10"
  },
  "orig_nbformat": 4
 },
 "nbformat": 4,
 "nbformat_minor": 2
}
