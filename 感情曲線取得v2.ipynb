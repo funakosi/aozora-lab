{
 "cells": [
  {
   "cell_type": "markdown",
   "metadata": {},
   "source": [
    "# 青空文庫から感情曲線取得"
   ]
  },
  {
   "cell_type": "code",
   "execution_count": 1,
   "metadata": {},
   "outputs": [],
   "source": [
    "import os\n",
    "import pandas as pd\n",
    "import numpy as np\n",
    "import urllib.error\n",
    "import urllib.request\n",
    "import japanize_matplotlib\n",
    "import matplotlib.pyplot as plt"
   ]
  },
  {
   "cell_type": "code",
   "execution_count": 2,
   "metadata": {},
   "outputs": [],
   "source": [
    "from transformers import AutoTokenizer, AutoModelForSequenceClassification"
   ]
  },
  {
   "cell_type": "code",
   "execution_count": 3,
   "metadata": {},
   "outputs": [],
   "source": [
    "from library import tool\n",
    "from library import preprocess\n",
    "from library import score"
   ]
  },
  {
   "cell_type": "code",
   "execution_count": 4,
   "metadata": {},
   "outputs": [
    {
     "name": "stdout",
     "output_type": "stream",
     "text": [
      "gpu is available\n"
     ]
    }
   ],
   "source": [
    "# GPUが使用できるか確認\n",
    "tool.is_cuda_available()"
   ]
  },
  {
   "cell_type": "code",
   "execution_count": 5,
   "metadata": {},
   "outputs": [
    {
     "data": {
      "text/plain": [
       "[pattern1]\n",
       "tokenizer = \"koheiduck/bert-japanese-finetuned-sentiment\"\n",
       "model = \"koheiduck/bert-japanese-finetuned-sentiment\"\n",
       "score_folder = \"koheiduck_bert-japanese-finetuned-sentiment\"\n",
       "\n",
       "[pattern2]\n",
       "tokenizer = \"A-Funakoshi/bert-finetuned-multilingual-sentiments\"\n",
       "model = \"A-Funakoshi/bert-finetuned-multilingual-sentiments\"\n",
       "score_folder = \"bert-finetuned-multilingual-sentiments\"\n",
       "\n",
       "[pattern3]\n",
       "tokenizer = \"A-Funakoshi/bert-base-japanese-v3-wrime-sentiment\"\n",
       "model = \"A-Funakoshi/bert-base-japanese-v3-wrime-sentiment\"\n",
       "score_folder = \"bert-base-japanese-v3-wrime-sentiment\"\n",
       "\n",
       "[pattern4]\n",
       "tokenizer = \"A-Funakoshi/bert-base-japanese-v3-wrime-v1\"\n",
       "model = \"A-Funakoshi/bert-base-japanese-v3-wrime-v1\"\n",
       "score_folder = \"bert-base-japanese-v3-wrime-v1\"\n",
       "\n",
       "[pattern5]\n",
       "tokenizer = \"A-Funakoshi/bert-finetuned-multilingual-sentiments-adamw\"\n",
       "model = \"A-Funakoshi/bert-finetuned-multilingual-sentiments-adamw\"\n",
       "score_folder = \"bert-finetuned-multilingual-sentiments-adamw\"\n",
       "\n",
       "[pattern6]\n",
       "tokenizer = \"A-Funakoshi/bert-finetuned-multilingual-sentiments-adafactor\"\n",
       "model = \"A-Funakoshi/bert-finetuned-multilingual-sentiments-adafactor\"\n",
       "score_folder = \"bert-finetuned-multilingual-sentiments-adafactor\""
      ]
     },
     "execution_count": 5,
     "metadata": {},
     "output_type": "execute_result"
    }
   ],
   "source": [
    "# 設定ファイルを読み込み\n",
    "model_settings = tool.ReadModelTokenizerTome('./settings/model_tokenizer.toml')\n",
    "model_settings"
   ]
  },
  {
   "cell_type": "code",
   "execution_count": 6,
   "metadata": {},
   "outputs": [
    {
     "name": "stdout",
     "output_type": "stream",
     "text": [
      "tokenizer:A-Funakoshi/bert-base-japanese-v3-wrime-sentiment\n",
      "model:A-Funakoshi/bert-base-japanese-v3-wrime-sentiment\n",
      "score_folder:bert-base-japanese-v3-wrime-sentiment\n"
     ]
    }
   ],
   "source": [
    "# モデルやトークナイザーの名称を定義\n",
    "PATTERN = 'pattern3'\n",
    "\n",
    "model_settings.read(PATTERN)\n",
    "print(model_settings.get_str())"
   ]
  },
  {
   "cell_type": "code",
   "execution_count": 7,
   "metadata": {},
   "outputs": [
    {
     "name": "stdout",
     "output_type": "stream",
     "text": [
      "savel folder exists.\n"
     ]
    }
   ],
   "source": [
    "# 保存用のフォルダがなければ作成\n",
    "if os.path.isdir(f'data/{model_settings.score_folder}'):\n",
    "    print('savel folder exists.')\n",
    "else:\n",
    "    print('make save folder.')\n",
    "    os.makedirs(f'data/{model_settings.score_folder}')"
   ]
  },
  {
   "cell_type": "code",
   "execution_count": 8,
   "metadata": {},
   "outputs": [
    {
     "name": "stdout",
     "output_type": "stream",
     "text": [
      "A-Funakoshi/bert-base-japanese-v3-wrime-sentiment A-Funakoshi/bert-base-japanese-v3-wrime-sentiment\n"
     ]
    },
    {
     "name": "stderr",
     "output_type": "stream",
     "text": [
      "/usr/local/lib/python3.8/dist-packages/torch/nn/modules/module.py:1383: UserWarning: positional arguments and argument \"destination\" are deprecated. nn.Module.state_dict will not accept them in the future. Refer to https://pytorch.org/docs/master/generated/torch.nn.Module.html#torch.nn.Module.state_dict for details.\n",
      "  warnings.warn(\n"
     ]
    }
   ],
   "source": [
    "# トークナイザーとモデルを取得\n",
    "print(model_settings.tokenizer, model_settings.model)\n",
    "tokenizer = AutoTokenizer.from_pretrained(model_settings.tokenizer)\n",
    "model = AutoModelForSequenceClassification.from_pretrained(model_settings.model)"
   ]
  },
  {
   "cell_type": "code",
   "execution_count": 9,
   "metadata": {},
   "outputs": [
    {
     "data": {
      "text/plain": [
       "(18798, 55)"
      ]
     },
     "execution_count": 9,
     "metadata": {},
     "output_type": "execute_result"
    }
   ],
   "source": [
    "# 全リスト取得\n",
    "df_all = pd.read_csv('data/list_person_all_extended_utf8.csv')\n",
    "df_all.shape"
   ]
  },
  {
   "cell_type": "code",
   "execution_count": 10,
   "metadata": {},
   "outputs": [
    {
     "data": {
      "text/plain": [
       "3"
      ]
     },
     "execution_count": 10,
     "metadata": {},
     "output_type": "execute_result"
    }
   ],
   "source": [
    "# 取得する作品一覧\n",
    "target_list = [\n",
    "    {'id':4331, 'fname': 'nero'},\n",
    "    {'id':15267, 'fname': 'ginga'},\n",
    "    {'id':1793, 'fname': 'oshie'}\n",
    "]\n",
    "len(target_list)"
   ]
  },
  {
   "cell_type": "code",
   "execution_count": 11,
   "metadata": {},
   "outputs": [],
   "source": [
    "# スコア取得時の対象行数\n",
    "SKIP_ROW = 1"
   ]
  },
  {
   "cell_type": "code",
   "execution_count": 12,
   "metadata": {},
   "outputs": [
    {
     "name": "stdout",
     "output_type": "stream",
     "text": [
      "====================================================================================================\n",
      "対象                                                          True\n",
      "人物ID                                                          83\n",
      "氏名                                                          菊池 寛\n",
      "読み                                                        きくち かん\n",
      "作品ID                                                        4880\n",
      "作品名                                                     フランダースの犬\n",
      "副題                                                           NaN\n",
      "作品名読み                                                  フランダースのいぬ\n",
      "図書カードURL       https://www.aozora.gr.jp/cards/001044/card4880...\n",
      "テキストファイルURL    https://www.aozora.gr.jp/cards/001044/files/48...\n",
      "テキストファイルパス                                                      \n",
      "備考                                                              \n",
      "Name: 4331, dtype: object\n",
      "----------------------------------------------------------------------------------------------------\n",
      "https://www.aozora.gr.jp/cards/001044/files/4880_ruby_13757.zip\n",
      "フランダースの犬\n",
      "data/cards\n",
      "data/bert-base-japanese-v3-wrime-sentiment\n",
      "data/cards/4880_ruby_13757.zip\n",
      "nero_org.csvnero_edit.csv\n",
      "nero_score.csv\n",
      "----------------------------------------------------------------------------------------------------\n",
      "read data/cards/nero_org.csv\n",
      "shape: (210, 1)\n",
      "----------------------------------------------------------------------------------------------------\n",
      "data cleansing.\n",
      "save cleansing file. data/cards/nero_edit.csv\n",
      "----------------------------------------------------------------------------------------------------\n"
     ]
    },
    {
     "data": {
      "application/vnd.jupyter.widget-view+json": {
       "model_id": "82a2c5c7e227456491e4a91cd6c1c48e",
       "version_major": 2,
       "version_minor": 0
      },
      "text/plain": [
       "  0%|          | 0/799 [00:00<?, ?it/s]"
      ]
     },
     "metadata": {},
     "output_type": "display_data"
    },
    {
     "name": "stdout",
     "output_type": "stream",
     "text": [
      "save score file data/bert-base-japanese-v3-wrime-sentiment/nero_score.csv\n",
      "====================================================================================================\n",
      "対象                                                          True\n",
      "人物ID                                                          81\n",
      "氏名                                                         宮沢 賢治\n",
      "読み                                                      みやざわ けんじ\n",
      "作品ID                                                         456\n",
      "作品名                                                       銀河鉄道の夜\n",
      "副題                                                           NaN\n",
      "作品名読み                                                 ぎんがてつどうのよる\n",
      "図書カードURL       https://www.aozora.gr.jp/cards/000081/card456....\n",
      "テキストファイルURL    https://www.aozora.gr.jp/cards/000081/files/45...\n",
      "テキストファイルパス                                                      \n",
      "備考                                                              \n",
      "Name: 15267, dtype: object\n",
      "----------------------------------------------------------------------------------------------------\n",
      "https://www.aozora.gr.jp/cards/000081/files/456_ruby_145.zip\n",
      "銀河鉄道の夜\n",
      "data/cards\n",
      "data/bert-base-japanese-v3-wrime-sentiment\n",
      "data/cards/456_ruby_145.zip\n",
      "ginga_org.csvginga_edit.csv\n",
      "ginga_score.csv\n",
      "----------------------------------------------------------------------------------------------------\n",
      "read data/cards/ginga_org.csv\n",
      "shape: (481, 1)\n",
      "----------------------------------------------------------------------------------------------------\n",
      "data cleansing.\n",
      "save cleansing file. data/cards/ginga_edit.csv\n",
      "----------------------------------------------------------------------------------------------------\n"
     ]
    },
    {
     "data": {
      "application/vnd.jupyter.widget-view+json": {
       "model_id": "67377d67b4b04627b0276ccc49bda0e8",
       "version_major": 2,
       "version_minor": 0
      },
      "text/plain": [
       "  0%|          | 0/1157 [00:00<?, ?it/s]"
      ]
     },
     "metadata": {},
     "output_type": "display_data"
    },
    {
     "name": "stdout",
     "output_type": "stream",
     "text": [
      "save score file data/bert-base-japanese-v3-wrime-sentiment/ginga_score.csv\n",
      "====================================================================================================\n",
      "対象                                                          True\n",
      "人物ID                                                        1779\n",
      "氏名                                                        江戸川 乱歩\n",
      "読み                                                      えどがわ らんぽ\n",
      "作品ID                                                       56645\n",
      "作品名                                                      押絵と旅する男\n",
      "副題                                                           NaN\n",
      "作品名読み                                                おしえとたびするおとこ\n",
      "図書カードURL       https://www.aozora.gr.jp/cards/001779/card5664...\n",
      "テキストファイルURL    https://www.aozora.gr.jp/cards/001779/files/56...\n",
      "テキストファイルパス                                                      \n",
      "備考                                                              \n",
      "Name: 1793, dtype: object\n",
      "----------------------------------------------------------------------------------------------------\n",
      "https://www.aozora.gr.jp/cards/001779/files/56645_ruby_58194.zip\n",
      "押絵と旅する男\n",
      "data/cards\n",
      "data/bert-base-japanese-v3-wrime-sentiment\n",
      "data/cards/56645_ruby_58194.zip\n",
      "oshie_org.csvoshie_edit.csv\n",
      "oshie_score.csv\n",
      "----------------------------------------------------------------------------------------------------\n",
      "read data/cards/oshie_org.csv\n",
      "shape: (127, 1)\n",
      "----------------------------------------------------------------------------------------------------\n",
      "data cleansing.\n",
      "save cleansing file. data/cards/oshie_edit.csv\n",
      "----------------------------------------------------------------------------------------------------\n"
     ]
    },
    {
     "data": {
      "application/vnd.jupyter.widget-view+json": {
       "model_id": "e33aeafe54794ba0b984654ca619b395",
       "version_major": 2,
       "version_minor": 0
      },
      "text/plain": [
       "  0%|          | 0/323 [00:00<?, ?it/s]"
      ]
     },
     "metadata": {},
     "output_type": "display_data"
    },
    {
     "name": "stdout",
     "output_type": "stream",
     "text": [
      "save score file data/bert-base-japanese-v3-wrime-sentiment/oshie_score.csv\n"
     ]
    }
   ],
   "source": [
    "for target in target_list:\n",
    "    # 特徴量を絞る\n",
    "    df = preprocess.select_features(df_all)\n",
    "    print('='*100)\n",
    "    print(df.iloc[target['id']])\n",
    "    # 対象作品(必要な情報の取得)\n",
    "    target_file = df.iloc[target['id']]['テキストファイルURL']\n",
    "    target_work_name = df.iloc[target['id']]['作品名']\n",
    "    org_dir = 'data/cards'\n",
    "    score_dir = f'data/{model_settings.score_folder}'\n",
    "    zip_path = f\"{org_dir}/{target_file.split('/')[-1]}\"\n",
    "    org_file_name = f\"{target['fname']}_org.csv\"\n",
    "    edit_file_name = f\"{target['fname']}_edit.csv\"\n",
    "    score_file_name = f\"{target['fname']}_score.csv\"\n",
    "    print('-'*100)\n",
    "    # 確認\n",
    "    print(f'{target_file}\\n{target_work_name}\\n'\n",
    "          f'{org_dir}\\n{score_dir}\\n{zip_path}\\n{org_file_name}'\n",
    "          f'{edit_file_name}\\n{score_file_name}')\n",
    "    print('-'*100)\n",
    "    # Zipダウンロード\n",
    "    preprocess.download_file(target_file, zip_path)\n",
    "    # Zip読み込み\n",
    "    target_df = preprocess.save_text(zip_path, org_dir, org_file_name)\n",
    "    print('shape:',target_df.shape)\n",
    "    print('-'*100)\n",
    "    # データクレンジング\n",
    "    print('data cleansing.')\n",
    "    author_name = df.iloc[15267]['氏名'].replace(' ', '')\n",
    "    body_df = preprocess.get_text_body(target_df, author_name)   # 本文取得\n",
    "    body_df2 = preprocess.split_kuten(body_df)  # 句点「。」で分割\n",
    "    body_df3 = preprocess.add_type_column(body_df2)   # type列追加\n",
    "    body_df4 = preprocess.remove_aozora_format(body_df3)  # 青空文庫の書式を削除\n",
    "    body_df5 = preprocess.reset_index(body_df4)  # インデックスをリセット\n",
    "    # 編集後のファイルをCSVとして保存\n",
    "    print('save cleansing file.',f'{org_dir}/{edit_file_name}')\n",
    "    file_path = f'{org_dir}/{edit_file_name}'\n",
    "    body_df5.to_csv(file_path, index=False)\n",
    "    print('-'*100)\n",
    "    # スコア取得\n",
    "    score_df = score.get_novel_score(tokenizer, model, file_path, skip_row=SKIP_ROW)\n",
    "    # スコアをCSVで保存\n",
    "    score_path = f'{score_dir}/{score_file_name}'\n",
    "    score_df.to_csv(score_path)\n",
    "    print('save score file', score_path)"
   ]
  },
  {
   "cell_type": "markdown",
   "metadata": {},
   "source": [
    "## 感情曲線表示"
   ]
  },
  {
   "cell_type": "code",
   "execution_count": 13,
   "metadata": {},
   "outputs": [],
   "source": [
    "score_list = []\n",
    "novel_list = []\n",
    "for target in target_list:\n",
    "    # スコアファイルを読み込む\n",
    "    score_dir = f'data/{model_settings.score_folder}'\n",
    "    score_file_name = f\"{target['fname']}_score.csv\"\n",
    "    score_path = f'{score_dir}/{score_file_name}'\n",
    "    score_df = pd.read_csv(score_path)\n",
    "    # スコアの平均化/正規化\n",
    "    window_size = int(score_df.shape[0] / 5)\n",
    "    logit_score_mean = score.get_score_mean(score_df['logit_score'], window_size=window_size)\n",
    "    logit_score_norm = score.score_normalize(logit_score_mean)\n",
    "    # リストに保存\n",
    "    score_list.append(logit_score_norm)  # スコア\n",
    "    novel_list.append(df.iloc[target['id']]['作品名'])  # 作品名"
   ]
  },
  {
   "cell_type": "code",
   "execution_count": 14,
   "metadata": {},
   "outputs": [
    {
     "data": {
      "text/plain": [
       "(['フランダースの犬', '銀河鉄道の夜', '押絵と旅する男'],\n",
       " 'A-Funakoshi/bert-base-japanese-v3-wrime-sentiment',\n",
       " 1)"
      ]
     },
     "execution_count": 14,
     "metadata": {},
     "output_type": "execute_result"
    }
   ],
   "source": [
    "novel_list, model_settings.model, SKIP_ROW"
   ]
  },
  {
   "cell_type": "code",
   "execution_count": 15,
   "metadata": {},
   "outputs": [
    {
     "data": {
      "image/png": "[encoded data removed]",
      "text/plain": [
       "<Figure size 1440x360 with 3 Axes>"
      ]
     },
     "metadata": {
      "needs_background": "light"
     },
     "output_type": "display_data"
    }
   ],
   "source": [
    "plt.figure(figsize=(20, 5))\n",
    "plt.suptitle(f'{model_settings.model} ({SKIP_ROW}行単位でスコア取得)', fontsize=20)\n",
    "for idx in np.arange(len(score_list)):\n",
    "    plt.subplot(1, 3, idx+1)\n",
    "    plt.title(novel_list[idx], fontsize=18)\n",
    "    plt.plot(score_list[idx])\n",
    "plt.tight_layout()"
   ]
  },
  {
   "cell_type": "code",
   "execution_count": null,
   "metadata": {},
   "outputs": [],
   "source": []
  }
 ],
 "metadata": {
  "kernelspec": {
   "display_name": "Python 3",
   "language": "python",
   "name": "python3"
  },
  "language_info": {
   "codemirror_mode": {
    "name": "ipython",
    "version": 3
   },
   "file_extension": ".py",
   "mimetype": "text/x-python",
   "name": "python",
   "nbconvert_exporter": "python",
   "pygments_lexer": "ipython3",
   "version": "3.8.10"
  },
  "orig_nbformat": 4
 },
 "nbformat": 4,
 "nbformat_minor": 2
}
