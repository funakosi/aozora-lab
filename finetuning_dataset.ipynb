{
 "cells": [
  {
   "cell_type": "markdown",
   "metadata": {},
   "source": [
    "# ファインチューニングに使用したデータセット\n",
    "\n",
    "参考としたコード\n",
    "- Multilingual Sentiments Dataset\n",
    "  - https://dev.classmethod.jp/articles/huggingface-jp-text-classification/\n",
    "  - https://dev.classmethod.jp/articles/huggingface-usage-custom-model/\n",
    "- 主観と客観の感情分析データセット\n",
    "  - https://github.com/ghmagazine/llm-book/blob/main/chapter5/5-2-sentiment-analysis-finetuning-wrime.ipynb"
   ]
  },
  {
   "cell_type": "code",
   "execution_count": 2,
   "metadata": {},
   "outputs": [
    {
     "name": "stdout",
     "output_type": "stream",
     "text": [
      "gpu is available\n"
     ]
    }
   ],
   "source": [
    "import torch\n",
    "# GPUが使用可能か判断\n",
    "if torch.cuda.is_available():\n",
    "    print('gpu is available')\n",
    "else:\n",
    "    raise Exception('gpu is NOT available')"
   ]
  },
  {
   "cell_type": "code",
   "execution_count": 3,
   "metadata": {},
   "outputs": [],
   "source": [
    "import japanize_matplotlib\n",
    "import matplotlib.pyplot as plt\n",
    "import numpy as np\n",
    "import pandas as pd"
   ]
  },
  {
   "cell_type": "markdown",
   "metadata": {},
   "source": [
    "## multilingual-sentiments"
   ]
  },
  {
   "cell_type": "code",
   "execution_count": 4,
   "metadata": {},
   "outputs": [
    {
     "name": "stdout",
     "output_type": "stream",
     "text": [
      "Dataset({\n",
      "    features: ['text', 'source', 'label'],\n",
      "    num_rows: 120000\n",
      "})\n",
      "Dataset({\n",
      "    features: ['text', 'source', 'label'],\n",
      "    num_rows: 3000\n",
      "})\n",
      "Dataset({\n",
      "    features: ['text', 'source', 'label'],\n",
      "    num_rows: 3000\n",
      "})\n"
     ]
    }
   ],
   "source": [
    "from pprint import pprint\n",
    "from datasets import load_dataset\n",
    "\n",
    "# Hugging Face Hub上ののリポジトリからデータを読み込む\n",
    "train_multi_dataset = load_dataset(\"tyqiangz/multilingual-sentiments\", \"japanese\", split=\"train\")\n",
    "valid_multi_dataset = load_dataset(\"tyqiangz/multilingual-sentiments\", \"japanese\", split=\"validation\")\n",
    "test_multi_dataset = load_dataset(\"tyqiangz/multilingual-sentiments\", \"japanese\", split=\"test\")\n",
    "# pprintで見やすく表示する\n",
    "pprint(train_multi_dataset)\n",
    "pprint(valid_multi_dataset)\n",
    "pprint(test_multi_dataset)"
   ]
  },
  {
   "cell_type": "code",
   "execution_count": 5,
   "metadata": {},
   "outputs": [],
   "source": [
    "multi_dataset = load_dataset('tyqiangz/multilingual-sentiments', 'japanese')\n",
    "multi_dataset.set_format(type='pandas')\n",
    "df = multi_dataset['train'][:]"
   ]
  },
  {
   "cell_type": "code",
   "execution_count": 6,
   "metadata": {},
   "outputs": [
    {
     "data": {
      "text/plain": [
       "{'text': Value(dtype='string', id=None),\n",
       " 'source': Value(dtype='string', id=None),\n",
       " 'label': ClassLabel(names=['positive', 'neutral', 'negative'], id=None)}"
      ]
     },
     "execution_count": 6,
     "metadata": {},
     "output_type": "execute_result"
    }
   ],
   "source": [
    "multi_dataset['train'].features"
   ]
  },
  {
   "cell_type": "code",
   "execution_count": 7,
   "metadata": {},
   "outputs": [
    {
     "data": {
      "text/html": [
       "<div>\n",
       "<style scoped>\n",
       "    .dataframe tbody tr th:only-of-type {\n",
       "        vertical-align: middle;\n",
       "    }\n",
       "\n",
       "    .dataframe tbody tr th {\n",
       "        vertical-align: top;\n",
       "    }\n",
       "\n",
       "    .dataframe thead th {\n",
       "        text-align: right;\n",
       "    }\n",
       "</style>\n",
       "<table border=\"1\" class=\"dataframe\">\n",
       "  <thead>\n",
       "    <tr style=\"text-align: right;\">\n",
       "      <th></th>\n",
       "      <th>text</th>\n",
       "      <th>source</th>\n",
       "      <th>label</th>\n",
       "      <th>label_name</th>\n",
       "    </tr>\n",
       "  </thead>\n",
       "  <tbody>\n",
       "    <tr>\n",
       "      <th>0</th>\n",
       "      <td>普段使いとバイクに乗るときのブーツ兼用として購入しました。見た目や履き心地は良いです。 しか...</td>\n",
       "      <td>amazon_reviews_multi</td>\n",
       "      <td>2</td>\n",
       "      <td>negative</td>\n",
       "    </tr>\n",
       "    <tr>\n",
       "      <th>1</th>\n",
       "      <td>十分な在庫を用意できない販売元も悪いですが、Amazonやら楽⚪︎が転売を認めちゃってるのが...</td>\n",
       "      <td>amazon_reviews_multi</td>\n",
       "      <td>2</td>\n",
       "      <td>negative</td>\n",
       "    </tr>\n",
       "    <tr>\n",
       "      <th>40000</th>\n",
       "      <td>初めてのグローブを買いました。使った感じは他のレビューの通り指先あたりの縫製が少し雑。手のひ...</td>\n",
       "      <td>amazon_reviews_multi</td>\n",
       "      <td>1</td>\n",
       "      <td>neutral</td>\n",
       "    </tr>\n",
       "    <tr>\n",
       "      <th>40001</th>\n",
       "      <td>まだ使用していませんが、使い道が広いと思います。同じものが100均で販売されていたのが残念。</td>\n",
       "      <td>amazon_reviews_multi</td>\n",
       "      <td>1</td>\n",
       "      <td>neutral</td>\n",
       "    </tr>\n",
       "    <tr>\n",
       "      <th>80000</th>\n",
       "      <td>名探偵コナンが好きだから すごく良かったです。</td>\n",
       "      <td>amazon_reviews_multi</td>\n",
       "      <td>0</td>\n",
       "      <td>positive</td>\n",
       "    </tr>\n",
       "    <tr>\n",
       "      <th>80001</th>\n",
       "      <td>以前水泳をやっていた頃にこういった商品を使っていましたが、今はお風呂上がりに使ってます。肌に...</td>\n",
       "      <td>amazon_reviews_multi</td>\n",
       "      <td>0</td>\n",
       "      <td>positive</td>\n",
       "    </tr>\n",
       "  </tbody>\n",
       "</table>\n",
       "</div>"
      ],
      "text/plain": [
       "                                                    text  \\\n",
       "0      普段使いとバイクに乗るときのブーツ兼用として購入しました。見た目や履き心地は良いです。 しか...   \n",
       "1      十分な在庫を用意できない販売元も悪いですが、Amazonやら楽⚪︎が転売を認めちゃってるのが...   \n",
       "40000  初めてのグローブを買いました。使った感じは他のレビューの通り指先あたりの縫製が少し雑。手のひ...   \n",
       "40001     まだ使用していませんが、使い道が広いと思います。同じものが100均で販売されていたのが残念。   \n",
       "80000                            名探偵コナンが好きだから すごく良かったです。   \n",
       "80001  以前水泳をやっていた頃にこういった商品を使っていましたが、今はお風呂上がりに使ってます。肌に...   \n",
       "\n",
       "                     source  label label_name  \n",
       "0      amazon_reviews_multi      2   negative  \n",
       "1      amazon_reviews_multi      2   negative  \n",
       "40000  amazon_reviews_multi      1    neutral  \n",
       "40001  amazon_reviews_multi      1    neutral  \n",
       "80000  amazon_reviews_multi      0   positive  \n",
       "80001  amazon_reviews_multi      0   positive  "
      ]
     },
     "execution_count": 7,
     "metadata": {},
     "output_type": "execute_result"
    }
   ],
   "source": [
    "df0 = df[df['label']==0][:2]\n",
    "df0['label_name'] = 'positive'\n",
    "df1 = df[df['label']==1][:2]\n",
    "df1['label_name'] = 'neutral'\n",
    "df2 = df[df['label']==2][:2]\n",
    "df2['label_name'] = 'negative'\n",
    "df_merge = pd.concat([df2, df1, df0])\n",
    "df_merge"
   ]
  },
  {
   "cell_type": "code",
   "execution_count": 8,
   "metadata": {},
   "outputs": [
    {
     "name": "stderr",
     "output_type": "stream",
     "text": [
      "/tmp/ipykernel_152525/3144582184.py:6: FutureWarning: this method is deprecated in favour of `Styler.to_html()`\n",
      "  HTML(styled.render())\n"
     ]
    },
    {
     "data": {
      "text/html": [
       "<style type=\"text/css\">\n",
       "#T_f7221_row0_col0, #T_f7221_row0_col1, #T_f7221_row0_col2, #T_f7221_row0_col3, #T_f7221_row1_col0, #T_f7221_row1_col1, #T_f7221_row1_col2, #T_f7221_row1_col3, #T_f7221_row2_col0, #T_f7221_row2_col1, #T_f7221_row2_col2, #T_f7221_row2_col3, #T_f7221_row3_col0, #T_f7221_row3_col1, #T_f7221_row3_col2, #T_f7221_row3_col3, #T_f7221_row4_col0, #T_f7221_row4_col1, #T_f7221_row4_col2, #T_f7221_row4_col3, #T_f7221_row5_col0, #T_f7221_row5_col1, #T_f7221_row5_col2, #T_f7221_row5_col3 {\n",
       "  text-align: left;\n",
       "}\n",
       "</style>\n",
       "<table id=\"T_f7221\">\n",
       "  <thead>\n",
       "    <tr>\n",
       "      <th class=\"blank level0\" >&nbsp;</th>\n",
       "      <th id=\"T_f7221_level0_col0\" class=\"col_heading level0 col0\" >text</th>\n",
       "      <th id=\"T_f7221_level0_col1\" class=\"col_heading level0 col1\" >source</th>\n",
       "      <th id=\"T_f7221_level0_col2\" class=\"col_heading level0 col2\" >label</th>\n",
       "      <th id=\"T_f7221_level0_col3\" class=\"col_heading level0 col3\" >label_name</th>\n",
       "    </tr>\n",
       "  </thead>\n",
       "  <tbody>\n",
       "    <tr>\n",
       "      <th id=\"T_f7221_level0_row0\" class=\"row_heading level0 row0\" >0</th>\n",
       "      <td id=\"T_f7221_row0_col0\" class=\"data row0 col0\" >普段使いとバイクに乗るときのブーツ兼用として購入しました。見た目や履き心地は良いです。 しかし、２ヶ月履いたらゴム底が削れて無くなりました。また、バイクのシフトペダルとの摩擦で表皮が剥がれ、本革でないことが露呈しました。ちなみに防水とも書いていますが、雨の日は内部に水が染みます。 安くて見た目も良く、履きやすかったのですが、耐久性のなさ、本革でも防水でも無かったことが残念です。結局、本革の防水ブーツを買い直しました。</td>\n",
       "      <td id=\"T_f7221_row0_col1\" class=\"data row0 col1\" >amazon_reviews_multi</td>\n",
       "      <td id=\"T_f7221_row0_col2\" class=\"data row0 col2\" >2</td>\n",
       "      <td id=\"T_f7221_row0_col3\" class=\"data row0 col3\" >negative</td>\n",
       "    </tr>\n",
       "    <tr>\n",
       "      <th id=\"T_f7221_level0_row1\" class=\"row_heading level0 row1\" >1</th>\n",
       "      <td id=\"T_f7221_row1_col0\" class=\"data row1 col0\" >十分な在庫を用意できない販売元も悪いですが、Amazonやら楽⚪︎が転売を認めちゃってるのが結果的に転売の後押しになっちゃってるんだよなぁ… Amazonもここぞとばかりに抱き合わせ販売しまくるし… それを恥ずかしいと思えなくなったら動物と同じですよ、最大手さん。</td>\n",
       "      <td id=\"T_f7221_row1_col1\" class=\"data row1 col1\" >amazon_reviews_multi</td>\n",
       "      <td id=\"T_f7221_row1_col2\" class=\"data row1 col2\" >2</td>\n",
       "      <td id=\"T_f7221_row1_col3\" class=\"data row1 col3\" >negative</td>\n",
       "    </tr>\n",
       "    <tr>\n",
       "      <th id=\"T_f7221_level0_row2\" class=\"row_heading level0 row2\" >40000</th>\n",
       "      <td id=\"T_f7221_row2_col0\" class=\"data row2 col0\" >初めてのグローブを買いました。使った感じは他のレビューの通り指先あたりの縫製が少し雑。手のひら側のパットは少し多目。</td>\n",
       "      <td id=\"T_f7221_row2_col1\" class=\"data row2 col1\" >amazon_reviews_multi</td>\n",
       "      <td id=\"T_f7221_row2_col2\" class=\"data row2 col2\" >1</td>\n",
       "      <td id=\"T_f7221_row2_col3\" class=\"data row2 col3\" >neutral</td>\n",
       "    </tr>\n",
       "    <tr>\n",
       "      <th id=\"T_f7221_level0_row3\" class=\"row_heading level0 row3\" >40001</th>\n",
       "      <td id=\"T_f7221_row3_col0\" class=\"data row3 col0\" >まだ使用していませんが、使い道が広いと思います。同じものが100均で販売されていたのが残念。</td>\n",
       "      <td id=\"T_f7221_row3_col1\" class=\"data row3 col1\" >amazon_reviews_multi</td>\n",
       "      <td id=\"T_f7221_row3_col2\" class=\"data row3 col2\" >1</td>\n",
       "      <td id=\"T_f7221_row3_col3\" class=\"data row3 col3\" >neutral</td>\n",
       "    </tr>\n",
       "    <tr>\n",
       "      <th id=\"T_f7221_level0_row4\" class=\"row_heading level0 row4\" >80000</th>\n",
       "      <td id=\"T_f7221_row4_col0\" class=\"data row4 col0\" >名探偵コナンが好きだから すごく良かったです。</td>\n",
       "      <td id=\"T_f7221_row4_col1\" class=\"data row4 col1\" >amazon_reviews_multi</td>\n",
       "      <td id=\"T_f7221_row4_col2\" class=\"data row4 col2\" >0</td>\n",
       "      <td id=\"T_f7221_row4_col3\" class=\"data row4 col3\" >positive</td>\n",
       "    </tr>\n",
       "    <tr>\n",
       "      <th id=\"T_f7221_level0_row5\" class=\"row_heading level0 row5\" >80001</th>\n",
       "      <td id=\"T_f7221_row5_col0\" class=\"data row5 col0\" >以前水泳をやっていた頃にこういった商品を使っていましたが、今はお風呂上がりに使ってます。肌に乗せて水滴をポンポンっと取る感じです。 使用したら軽く洗って浴室内の物干しにかけて置いてます。一晩でカラカラになりますが、今のところ割れたりはしていません。 柔らかく、肌ざわりも良く、凹凸？のあるところも気に入っています。 我が家はタオルの置いてある脱衣所が寒いので、浴室内にてこれで拭いて出られるので重宝しています。バスタオルも使わなくて済み、洗濯も楽になりました。買って良かったなと思っています。</td>\n",
       "      <td id=\"T_f7221_row5_col1\" class=\"data row5 col1\" >amazon_reviews_multi</td>\n",
       "      <td id=\"T_f7221_row5_col2\" class=\"data row5 col2\" >0</td>\n",
       "      <td id=\"T_f7221_row5_col3\" class=\"data row5 col3\" >positive</td>\n",
       "    </tr>\n",
       "  </tbody>\n",
       "</table>\n"
      ],
      "text/plain": [
       "<IPython.core.display.HTML object>"
      ]
     },
     "execution_count": 8,
     "metadata": {},
     "output_type": "execute_result"
    }
   ],
   "source": [
    "from IPython.display import HTML\n",
    "# Stylerクラスのインスタンスを作成\n",
    "styled = df_merge.style.set_properties(**{'text-align': 'left'})\n",
    " \n",
    "# HTML形式に変換して表示\n",
    "HTML(styled.render())"
   ]
  },
  {
   "cell_type": "code",
   "execution_count": 9,
   "metadata": {},
   "outputs": [],
   "source": [
    "from transformers import AutoTokenizer\n",
    "# トークナイザのロード\n",
    "model_name = \"cl-tohoku/bert-base-japanese-whole-word-masking\"\n",
    "tokenizer = AutoTokenizer.from_pretrained(model_name)"
   ]
  },
  {
   "cell_type": "code",
   "execution_count": 10,
   "metadata": {},
   "outputs": [],
   "source": [
    "# 大規模言語モデル入門に記載されているコードで視覚化して検証\n",
    "from collections import Counter\n",
    "from tqdm import tqdm\n",
    "\n",
    "plt.rcParams[\"font.size\"] = 18  # 文字サイズを大きくする\n",
    "\n",
    "def text_length(dataset, text_col):\n",
    "    # データセット中のテキストのトークン数の分布を取得\n",
    "    length_counter = Counter()\n",
    "    for data in tqdm(dataset):\n",
    "        length = len(tokenizer.tokenize(data[text_col]))\n",
    "        length_counter[length] += 1\n",
    "    return length_counter\n",
    "\n",
    "def dataset_labels(dataset, label_col):\n",
    "    # データセット中のラベルの数を数える\n",
    "    label_counter = Counter()\n",
    "    for data in dataset:\n",
    "        label_id = data[label_col]\n",
    "        label_name = dataset.features[label_col].names[label_id]\n",
    "        label_counter[label_name] += 1\n",
    "    return label_counter\n",
    "\n",
    "def visualize_labels(label_counter):\n",
    "    # label_counterをグラフ表示\n",
    "    plt.bar(label_counter.keys(), label_counter.values())\n",
    "    plt.xlabel('ラベル')\n",
    "    plt.ylabel('事例数')\n",
    "    plt.show()\n",
    "\n",
    "def visualize_text_length(length_counter):\n",
    "    # length_counterの値から棒グラフを描画する\n",
    "    plt.bar(length_counter.keys(), length_counter.values(), width=1.0)\n",
    "    plt.xlabel(\"トークン数\")\n",
    "    plt.ylabel(\"事例数\")\n",
    "    plt.show()"
   ]
  },
  {
   "cell_type": "code",
   "execution_count": 11,
   "metadata": {},
   "outputs": [
    {
     "name": "stderr",
     "output_type": "stream",
     "text": [
      "100%|██████████| 120000/120000 [00:15<00:00, 7861.67it/s]\n"
     ]
    }
   ],
   "source": [
    "# トークン数の分布\n",
    "train_multi_dataset_length = text_length(train_multi_dataset, 'text')\n",
    "# ラベルの分布\n",
    "train_multi_dataset_label = dataset_labels(train_multi_dataset, 'label')"
   ]
  },
  {
   "cell_type": "code",
   "execution_count": 12,
   "metadata": {},
   "outputs": [],
   "source": [
    "def add_value_label(x_list, y_list):\n",
    "    for i in range(len(x_list)):\n",
    "        plt.text(i, list(y_list)[i] / 2, list(y_list)[i], ha=\"center\", c='white')\n",
    "\n",
    "def visualize_labels_text(length_counter, label_counter):\n",
    "    fig = plt.figure(figsize=(15, 5))\n",
    "    fig.subplots_adjust()\n",
    "    plt.subplot(1, 2, 1)\n",
    "    plt.bar(length_counter.keys(), length_counter.values(), width=1.0)\n",
    "    plt.xlabel(\"トークン数\")\n",
    "    plt.ylabel(\"事例数\")\n",
    "    plt.subplot(1, 2, 2)\n",
    "    plt.bar(label_counter.keys(), label_counter.values())\n",
    "    add_value_label([0, 1, 2], label_counter.values())\n",
    "    plt.xlabel('ラベル')\n",
    "    plt.tight_layout()\n",
    "    plt.show()"
   ]
  },
  {
   "cell_type": "code",
   "execution_count": 13,
   "metadata": {},
   "outputs": [
    {
     "data": {
      "image/png": "[encoded data removed]",
      "text/plain": [
       "<Figure size 1080x360 with 2 Axes>"
      ]
     },
     "metadata": {
      "needs_background": "light"
     },
     "output_type": "display_data"
    }
   ],
   "source": [
    "visualize_labels_text(train_multi_dataset_length, train_multi_dataset_label)"
   ]
  },
  {
   "cell_type": "code",
   "execution_count": 14,
   "metadata": {},
   "outputs": [
    {
     "name": "stdout",
     "output_type": "stream",
     "text": [
      "max: 895\n",
      "75%: 476.0\n",
      "80%: 518.8\n"
     ]
    }
   ],
   "source": [
    "print('max:',max(train_multi_dataset_length.keys()))\n",
    "PERCENT=75\n",
    "print(f'{PERCENT}%:',np.percentile([k for k in train_multi_dataset_length.keys()], PERCENT))\n",
    "PERCENT=80\n",
    "print(f'{PERCENT}%:',np.percentile([k for k in train_multi_dataset_length.keys()], PERCENT))"
   ]
  },
  {
   "cell_type": "markdown",
   "metadata": {},
   "source": [
    "## shunk031/wrime"
   ]
  },
  {
   "cell_type": "markdown",
   "metadata": {},
   "source": [
    "### wrime ver1"
   ]
  },
  {
   "cell_type": "code",
   "execution_count": 15,
   "metadata": {},
   "outputs": [
    {
     "data": {
      "application/vnd.jupyter.widget-view+json": {
       "model_id": "79a52bd4e6c34a7ebff4fb0c857516f2",
       "version_major": 2,
       "version_minor": 0
      },
      "text/plain": [
       "Downloading builder script:   0%|          | 0.00/8.84k [00:00<?, ?B/s]"
      ]
     },
     "metadata": {},
     "output_type": "display_data"
    },
    {
     "data": {
      "application/vnd.jupyter.widget-view+json": {
       "model_id": "1f6e8c66a045449298985eed13e87aa5",
       "version_major": 2,
       "version_minor": 0
      },
      "text/plain": [
       "Downloading readme:   0%|          | 0.00/15.4k [00:00<?, ?B/s]"
      ]
     },
     "metadata": {},
     "output_type": "display_data"
    },
    {
     "data": {
      "application/vnd.jupyter.widget-view+json": {
       "model_id": "f95830f58a07431a83cfe81b2ffd3ab9",
       "version_major": 2,
       "version_minor": 0
      },
      "text/plain": [
       "Downloading data files:   0%|          | 0/2 [00:00<?, ?it/s]"
      ]
     },
     "metadata": {},
     "output_type": "display_data"
    },
    {
     "data": {
      "application/vnd.jupyter.widget-view+json": {
       "model_id": "c1020362702a4c239cc28fae1fa1d890",
       "version_major": 2,
       "version_minor": 0
      },
      "text/plain": [
       "Downloading data:   0%|          | 0.00/2.66M [00:00<?, ?B/s]"
      ]
     },
     "metadata": {},
     "output_type": "display_data"
    },
    {
     "data": {
      "application/vnd.jupyter.widget-view+json": {
       "model_id": "868aff86a2ba418c8c8a941223d98a9f",
       "version_major": 2,
       "version_minor": 0
      },
      "text/plain": [
       "Extracting data files:   0%|          | 0/2 [00:00<?, ?it/s]"
      ]
     },
     "metadata": {},
     "output_type": "display_data"
    },
    {
     "name": "stderr",
     "output_type": "stream",
     "text": [
      "/root/.cache/huggingface/modules/datasets_modules/datasets/shunk031--wrime/4b2571d8c51503a1134ff7edb2293a2ccb16632689d2f064b8afda72ec9e01ce/wrime.py:80: FutureWarning: The default value of regex will change from True to False in a future version.\n",
      "  df.columns = df.columns.str.replace(\". \", \"_\")\n"
     ]
    },
    {
     "data": {
      "application/vnd.jupyter.widget-view+json": {
       "model_id": "a34ce7d3d9524900997587a2a192dc64",
       "version_major": 2,
       "version_minor": 0
      },
      "text/plain": [
       "Generating train split: 0 examples [00:00, ? examples/s]"
      ]
     },
     "metadata": {},
     "output_type": "display_data"
    },
    {
     "data": {
      "application/vnd.jupyter.widget-view+json": {
       "model_id": "1bd10d1d498a451faecafaa2e517e7aa",
       "version_major": 2,
       "version_minor": 0
      },
      "text/plain": [
       "Generating validation split: 0 examples [00:00, ? examples/s]"
      ]
     },
     "metadata": {},
     "output_type": "display_data"
    },
    {
     "data": {
      "application/vnd.jupyter.widget-view+json": {
       "model_id": "8dd95412aa0543488bd03c2e451d9dc5",
       "version_major": 2,
       "version_minor": 0
      },
      "text/plain": [
       "Generating test split: 0 examples [00:00, ? examples/s]"
      ]
     },
     "metadata": {},
     "output_type": "display_data"
    },
    {
     "data": {
      "text/plain": [
       "DatasetDict({\n",
       "    train: Dataset({\n",
       "        features: ['sentence', 'user_id', 'datetime', 'writer', 'reader1', 'reader2', 'reader3', 'avg_readers'],\n",
       "        num_rows: 40000\n",
       "    })\n",
       "    validation: Dataset({\n",
       "        features: ['sentence', 'user_id', 'datetime', 'writer', 'reader1', 'reader2', 'reader3', 'avg_readers'],\n",
       "        num_rows: 1200\n",
       "    })\n",
       "    test: Dataset({\n",
       "        features: ['sentence', 'user_id', 'datetime', 'writer', 'reader1', 'reader2', 'reader3', 'avg_readers'],\n",
       "        num_rows: 2000\n",
       "    })\n",
       "})"
      ]
     },
     "execution_count": 15,
     "metadata": {},
     "output_type": "execute_result"
    }
   ],
   "source": [
    "wrime_dataset1 = load_dataset(\"shunk031/wrime\", name=\"ver1\")\n",
    "wrime_dataset1"
   ]
  },
  {
   "cell_type": "code",
   "execution_count": 16,
   "metadata": {},
   "outputs": [
    {
     "name": "stdout",
     "output_type": "stream",
     "text": [
      "{'avg_readers': {'anger': 0,\n",
      "                 'anticipation': 0,\n",
      "                 'disgust': 0,\n",
      "                 'fear': 0,\n",
      "                 'joy': 0,\n",
      "                 'sadness': 2,\n",
      "                 'surprise': 0,\n",
      "                 'trust': 0},\n",
      " 'datetime': '2012/07/31 23:48',\n",
      " 'reader1': {'anger': 0,\n",
      "             'anticipation': 0,\n",
      "             'disgust': 0,\n",
      "             'fear': 0,\n",
      "             'joy': 0,\n",
      "             'sadness': 2,\n",
      "             'surprise': 0,\n",
      "             'trust': 0},\n",
      " 'reader2': {'anger': 0,\n",
      "             'anticipation': 0,\n",
      "             'disgust': 0,\n",
      "             'fear': 0,\n",
      "             'joy': 0,\n",
      "             'sadness': 2,\n",
      "             'surprise': 1,\n",
      "             'trust': 0},\n",
      " 'reader3': {'anger': 0,\n",
      "             'anticipation': 0,\n",
      "             'disgust': 1,\n",
      "             'fear': 1,\n",
      "             'joy': 0,\n",
      "             'sadness': 2,\n",
      "             'surprise': 0,\n",
      "             'trust': 0},\n",
      " 'sentence': 'ぼけっとしてたらこんな時間｡チャリあるから食べにでたいのに…',\n",
      " 'user_id': '1',\n",
      " 'writer': {'anger': 1,\n",
      "            'anticipation': 2,\n",
      "            'disgust': 0,\n",
      "            'fear': 0,\n",
      "            'joy': 0,\n",
      "            'sadness': 1,\n",
      "            'surprise': 1,\n",
      "            'trust': 1}}\n"
     ]
    }
   ],
   "source": [
    "pprint(wrime_dataset1['train'][0])"
   ]
  },
  {
   "cell_type": "code",
   "execution_count": 17,
   "metadata": {},
   "outputs": [
    {
     "data": {
      "text/html": [
       "<div>\n",
       "<style scoped>\n",
       "    .dataframe tbody tr th:only-of-type {\n",
       "        vertical-align: middle;\n",
       "    }\n",
       "\n",
       "    .dataframe tbody tr th {\n",
       "        vertical-align: top;\n",
       "    }\n",
       "\n",
       "    .dataframe thead th {\n",
       "        text-align: right;\n",
       "    }\n",
       "</style>\n",
       "<table border=\"1\" class=\"dataframe\">\n",
       "  <thead>\n",
       "    <tr style=\"text-align: right;\">\n",
       "      <th></th>\n",
       "      <th>sentence</th>\n",
       "      <th>user_id</th>\n",
       "      <th>datetime</th>\n",
       "      <th>writer</th>\n",
       "      <th>reader1</th>\n",
       "      <th>reader2</th>\n",
       "      <th>reader3</th>\n",
       "      <th>avg_readers</th>\n",
       "    </tr>\n",
       "  </thead>\n",
       "  <tbody>\n",
       "    <tr>\n",
       "      <th>0</th>\n",
       "      <td>ぼけっとしてたらこんな時間｡チャリあるから食べにでたいのに…</td>\n",
       "      <td>1</td>\n",
       "      <td>2012/07/31 23:48</td>\n",
       "      <td>{'joy': 0, 'sadness': 1, 'anticipation': 2, 's...</td>\n",
       "      <td>{'joy': 0, 'sadness': 2, 'anticipation': 0, 's...</td>\n",
       "      <td>{'joy': 0, 'sadness': 2, 'anticipation': 0, 's...</td>\n",
       "      <td>{'joy': 0, 'sadness': 2, 'anticipation': 0, 's...</td>\n",
       "      <td>{'joy': 0, 'sadness': 2, 'anticipation': 0, 's...</td>\n",
       "    </tr>\n",
       "    <tr>\n",
       "      <th>1</th>\n",
       "      <td>今日の月も白くて明るい。昨日より雲が少なくてキレイな? と立ち止まる帰り道｡チャリなし生活も...</td>\n",
       "      <td>1</td>\n",
       "      <td>2012/08/02 23:09</td>\n",
       "      <td>{'joy': 3, 'sadness': 0, 'anticipation': 3, 's...</td>\n",
       "      <td>{'joy': 0, 'sadness': 0, 'anticipation': 0, 's...</td>\n",
       "      <td>{'joy': 1, 'sadness': 0, 'anticipation': 0, 's...</td>\n",
       "      <td>{'joy': 2, 'sadness': 0, 'anticipation': 0, 's...</td>\n",
       "      <td>{'joy': 1, 'sadness': 0, 'anticipation': 0, 's...</td>\n",
       "    </tr>\n",
       "    <tr>\n",
       "      <th>2</th>\n",
       "      <td>早寝するつもりが飲み物がなくなりコンビニへ｡ん､今日、風が涼しいな。</td>\n",
       "      <td>1</td>\n",
       "      <td>2012/08/05 00:50</td>\n",
       "      <td>{'joy': 1, 'sadness': 1, 'anticipation': 1, 's...</td>\n",
       "      <td>{'joy': 0, 'sadness': 0, 'anticipation': 0, 's...</td>\n",
       "      <td>{'joy': 0, 'sadness': 0, 'anticipation': 0, 's...</td>\n",
       "      <td>{'joy': 0, 'sadness': 0, 'anticipation': 0, 's...</td>\n",
       "      <td>{'joy': 0, 'sadness': 0, 'anticipation': 0, 's...</td>\n",
       "    </tr>\n",
       "    <tr>\n",
       "      <th>3</th>\n",
       "      <td>眠い、眠れない。</td>\n",
       "      <td>1</td>\n",
       "      <td>2012/08/08 01:36</td>\n",
       "      <td>{'joy': 0, 'sadness': 2, 'anticipation': 1, 's...</td>\n",
       "      <td>{'joy': 0, 'sadness': 0, 'anticipation': 0, 's...</td>\n",
       "      <td>{'joy': 0, 'sadness': 1, 'anticipation': 0, 's...</td>\n",
       "      <td>{'joy': 0, 'sadness': 2, 'anticipation': 0, 's...</td>\n",
       "      <td>{'joy': 0, 'sadness': 1, 'anticipation': 0, 's...</td>\n",
       "    </tr>\n",
       "    <tr>\n",
       "      <th>4</th>\n",
       "      <td>ただいま? って新体操してるやん!外食する気満々で家に何もないのに!テレビから離れられない…!</td>\n",
       "      <td>1</td>\n",
       "      <td>2012/08/09 22:24</td>\n",
       "      <td>{'joy': 2, 'sadness': 1, 'anticipation': 3, 's...</td>\n",
       "      <td>{'joy': 0, 'sadness': 0, 'anticipation': 0, 's...</td>\n",
       "      <td>{'joy': 1, 'sadness': 0, 'anticipation': 0, 's...</td>\n",
       "      <td>{'joy': 2, 'sadness': 0, 'anticipation': 0, 's...</td>\n",
       "      <td>{'joy': 1, 'sadness': 0, 'anticipation': 0, 's...</td>\n",
       "    </tr>\n",
       "  </tbody>\n",
       "</table>\n",
       "</div>"
      ],
      "text/plain": [
       "                                            sentence user_id  \\\n",
       "0                     ぼけっとしてたらこんな時間｡チャリあるから食べにでたいのに…       1   \n",
       "1  今日の月も白くて明るい。昨日より雲が少なくてキレイな? と立ち止まる帰り道｡チャリなし生活も...       1   \n",
       "2                 早寝するつもりが飲み物がなくなりコンビニへ｡ん､今日、風が涼しいな。       1   \n",
       "3                                           眠い、眠れない。       1   \n",
       "4    ただいま? って新体操してるやん!外食する気満々で家に何もないのに!テレビから離れられない…!       1   \n",
       "\n",
       "           datetime                                             writer  \\\n",
       "0  2012/07/31 23:48  {'joy': 0, 'sadness': 1, 'anticipation': 2, 's...   \n",
       "1  2012/08/02 23:09  {'joy': 3, 'sadness': 0, 'anticipation': 3, 's...   \n",
       "2  2012/08/05 00:50  {'joy': 1, 'sadness': 1, 'anticipation': 1, 's...   \n",
       "3  2012/08/08 01:36  {'joy': 0, 'sadness': 2, 'anticipation': 1, 's...   \n",
       "4  2012/08/09 22:24  {'joy': 2, 'sadness': 1, 'anticipation': 3, 's...   \n",
       "\n",
       "                                             reader1  \\\n",
       "0  {'joy': 0, 'sadness': 2, 'anticipation': 0, 's...   \n",
       "1  {'joy': 0, 'sadness': 0, 'anticipation': 0, 's...   \n",
       "2  {'joy': 0, 'sadness': 0, 'anticipation': 0, 's...   \n",
       "3  {'joy': 0, 'sadness': 0, 'anticipation': 0, 's...   \n",
       "4  {'joy': 0, 'sadness': 0, 'anticipation': 0, 's...   \n",
       "\n",
       "                                             reader2  \\\n",
       "0  {'joy': 0, 'sadness': 2, 'anticipation': 0, 's...   \n",
       "1  {'joy': 1, 'sadness': 0, 'anticipation': 0, 's...   \n",
       "2  {'joy': 0, 'sadness': 0, 'anticipation': 0, 's...   \n",
       "3  {'joy': 0, 'sadness': 1, 'anticipation': 0, 's...   \n",
       "4  {'joy': 1, 'sadness': 0, 'anticipation': 0, 's...   \n",
       "\n",
       "                                             reader3  \\\n",
       "0  {'joy': 0, 'sadness': 2, 'anticipation': 0, 's...   \n",
       "1  {'joy': 2, 'sadness': 0, 'anticipation': 0, 's...   \n",
       "2  {'joy': 0, 'sadness': 0, 'anticipation': 0, 's...   \n",
       "3  {'joy': 0, 'sadness': 2, 'anticipation': 0, 's...   \n",
       "4  {'joy': 2, 'sadness': 0, 'anticipation': 0, 's...   \n",
       "\n",
       "                                         avg_readers  \n",
       "0  {'joy': 0, 'sadness': 2, 'anticipation': 0, 's...  \n",
       "1  {'joy': 1, 'sadness': 0, 'anticipation': 0, 's...  \n",
       "2  {'joy': 0, 'sadness': 0, 'anticipation': 0, 's...  \n",
       "3  {'joy': 0, 'sadness': 1, 'anticipation': 0, 's...  \n",
       "4  {'joy': 1, 'sadness': 0, 'anticipation': 0, 's...  "
      ]
     },
     "execution_count": 17,
     "metadata": {},
     "output_type": "execute_result"
    }
   ],
   "source": [
    "wrime_dataset1.set_format('pandas')\n",
    "df1 = wrime_dataset1['train'][:]\n",
    "df1.head()"
   ]
  },
  {
   "cell_type": "code",
   "execution_count": 18,
   "metadata": {},
   "outputs": [
    {
     "data": {
      "text/html": [
       "<div>\n",
       "<style scoped>\n",
       "    .dataframe tbody tr th:only-of-type {\n",
       "        vertical-align: middle;\n",
       "    }\n",
       "\n",
       "    .dataframe tbody tr th {\n",
       "        vertical-align: top;\n",
       "    }\n",
       "\n",
       "    .dataframe thead th {\n",
       "        text-align: right;\n",
       "    }\n",
       "</style>\n",
       "<table border=\"1\" class=\"dataframe\">\n",
       "  <thead>\n",
       "    <tr style=\"text-align: right;\">\n",
       "      <th></th>\n",
       "      <th>sentence</th>\n",
       "      <th>user_id</th>\n",
       "      <th>datetime</th>\n",
       "      <th>writer</th>\n",
       "      <th>reader1</th>\n",
       "      <th>reader2</th>\n",
       "      <th>reader3</th>\n",
       "      <th>avg_readers</th>\n",
       "    </tr>\n",
       "  </thead>\n",
       "  <tbody>\n",
       "    <tr>\n",
       "      <th>3661</th>\n",
       "      <td>車のタイヤがパンクしてた。。いたずらの可能性が高いんだって。。</td>\n",
       "      <td>6</td>\n",
       "      <td>2017/06/24 17:43</td>\n",
       "      <td>{'joy': 0, 'sadness': 3, 'anticipation': 0, 's...</td>\n",
       "      <td>{'joy': 0, 'sadness': 3, 'anticipation': 0, 's...</td>\n",
       "      <td>{'joy': 0, 'sadness': 2, 'anticipation': 0, 's...</td>\n",
       "      <td>{'joy': 0, 'sadness': 2, 'anticipation': 0, 's...</td>\n",
       "      <td>{'joy': 0, 'sadness': 2, 'anticipation': 0, 's...</td>\n",
       "    </tr>\n",
       "  </tbody>\n",
       "</table>\n",
       "</div>"
      ],
      "text/plain": [
       "                             sentence user_id          datetime  \\\n",
       "3661  車のタイヤがパンクしてた。。いたずらの可能性が高いんだって。。       6  2017/06/24 17:43   \n",
       "\n",
       "                                                 writer  \\\n",
       "3661  {'joy': 0, 'sadness': 3, 'anticipation': 0, 's...   \n",
       "\n",
       "                                                reader1  \\\n",
       "3661  {'joy': 0, 'sadness': 3, 'anticipation': 0, 's...   \n",
       "\n",
       "                                                reader2  \\\n",
       "3661  {'joy': 0, 'sadness': 2, 'anticipation': 0, 's...   \n",
       "\n",
       "                                                reader3  \\\n",
       "3661  {'joy': 0, 'sadness': 2, 'anticipation': 0, 's...   \n",
       "\n",
       "                                            avg_readers  \n",
       "3661  {'joy': 0, 'sadness': 2, 'anticipation': 0, 's...  "
      ]
     },
     "execution_count": 18,
     "metadata": {},
     "output_type": "execute_result"
    }
   ],
   "source": [
    "df1[df1['sentence'].str.contains('車のタイヤがパンクしてた')]"
   ]
  },
  {
   "cell_type": "code",
   "execution_count": 19,
   "metadata": {},
   "outputs": [
    {
     "name": "stdout",
     "output_type": "stream",
     "text": [
      "{'avg_readers': {'anger': 0,\n",
      "                 'anticipation': 0,\n",
      "                 'disgust': 1,\n",
      "                 'fear': 1,\n",
      "                 'joy': 0,\n",
      "                 'sadness': 2,\n",
      "                 'surprise': 2,\n",
      "                 'trust': 0},\n",
      " 'datetime': '2017/06/24 17:43',\n",
      " 'reader1': {'anger': 1,\n",
      "             'anticipation': 0,\n",
      "             'disgust': 1,\n",
      "             'fear': 2,\n",
      "             'joy': 0,\n",
      "             'sadness': 3,\n",
      "             'surprise': 3,\n",
      "             'trust': 0},\n",
      " 'reader2': {'anger': 0,\n",
      "             'anticipation': 0,\n",
      "             'disgust': 0,\n",
      "             'fear': 0,\n",
      "             'joy': 0,\n",
      "             'sadness': 2,\n",
      "             'surprise': 2,\n",
      "             'trust': 0},\n",
      " 'reader3': {'anger': 0,\n",
      "             'anticipation': 0,\n",
      "             'disgust': 1,\n",
      "             'fear': 1,\n",
      "             'joy': 0,\n",
      "             'sadness': 2,\n",
      "             'surprise': 2,\n",
      "             'trust': 0},\n",
      " 'sentence': '車のタイヤがパンクしてた。。いたずらの可能性が高いんだって。。',\n",
      " 'user_id': '6',\n",
      " 'writer': {'anger': 3,\n",
      "            'anticipation': 0,\n",
      "            'disgust': 0,\n",
      "            'fear': 0,\n",
      "            'joy': 0,\n",
      "            'sadness': 3,\n",
      "            'surprise': 1,\n",
      "            'trust': 0}}\n"
     ]
    }
   ],
   "source": [
    "wrime_dataset1.reset_format()\n",
    "pprint(wrime_dataset1['train'][3661])"
   ]
  },
  {
   "cell_type": "markdown",
   "metadata": {},
   "source": [
    "### wrime ver2"
   ]
  },
  {
   "cell_type": "code",
   "execution_count": 20,
   "metadata": {},
   "outputs": [
    {
     "data": {
      "application/vnd.jupyter.widget-view+json": {
       "model_id": "2b361ed38285449c9987306f276899af",
       "version_major": 2,
       "version_minor": 0
      },
      "text/plain": [
       "Downloading data files:   0%|          | 0/2 [00:00<?, ?it/s]"
      ]
     },
     "metadata": {},
     "output_type": "display_data"
    },
    {
     "data": {
      "application/vnd.jupyter.widget-view+json": {
       "model_id": "ebd4fc943e6b45b58ec940a93634d946",
       "version_major": 2,
       "version_minor": 0
      },
      "text/plain": [
       "Extracting data files:   0%|          | 0/2 [00:00<?, ?it/s]"
      ]
     },
     "metadata": {},
     "output_type": "display_data"
    },
    {
     "name": "stderr",
     "output_type": "stream",
     "text": [
      "/root/.cache/huggingface/modules/datasets_modules/datasets/shunk031--wrime/4b2571d8c51503a1134ff7edb2293a2ccb16632689d2f064b8afda72ec9e01ce/wrime.py:80: FutureWarning: The default value of regex will change from True to False in a future version.\n",
      "  df.columns = df.columns.str.replace(\". \", \"_\")\n"
     ]
    },
    {
     "data": {
      "application/vnd.jupyter.widget-view+json": {
       "model_id": "ebcc065aa4e64821911ce3a35464616e",
       "version_major": 2,
       "version_minor": 0
      },
      "text/plain": [
       "Generating train split: 0 examples [00:00, ? examples/s]"
      ]
     },
     "metadata": {},
     "output_type": "display_data"
    },
    {
     "data": {
      "application/vnd.jupyter.widget-view+json": {
       "model_id": "23611681dcaf433f84166b2586865da7",
       "version_major": 2,
       "version_minor": 0
      },
      "text/plain": [
       "Generating validation split: 0 examples [00:00, ? examples/s]"
      ]
     },
     "metadata": {},
     "output_type": "display_data"
    },
    {
     "data": {
      "application/vnd.jupyter.widget-view+json": {
       "model_id": "40dfa21ac9b2488ab4a1e7e7c6bd33af",
       "version_major": 2,
       "version_minor": 0
      },
      "text/plain": [
       "Generating test split: 0 examples [00:00, ? examples/s]"
      ]
     },
     "metadata": {},
     "output_type": "display_data"
    },
    {
     "name": "stdout",
     "output_type": "stream",
     "text": [
      "{'test': Dataset({\n",
      "    features: ['sentence', 'user_id', 'datetime', 'writer', 'reader1', 'reader2', 'reader3', 'avg_readers'],\n",
      "    num_rows: 2500\n",
      "}),\n",
      " 'train': Dataset({\n",
      "    features: ['sentence', 'user_id', 'datetime', 'writer', 'reader1', 'reader2', 'reader3', 'avg_readers'],\n",
      "    num_rows: 30000\n",
      "}),\n",
      " 'validation': Dataset({\n",
      "    features: ['sentence', 'user_id', 'datetime', 'writer', 'reader1', 'reader2', 'reader3', 'avg_readers'],\n",
      "    num_rows: 2500\n",
      "})}\n"
     ]
    }
   ],
   "source": [
    "from pprint import pprint\n",
    "from datasets import load_dataset\n",
    "\n",
    "# Hugging Face Hub上ののリポジトリからデータを読み込む\n",
    "wrime_dataset2 = load_dataset(\"shunk031/wrime\", name=\"ver2\")\n",
    "# pprintで見やすく表示する\n",
    "pprint(wrime_dataset2)"
   ]
  },
  {
   "cell_type": "code",
   "execution_count": 21,
   "metadata": {},
   "outputs": [
    {
     "name": "stdout",
     "output_type": "stream",
     "text": [
      "{'avg_readers': {'anger': 0,\n",
      "                 'anticipation': 0,\n",
      "                 'disgust': 0,\n",
      "                 'fear': 0,\n",
      "                 'joy': 0,\n",
      "                 'sadness': 2,\n",
      "                 'sentiment': -1,\n",
      "                 'surprise': 0,\n",
      "                 'trust': 0},\n",
      " 'datetime': '2012/7/31 23:48',\n",
      " 'reader1': {'anger': 0,\n",
      "             'anticipation': 0,\n",
      "             'disgust': 0,\n",
      "             'fear': 0,\n",
      "             'joy': 0,\n",
      "             'sadness': 2,\n",
      "             'sentiment': -2,\n",
      "             'surprise': 0,\n",
      "             'trust': 0},\n",
      " 'reader2': {'anger': 0,\n",
      "             'anticipation': 0,\n",
      "             'disgust': 1,\n",
      "             'fear': 1,\n",
      "             'joy': 0,\n",
      "             'sadness': 2,\n",
      "             'sentiment': -1,\n",
      "             'surprise': 0,\n",
      "             'trust': 0},\n",
      " 'reader3': {'anger': 0,\n",
      "             'anticipation': 0,\n",
      "             'disgust': 0,\n",
      "             'fear': 0,\n",
      "             'joy': 0,\n",
      "             'sadness': 2,\n",
      "             'sentiment': -1,\n",
      "             'surprise': 1,\n",
      "             'trust': 0},\n",
      " 'sentence': 'ぼけっとしてたらこんな時間。チャリあるから食べにでたいのに…',\n",
      " 'user_id': '1',\n",
      " 'writer': {'anger': 1,\n",
      "            'anticipation': 2,\n",
      "            'disgust': 0,\n",
      "            'fear': 0,\n",
      "            'joy': 0,\n",
      "            'sadness': 1,\n",
      "            'sentiment': 0,\n",
      "            'surprise': 1,\n",
      "            'trust': 1}}\n"
     ]
    }
   ],
   "source": [
    "pprint(wrime_dataset2['train'][0])"
   ]
  },
  {
   "cell_type": "code",
   "execution_count": 22,
   "metadata": {},
   "outputs": [
    {
     "data": {
      "text/html": [
       "<div>\n",
       "<style scoped>\n",
       "    .dataframe tbody tr th:only-of-type {\n",
       "        vertical-align: middle;\n",
       "    }\n",
       "\n",
       "    .dataframe tbody tr th {\n",
       "        vertical-align: top;\n",
       "    }\n",
       "\n",
       "    .dataframe thead th {\n",
       "        text-align: right;\n",
       "    }\n",
       "</style>\n",
       "<table border=\"1\" class=\"dataframe\">\n",
       "  <thead>\n",
       "    <tr style=\"text-align: right;\">\n",
       "      <th></th>\n",
       "      <th>sentence</th>\n",
       "      <th>user_id</th>\n",
       "      <th>datetime</th>\n",
       "      <th>writer</th>\n",
       "      <th>reader1</th>\n",
       "      <th>reader2</th>\n",
       "      <th>reader3</th>\n",
       "      <th>avg_readers</th>\n",
       "    </tr>\n",
       "  </thead>\n",
       "  <tbody>\n",
       "    <tr>\n",
       "      <th>0</th>\n",
       "      <td>ぼけっとしてたらこんな時間。チャリあるから食べにでたいのに…</td>\n",
       "      <td>1</td>\n",
       "      <td>2012/7/31 23:48</td>\n",
       "      <td>{'joy': 0, 'sadness': 1, 'anticipation': 2, 's...</td>\n",
       "      <td>{'joy': 0, 'sadness': 2, 'anticipation': 0, 's...</td>\n",
       "      <td>{'joy': 0, 'sadness': 2, 'anticipation': 0, 's...</td>\n",
       "      <td>{'joy': 0, 'sadness': 2, 'anticipation': 0, 's...</td>\n",
       "      <td>{'joy': 0, 'sadness': 2, 'anticipation': 0, 's...</td>\n",
       "    </tr>\n",
       "    <tr>\n",
       "      <th>1</th>\n",
       "      <td>今日の月も白くて明るい。昨日より雲が少なくてキレイな〜 と立ち止まる帰り道。チャリなし生活も...</td>\n",
       "      <td>1</td>\n",
       "      <td>2012/8/2 23:09</td>\n",
       "      <td>{'joy': 3, 'sadness': 0, 'anticipation': 3, 's...</td>\n",
       "      <td>{'joy': 0, 'sadness': 0, 'anticipation': 0, 's...</td>\n",
       "      <td>{'joy': 2, 'sadness': 0, 'anticipation': 0, 's...</td>\n",
       "      <td>{'joy': 1, 'sadness': 0, 'anticipation': 0, 's...</td>\n",
       "      <td>{'joy': 1, 'sadness': 0, 'anticipation': 0, 's...</td>\n",
       "    </tr>\n",
       "    <tr>\n",
       "      <th>2</th>\n",
       "      <td>早寝するつもりが飲み物がなくなりコンビニへ。ん、今日、風が涼しいな。</td>\n",
       "      <td>1</td>\n",
       "      <td>2012/8/5 0:50</td>\n",
       "      <td>{'joy': 1, 'sadness': 1, 'anticipation': 1, 's...</td>\n",
       "      <td>{'joy': 0, 'sadness': 0, 'anticipation': 0, 's...</td>\n",
       "      <td>{'joy': 0, 'sadness': 0, 'anticipation': 0, 's...</td>\n",
       "      <td>{'joy': 0, 'sadness': 0, 'anticipation': 0, 's...</td>\n",
       "      <td>{'joy': 0, 'sadness': 0, 'anticipation': 0, 's...</td>\n",
       "    </tr>\n",
       "    <tr>\n",
       "      <th>3</th>\n",
       "      <td>眠い、眠れない。</td>\n",
       "      <td>1</td>\n",
       "      <td>2012/8/8 1:36</td>\n",
       "      <td>{'joy': 0, 'sadness': 2, 'anticipation': 1, 's...</td>\n",
       "      <td>{'joy': 0, 'sadness': 0, 'anticipation': 0, 's...</td>\n",
       "      <td>{'joy': 0, 'sadness': 2, 'anticipation': 0, 's...</td>\n",
       "      <td>{'joy': 0, 'sadness': 1, 'anticipation': 0, 's...</td>\n",
       "      <td>{'joy': 0, 'sadness': 1, 'anticipation': 0, 's...</td>\n",
       "    </tr>\n",
       "    <tr>\n",
       "      <th>4</th>\n",
       "      <td>ただいま〜 って新体操してるやん!外食する気満々で家に何もないのに!テレビから離れられない…!</td>\n",
       "      <td>1</td>\n",
       "      <td>2012/8/9 22:24</td>\n",
       "      <td>{'joy': 2, 'sadness': 1, 'anticipation': 3, 's...</td>\n",
       "      <td>{'joy': 0, 'sadness': 0, 'anticipation': 0, 's...</td>\n",
       "      <td>{'joy': 2, 'sadness': 0, 'anticipation': 0, 's...</td>\n",
       "      <td>{'joy': 1, 'sadness': 0, 'anticipation': 0, 's...</td>\n",
       "      <td>{'joy': 1, 'sadness': 0, 'anticipation': 0, 's...</td>\n",
       "    </tr>\n",
       "  </tbody>\n",
       "</table>\n",
       "</div>"
      ],
      "text/plain": [
       "                                            sentence user_id         datetime  \\\n",
       "0                     ぼけっとしてたらこんな時間。チャリあるから食べにでたいのに…       1  2012/7/31 23:48   \n",
       "1  今日の月も白くて明るい。昨日より雲が少なくてキレイな〜 と立ち止まる帰り道。チャリなし生活も...       1   2012/8/2 23:09   \n",
       "2                 早寝するつもりが飲み物がなくなりコンビニへ。ん、今日、風が涼しいな。       1    2012/8/5 0:50   \n",
       "3                                           眠い、眠れない。       1    2012/8/8 1:36   \n",
       "4    ただいま〜 って新体操してるやん!外食する気満々で家に何もないのに!テレビから離れられない…!       1   2012/8/9 22:24   \n",
       "\n",
       "                                              writer  \\\n",
       "0  {'joy': 0, 'sadness': 1, 'anticipation': 2, 's...   \n",
       "1  {'joy': 3, 'sadness': 0, 'anticipation': 3, 's...   \n",
       "2  {'joy': 1, 'sadness': 1, 'anticipation': 1, 's...   \n",
       "3  {'joy': 0, 'sadness': 2, 'anticipation': 1, 's...   \n",
       "4  {'joy': 2, 'sadness': 1, 'anticipation': 3, 's...   \n",
       "\n",
       "                                             reader1  \\\n",
       "0  {'joy': 0, 'sadness': 2, 'anticipation': 0, 's...   \n",
       "1  {'joy': 0, 'sadness': 0, 'anticipation': 0, 's...   \n",
       "2  {'joy': 0, 'sadness': 0, 'anticipation': 0, 's...   \n",
       "3  {'joy': 0, 'sadness': 0, 'anticipation': 0, 's...   \n",
       "4  {'joy': 0, 'sadness': 0, 'anticipation': 0, 's...   \n",
       "\n",
       "                                             reader2  \\\n",
       "0  {'joy': 0, 'sadness': 2, 'anticipation': 0, 's...   \n",
       "1  {'joy': 2, 'sadness': 0, 'anticipation': 0, 's...   \n",
       "2  {'joy': 0, 'sadness': 0, 'anticipation': 0, 's...   \n",
       "3  {'joy': 0, 'sadness': 2, 'anticipation': 0, 's...   \n",
       "4  {'joy': 2, 'sadness': 0, 'anticipation': 0, 's...   \n",
       "\n",
       "                                             reader3  \\\n",
       "0  {'joy': 0, 'sadness': 2, 'anticipation': 0, 's...   \n",
       "1  {'joy': 1, 'sadness': 0, 'anticipation': 0, 's...   \n",
       "2  {'joy': 0, 'sadness': 0, 'anticipation': 0, 's...   \n",
       "3  {'joy': 0, 'sadness': 1, 'anticipation': 0, 's...   \n",
       "4  {'joy': 1, 'sadness': 0, 'anticipation': 0, 's...   \n",
       "\n",
       "                                         avg_readers  \n",
       "0  {'joy': 0, 'sadness': 2, 'anticipation': 0, 's...  \n",
       "1  {'joy': 1, 'sadness': 0, 'anticipation': 0, 's...  \n",
       "2  {'joy': 0, 'sadness': 0, 'anticipation': 0, 's...  \n",
       "3  {'joy': 0, 'sadness': 1, 'anticipation': 0, 's...  \n",
       "4  {'joy': 1, 'sadness': 0, 'anticipation': 0, 's...  "
      ]
     },
     "execution_count": 22,
     "metadata": {},
     "output_type": "execute_result"
    }
   ],
   "source": [
    "wrime_dataset2.set_format('pandas')\n",
    "df2 = wrime_dataset2['train'][:]\n",
    "df2.head()"
   ]
  },
  {
   "cell_type": "code",
   "execution_count": 23,
   "metadata": {},
   "outputs": [
    {
     "data": {
      "text/html": [
       "<div>\n",
       "<style scoped>\n",
       "    .dataframe tbody tr th:only-of-type {\n",
       "        vertical-align: middle;\n",
       "    }\n",
       "\n",
       "    .dataframe tbody tr th {\n",
       "        vertical-align: top;\n",
       "    }\n",
       "\n",
       "    .dataframe thead th {\n",
       "        text-align: right;\n",
       "    }\n",
       "</style>\n",
       "<table border=\"1\" class=\"dataframe\">\n",
       "  <thead>\n",
       "    <tr style=\"text-align: right;\">\n",
       "      <th></th>\n",
       "      <th>sentence</th>\n",
       "      <th>user_id</th>\n",
       "      <th>datetime</th>\n",
       "      <th>writer</th>\n",
       "      <th>reader1</th>\n",
       "      <th>reader2</th>\n",
       "      <th>reader3</th>\n",
       "      <th>avg_readers</th>\n",
       "    </tr>\n",
       "  </thead>\n",
       "  <tbody>\n",
       "    <tr>\n",
       "      <th>2661</th>\n",
       "      <td>車のタイヤがパンクしてた。。いたずらの可能性が高いんだって。。</td>\n",
       "      <td>6</td>\n",
       "      <td>2017/6/24 17:43</td>\n",
       "      <td>{'joy': 0, 'sadness': 3, 'anticipation': 0, 's...</td>\n",
       "      <td>{'joy': 0, 'sadness': 3, 'anticipation': 0, 's...</td>\n",
       "      <td>{'joy': 0, 'sadness': 2, 'anticipation': 0, 's...</td>\n",
       "      <td>{'joy': 0, 'sadness': 2, 'anticipation': 0, 's...</td>\n",
       "      <td>{'joy': 0, 'sadness': 2, 'anticipation': 0, 's...</td>\n",
       "    </tr>\n",
       "  </tbody>\n",
       "</table>\n",
       "</div>"
      ],
      "text/plain": [
       "                             sentence user_id         datetime  \\\n",
       "2661  車のタイヤがパンクしてた。。いたずらの可能性が高いんだって。。       6  2017/6/24 17:43   \n",
       "\n",
       "                                                 writer  \\\n",
       "2661  {'joy': 0, 'sadness': 3, 'anticipation': 0, 's...   \n",
       "\n",
       "                                                reader1  \\\n",
       "2661  {'joy': 0, 'sadness': 3, 'anticipation': 0, 's...   \n",
       "\n",
       "                                                reader2  \\\n",
       "2661  {'joy': 0, 'sadness': 2, 'anticipation': 0, 's...   \n",
       "\n",
       "                                                reader3  \\\n",
       "2661  {'joy': 0, 'sadness': 2, 'anticipation': 0, 's...   \n",
       "\n",
       "                                            avg_readers  \n",
       "2661  {'joy': 0, 'sadness': 2, 'anticipation': 0, 's...  "
      ]
     },
     "execution_count": 23,
     "metadata": {},
     "output_type": "execute_result"
    }
   ],
   "source": [
    "df2[df2['sentence'].str.contains('車のタイヤがパンクしてた')]"
   ]
  },
  {
   "cell_type": "code",
   "execution_count": 24,
   "metadata": {},
   "outputs": [
    {
     "name": "stdout",
     "output_type": "stream",
     "text": [
      "{'avg_readers': {'anger': 0,\n",
      "                 'anticipation': 0,\n",
      "                 'disgust': 1,\n",
      "                 'fear': 1,\n",
      "                 'joy': 0,\n",
      "                 'sadness': 2,\n",
      "                 'sentiment': -1,\n",
      "                 'surprise': 2,\n",
      "                 'trust': 0},\n",
      " 'datetime': '2017/6/24 17:43',\n",
      " 'reader1': {'anger': 1,\n",
      "             'anticipation': 0,\n",
      "             'disgust': 1,\n",
      "             'fear': 2,\n",
      "             'joy': 0,\n",
      "             'sadness': 3,\n",
      "             'sentiment': -1,\n",
      "             'surprise': 3,\n",
      "             'trust': 0},\n",
      " 'reader2': {'anger': 0,\n",
      "             'anticipation': 0,\n",
      "             'disgust': 1,\n",
      "             'fear': 1,\n",
      "             'joy': 0,\n",
      "             'sadness': 2,\n",
      "             'sentiment': -2,\n",
      "             'surprise': 2,\n",
      "             'trust': 0},\n",
      " 'reader3': {'anger': 0,\n",
      "             'anticipation': 0,\n",
      "             'disgust': 0,\n",
      "             'fear': 0,\n",
      "             'joy': 0,\n",
      "             'sadness': 2,\n",
      "             'sentiment': -1,\n",
      "             'surprise': 2,\n",
      "             'trust': 0},\n",
      " 'sentence': '車のタイヤがパンクしてた。。いたずらの可能性が高いんだって。。',\n",
      " 'user_id': '6',\n",
      " 'writer': {'anger': 3,\n",
      "            'anticipation': 0,\n",
      "            'disgust': 0,\n",
      "            'fear': 0,\n",
      "            'joy': 0,\n",
      "            'sadness': 3,\n",
      "            'sentiment': 0,\n",
      "            'surprise': 1,\n",
      "            'trust': 0}}\n"
     ]
    }
   ],
   "source": [
    "wrime_dataset2.reset_format()\n",
    "pprint(wrime_dataset2['train'][2661])"
   ]
  },
  {
   "cell_type": "code",
   "execution_count": 25,
   "metadata": {},
   "outputs": [
    {
     "name": "stderr",
     "output_type": "stream",
     "text": [
      "100%|██████████| 30000/30000 [00:03<00:00, 8262.38it/s]\n"
     ]
    }
   ],
   "source": [
    "# トークン数の分布\n",
    "train_wrime_dataset_length = text_length(wrime_dataset2['train'], 'sentence')"
   ]
  },
  {
   "cell_type": "code",
   "execution_count": 26,
   "metadata": {},
   "outputs": [
    {
     "data": {
      "text/plain": [
       "Text(0, 0.5, '事例数')"
      ]
     },
     "execution_count": 26,
     "metadata": {},
     "output_type": "execute_result"
    },
    {
     "data": {
      "image/png": "[encoded data removed]",
      "text/plain": [
       "<Figure size 432x288 with 1 Axes>"
      ]
     },
     "metadata": {
      "needs_background": "light"
     },
     "output_type": "display_data"
    }
   ],
   "source": [
    "plt.bar(train_wrime_dataset_length.keys(), train_wrime_dataset_length.values(), width=1.0)\n",
    "plt.xlabel(\"トークン数\")\n",
    "plt.ylabel(\"事例数\")"
   ]
  },
  {
   "cell_type": "markdown",
   "metadata": {},
   "source": [
    "### wrime-sentiment"
   ]
  },
  {
   "cell_type": "code",
   "execution_count": 27,
   "metadata": {},
   "outputs": [
    {
     "name": "stdout",
     "output_type": "stream",
     "text": [
      "{'test': Dataset({\n",
      "    features: ['sentence', 'label', 'user_id', 'datetime'],\n",
      "    num_rows: 2500\n",
      "}),\n",
      " 'train': Dataset({\n",
      "    features: ['sentence', 'label', 'user_id', 'datetime'],\n",
      "    num_rows: 30000\n",
      "}),\n",
      " 'validation': Dataset({\n",
      "    features: ['sentence', 'label', 'user_id', 'datetime'],\n",
      "    num_rows: 2500\n",
      "})}\n"
     ]
    }
   ],
   "source": [
    "# Hugging Face Hub上ののリポジトリからデータを読み込む\n",
    "wrime_sentiment = load_dataset(\"llm-book/wrime-sentiment\", remove_neutral=False)\n",
    "# pprintで見やすく表示する\n",
    "pprint(wrime_sentiment)"
   ]
  },
  {
   "cell_type": "code",
   "execution_count": 28,
   "metadata": {},
   "outputs": [
    {
     "name": "stdout",
     "output_type": "stream",
     "text": [
      "{'datetime': '2012/7/31 23:48',\n",
      " 'label': 1,\n",
      " 'sentence': 'ぼけっとしてたらこんな時間。チャリあるから食べにでたいのに…',\n",
      " 'user_id': 1}\n"
     ]
    }
   ],
   "source": [
    "pprint(wrime_sentiment['train'][0])"
   ]
  },
  {
   "cell_type": "code",
   "execution_count": 29,
   "metadata": {},
   "outputs": [
    {
     "data": {
      "text/html": [
       "<div>\n",
       "<style scoped>\n",
       "    .dataframe tbody tr th:only-of-type {\n",
       "        vertical-align: middle;\n",
       "    }\n",
       "\n",
       "    .dataframe tbody tr th {\n",
       "        vertical-align: top;\n",
       "    }\n",
       "\n",
       "    .dataframe thead th {\n",
       "        text-align: right;\n",
       "    }\n",
       "</style>\n",
       "<table border=\"1\" class=\"dataframe\">\n",
       "  <thead>\n",
       "    <tr style=\"text-align: right;\">\n",
       "      <th></th>\n",
       "      <th>sentence</th>\n",
       "      <th>label</th>\n",
       "      <th>user_id</th>\n",
       "      <th>datetime</th>\n",
       "    </tr>\n",
       "  </thead>\n",
       "  <tbody>\n",
       "    <tr>\n",
       "      <th>0</th>\n",
       "      <td>ぼけっとしてたらこんな時間。チャリあるから食べにでたいのに…</td>\n",
       "      <td>1</td>\n",
       "      <td>1</td>\n",
       "      <td>2012/7/31 23:48</td>\n",
       "    </tr>\n",
       "    <tr>\n",
       "      <th>1</th>\n",
       "      <td>今日の月も白くて明るい。昨日より雲が少なくてキレイな〜 と立ち止まる帰り道。チャリなし生活も...</td>\n",
       "      <td>0</td>\n",
       "      <td>1</td>\n",
       "      <td>2012/8/2 23:09</td>\n",
       "    </tr>\n",
       "    <tr>\n",
       "      <th>2</th>\n",
       "      <td>早寝するつもりが飲み物がなくなりコンビニへ。ん、今日、風が涼しいな。</td>\n",
       "      <td>2</td>\n",
       "      <td>1</td>\n",
       "      <td>2012/8/5 0:50</td>\n",
       "    </tr>\n",
       "    <tr>\n",
       "      <th>3</th>\n",
       "      <td>眠い、眠れない。</td>\n",
       "      <td>1</td>\n",
       "      <td>1</td>\n",
       "      <td>2012/8/8 1:36</td>\n",
       "    </tr>\n",
       "    <tr>\n",
       "      <th>4</th>\n",
       "      <td>ただいま〜 って新体操してるやん!外食する気満々で家に何もないのに!テレビから離れられない…!</td>\n",
       "      <td>2</td>\n",
       "      <td>1</td>\n",
       "      <td>2012/8/9 22:24</td>\n",
       "    </tr>\n",
       "  </tbody>\n",
       "</table>\n",
       "</div>"
      ],
      "text/plain": [
       "                                            sentence  label  user_id  \\\n",
       "0                     ぼけっとしてたらこんな時間。チャリあるから食べにでたいのに…      1        1   \n",
       "1  今日の月も白くて明るい。昨日より雲が少なくてキレイな〜 と立ち止まる帰り道。チャリなし生活も...      0        1   \n",
       "2                 早寝するつもりが飲み物がなくなりコンビニへ。ん、今日、風が涼しいな。      2        1   \n",
       "3                                           眠い、眠れない。      1        1   \n",
       "4    ただいま〜 って新体操してるやん!外食する気満々で家に何もないのに!テレビから離れられない…!      2        1   \n",
       "\n",
       "          datetime  \n",
       "0  2012/7/31 23:48  \n",
       "1   2012/8/2 23:09  \n",
       "2    2012/8/5 0:50  \n",
       "3    2012/8/8 1:36  \n",
       "4   2012/8/9 22:24  "
      ]
     },
     "execution_count": 29,
     "metadata": {},
     "output_type": "execute_result"
    }
   ],
   "source": [
    "wrime_sentiment.set_format('pandas')\n",
    "df3 = wrime_sentiment['train'][:]\n",
    "df3.head()"
   ]
  },
  {
   "cell_type": "code",
   "execution_count": 30,
   "metadata": {},
   "outputs": [
    {
     "data": {
      "text/plain": [
       "{'joy': 1,\n",
       " 'sadness': 0,\n",
       " 'anticipation': 0,\n",
       " 'surprise': 2,\n",
       " 'anger': 0,\n",
       " 'fear': 0,\n",
       " 'disgust': 0,\n",
       " 'trust': 0,\n",
       " 'sentiment': 1}"
      ]
     },
     "execution_count": 30,
     "metadata": {},
     "output_type": "execute_result"
    }
   ],
   "source": [
    "df2.loc[1,'avg_readers']"
   ]
  },
  {
   "cell_type": "code",
   "execution_count": 31,
   "metadata": {},
   "outputs": [
    {
     "data": {
      "text/plain": [
       "{'sentence': Value(dtype='string', id=None),\n",
       " 'label': ClassLabel(names=['positive', 'negative', 'neutral'], id=None),\n",
       " 'user_id': Value(dtype='int64', id=None),\n",
       " 'datetime': Value(dtype='string', id=None)}"
      ]
     },
     "execution_count": 31,
     "metadata": {},
     "output_type": "execute_result"
    }
   ],
   "source": [
    "wrime_sentiment['train'].features"
   ]
  },
  {
   "cell_type": "code",
   "execution_count": 32,
   "metadata": {},
   "outputs": [
    {
     "data": {
      "text/html": [
       "<div>\n",
       "<style scoped>\n",
       "    .dataframe tbody tr th:only-of-type {\n",
       "        vertical-align: middle;\n",
       "    }\n",
       "\n",
       "    .dataframe tbody tr th {\n",
       "        vertical-align: top;\n",
       "    }\n",
       "\n",
       "    .dataframe thead th {\n",
       "        text-align: right;\n",
       "    }\n",
       "</style>\n",
       "<table border=\"1\" class=\"dataframe\">\n",
       "  <thead>\n",
       "    <tr style=\"text-align: right;\">\n",
       "      <th></th>\n",
       "      <th>sentence</th>\n",
       "      <th>label</th>\n",
       "      <th>user_id</th>\n",
       "      <th>datetime</th>\n",
       "    </tr>\n",
       "  </thead>\n",
       "  <tbody>\n",
       "    <tr>\n",
       "      <th>2661</th>\n",
       "      <td>車のタイヤがパンクしてた。。いたずらの可能性が高いんだって。。</td>\n",
       "      <td>1</td>\n",
       "      <td>6</td>\n",
       "      <td>2017/6/24 17:43</td>\n",
       "    </tr>\n",
       "  </tbody>\n",
       "</table>\n",
       "</div>"
      ],
      "text/plain": [
       "                             sentence  label  user_id         datetime\n",
       "2661  車のタイヤがパンクしてた。。いたずらの可能性が高いんだって。。      1        6  2017/6/24 17:43"
      ]
     },
     "execution_count": 32,
     "metadata": {},
     "output_type": "execute_result"
    }
   ],
   "source": [
    "df3[df3['sentence'].str.contains('車のタイヤがパンクしてた')]"
   ]
  },
  {
   "cell_type": "code",
   "execution_count": 33,
   "metadata": {},
   "outputs": [
    {
     "data": {
      "text/plain": [
       "{'sentence': '車のタイヤがパンクしてた。。いたずらの可能性が高いんだって。。',\n",
       " 'label': 1,\n",
       " 'user_id': 6,\n",
       " 'datetime': '2017/6/24 17:43'}"
      ]
     },
     "execution_count": 33,
     "metadata": {},
     "output_type": "execute_result"
    }
   ],
   "source": [
    "wrime_sentiment.reset_format()\n",
    "wrime_sentiment['train'][2661]"
   ]
  },
  {
   "cell_type": "code",
   "execution_count": 34,
   "metadata": {},
   "outputs": [
    {
     "data": {
      "text/plain": [
       "{'sentence': Value(dtype='string', id=None),\n",
       " 'label': ClassLabel(names=['positive', 'negative', 'neutral'], id=None),\n",
       " 'user_id': Value(dtype='int64', id=None),\n",
       " 'datetime': Value(dtype='string', id=None)}"
      ]
     },
     "execution_count": 34,
     "metadata": {},
     "output_type": "execute_result"
    }
   ],
   "source": [
    "wrime_sentiment['train'].features"
   ]
  },
  {
   "cell_type": "code",
   "execution_count": 35,
   "metadata": {},
   "outputs": [
    {
     "name": "stderr",
     "output_type": "stream",
     "text": [
      "100%|██████████| 30000/30000 [00:02<00:00, 13678.57it/s]\n"
     ]
    }
   ],
   "source": [
    "# トークン数の分布\n",
    "train_wrime_sentiment_length = text_length(wrime_sentiment['train'], 'sentence')\n",
    "# ラベルの分布\n",
    "train_wrime_sentiment_label = dataset_labels(wrime_sentiment['train'], 'label')"
   ]
  },
  {
   "cell_type": "code",
   "execution_count": 36,
   "metadata": {},
   "outputs": [
    {
     "data": {
      "text/plain": [
       "Counter({'negative': 10653, 'positive': 9496, 'neutral': 9851})"
      ]
     },
     "execution_count": 36,
     "metadata": {},
     "output_type": "execute_result"
    }
   ],
   "source": [
    "train_wrime_sentiment_label"
   ]
  },
  {
   "cell_type": "code",
   "execution_count": 37,
   "metadata": {},
   "outputs": [
    {
     "data": {
      "image/png": "[encoded data removed]",
      "text/plain": [
       "<Figure size 1080x360 with 2 Axes>"
      ]
     },
     "metadata": {
      "needs_background": "light"
     },
     "output_type": "display_data"
    }
   ],
   "source": [
    "visualize_labels_text(train_wrime_sentiment_length, train_wrime_sentiment_label)"
   ]
  },
  {
   "cell_type": "code",
   "execution_count": 38,
   "metadata": {},
   "outputs": [
    {
     "name": "stdout",
     "output_type": "stream",
     "text": [
      "max: 140\n",
      "75%: 82.75\n",
      "80%: 88.2\n",
      "90%: 99.10000000000001\n"
     ]
    }
   ],
   "source": [
    "print('max:',max(train_wrime_sentiment_length.keys()))\n",
    "PERCENT=75\n",
    "print(f'{PERCENT}%:',np.percentile([k for k in train_wrime_sentiment_length.keys()], PERCENT))\n",
    "PERCENT=80\n",
    "print(f'{PERCENT}%:',np.percentile([k for k in train_wrime_sentiment_length.keys()], PERCENT))\n",
    "PERCENT=90\n",
    "print(f'{PERCENT}%:',np.percentile([k for k in train_wrime_sentiment_length.keys()], PERCENT))"
   ]
  },
  {
   "cell_type": "code",
   "execution_count": null,
   "metadata": {},
   "outputs": [],
   "source": []
  }
 ],
 "metadata": {
  "kernelspec": {
   "display_name": "Python 3",
   "language": "python",
   "name": "python3"
  },
  "language_info": {
   "codemirror_mode": {
    "name": "ipython",
    "version": 3
   },
   "file_extension": ".py",
   "mimetype": "text/x-python",
   "name": "python",
   "nbconvert_exporter": "python",
   "pygments_lexer": "ipython3",
   "version": "3.8.10"
  }
 },
 "nbformat": 4,
 "nbformat_minor": 2
}
