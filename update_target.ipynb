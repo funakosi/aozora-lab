{
 "cells": [
  {
   "attachments": {},
   "cell_type": "markdown",
   "metadata": {},
   "source": [
    "# ターゲットファイル更新用"
   ]
  },
  {
   "cell_type": "code",
   "execution_count": 1,
   "metadata": {},
   "outputs": [],
   "source": [
    "import pandas as pd\n",
    "import numpy as np\n",
    "import os"
   ]
  },
  {
   "cell_type": "code",
   "execution_count": 2,
   "metadata": {},
   "outputs": [],
   "source": [
    "TARGET_FILE = 'data/target.csv'\n",
    "NEW_TARGET_FILE = 'data/target2.csv'"
   ]
  },
  {
   "cell_type": "code",
   "execution_count": 3,
   "metadata": {},
   "outputs": [
    {
     "data": {
      "text/html": [
       "<div>\n",
       "<style scoped>\n",
       "    .dataframe tbody tr th:only-of-type {\n",
       "        vertical-align: middle;\n",
       "    }\n",
       "\n",
       "    .dataframe tbody tr th {\n",
       "        vertical-align: top;\n",
       "    }\n",
       "\n",
       "    .dataframe thead th {\n",
       "        text-align: right;\n",
       "    }\n",
       "</style>\n",
       "<table border=\"1\" class=\"dataframe\">\n",
       "  <thead>\n",
       "    <tr style=\"text-align: right;\">\n",
       "      <th></th>\n",
       "      <th>対象</th>\n",
       "      <th>人物ID</th>\n",
       "      <th>氏名</th>\n",
       "      <th>読み</th>\n",
       "      <th>作品ID</th>\n",
       "      <th>作品名</th>\n",
       "      <th>副題</th>\n",
       "      <th>作品名読み</th>\n",
       "      <th>図書カードURL</th>\n",
       "      <th>テキストファイルURL</th>\n",
       "      <th>テキストファイルパス</th>\n",
       "      <th>備考</th>\n",
       "      <th>length</th>\n",
       "    </tr>\n",
       "  </thead>\n",
       "  <tbody>\n",
       "    <tr>\n",
       "      <th>0</th>\n",
       "      <td>True</td>\n",
       "      <td>374</td>\n",
       "      <td>饗庭 篁村</td>\n",
       "      <td>あえば こうそん</td>\n",
       "      <td>45754</td>\n",
       "      <td>良夜</td>\n",
       "      <td>NaN</td>\n",
       "      <td>りょうや</td>\n",
       "      <td>https://www.aozora.gr.jp/cards/000374/card4575...</td>\n",
       "      <td>https://www.aozora.gr.jp/cards/000374/files/45...</td>\n",
       "      <td>./bunko/cards/000374/files/edit/45754_ruby_236...</td>\n",
       "      <td>NaN</td>\n",
       "      <td>119.0</td>\n",
       "    </tr>\n",
       "    <tr>\n",
       "      <th>1</th>\n",
       "      <td>True</td>\n",
       "      <td>879</td>\n",
       "      <td>芥川 竜之介</td>\n",
       "      <td>あくたがわ りゅうのすけ</td>\n",
       "      <td>73</td>\n",
       "      <td>或敵打の話</td>\n",
       "      <td>NaN</td>\n",
       "      <td>あるかたきうちのはなし</td>\n",
       "      <td>https://www.aozora.gr.jp/cards/000879/card73.html</td>\n",
       "      <td>https://www.aozora.gr.jp/cards/000879/files/73...</td>\n",
       "      <td>./bunko/cards/000879/files/edit/73_ruby_1217.txt</td>\n",
       "      <td>NaN</td>\n",
       "      <td>280.0</td>\n",
       "    </tr>\n",
       "    <tr>\n",
       "      <th>2</th>\n",
       "      <td>True</td>\n",
       "      <td>879</td>\n",
       "      <td>芥川 竜之介</td>\n",
       "      <td>あくたがわ りゅうのすけ</td>\n",
       "      <td>122</td>\n",
       "      <td>或日の大石内蔵助</td>\n",
       "      <td>NaN</td>\n",
       "      <td>あるひのおおいしくらのすけ</td>\n",
       "      <td>https://www.aozora.gr.jp/cards/000879/card122....</td>\n",
       "      <td>https://www.aozora.gr.jp/cards/000879/files/12...</td>\n",
       "      <td>./bunko/cards/000879/files/edit/122_ruby_172.txt</td>\n",
       "      <td>NaN</td>\n",
       "      <td>214.0</td>\n",
       "    </tr>\n",
       "    <tr>\n",
       "      <th>3</th>\n",
       "      <td>True</td>\n",
       "      <td>879</td>\n",
       "      <td>芥川 竜之介</td>\n",
       "      <td>あくたがわ りゅうのすけ</td>\n",
       "      <td>129</td>\n",
       "      <td>或恋愛小説</td>\n",
       "      <td>NaN</td>\n",
       "      <td>あるれんあいしょうせつ</td>\n",
       "      <td>https://www.aozora.gr.jp/cards/000879/card129....</td>\n",
       "      <td>https://www.aozora.gr.jp/cards/000879/files/12...</td>\n",
       "      <td>./bunko/cards/000879/files/edit/129_ruby_1142.txt</td>\n",
       "      <td>NaN</td>\n",
       "      <td>182.0</td>\n",
       "    </tr>\n",
       "    <tr>\n",
       "      <th>4</th>\n",
       "      <td>True</td>\n",
       "      <td>879</td>\n",
       "      <td>芥川 竜之介</td>\n",
       "      <td>あくたがわ りゅうのすけ</td>\n",
       "      <td>57</td>\n",
       "      <td>一夕話</td>\n",
       "      <td>NaN</td>\n",
       "      <td>いっせきわ</td>\n",
       "      <td>https://www.aozora.gr.jp/cards/000879/card57.html</td>\n",
       "      <td>https://www.aozora.gr.jp/cards/000879/files/57...</td>\n",
       "      <td>./bunko/cards/000879/files/edit/57_ruby_1172.txt</td>\n",
       "      <td>NaN</td>\n",
       "      <td>209.0</td>\n",
       "    </tr>\n",
       "  </tbody>\n",
       "</table>\n",
       "</div>"
      ],
      "text/plain": [
       "     対象  人物ID      氏名            読み   作品ID       作品名   副題          作品名読み  \\\n",
       "0  True   374   饗庭 篁村      あえば こうそん  45754        良夜  NaN           りょうや   \n",
       "1  True   879  芥川 竜之介  あくたがわ りゅうのすけ     73     或敵打の話  NaN    あるかたきうちのはなし   \n",
       "2  True   879  芥川 竜之介  あくたがわ りゅうのすけ    122  或日の大石内蔵助  NaN  あるひのおおいしくらのすけ   \n",
       "3  True   879  芥川 竜之介  あくたがわ りゅうのすけ    129     或恋愛小説  NaN    あるれんあいしょうせつ   \n",
       "4  True   879  芥川 竜之介  あくたがわ りゅうのすけ     57       一夕話  NaN          いっせきわ   \n",
       "\n",
       "                                            図書カードURL  \\\n",
       "0  https://www.aozora.gr.jp/cards/000374/card4575...   \n",
       "1  https://www.aozora.gr.jp/cards/000879/card73.html   \n",
       "2  https://www.aozora.gr.jp/cards/000879/card122....   \n",
       "3  https://www.aozora.gr.jp/cards/000879/card129....   \n",
       "4  https://www.aozora.gr.jp/cards/000879/card57.html   \n",
       "\n",
       "                                         テキストファイルURL  \\\n",
       "0  https://www.aozora.gr.jp/cards/000374/files/45...   \n",
       "1  https://www.aozora.gr.jp/cards/000879/files/73...   \n",
       "2  https://www.aozora.gr.jp/cards/000879/files/12...   \n",
       "3  https://www.aozora.gr.jp/cards/000879/files/12...   \n",
       "4  https://www.aozora.gr.jp/cards/000879/files/57...   \n",
       "\n",
       "                                          テキストファイルパス   備考  length  \n",
       "0  ./bunko/cards/000374/files/edit/45754_ruby_236...  NaN   119.0  \n",
       "1   ./bunko/cards/000879/files/edit/73_ruby_1217.txt  NaN   280.0  \n",
       "2   ./bunko/cards/000879/files/edit/122_ruby_172.txt  NaN   214.0  \n",
       "3  ./bunko/cards/000879/files/edit/129_ruby_1142.txt  NaN   182.0  \n",
       "4   ./bunko/cards/000879/files/edit/57_ruby_1172.txt  NaN   209.0  "
      ]
     },
     "execution_count": 3,
     "metadata": {},
     "output_type": "execute_result"
    }
   ],
   "source": [
    "df = pd.read_csv(TARGET_FILE, index_col=0)\n",
    "df.head()"
   ]
  },
  {
   "cell_type": "code",
   "execution_count": 4,
   "metadata": {},
   "outputs": [
    {
     "name": "stdout",
     "output_type": "stream",
     "text": [
      "(3442, 13)\n",
      "(1149, 13)\n"
     ]
    }
   ],
   "source": [
    "print(df.shape)\n",
    "print(df[df['length']>=500].shape)"
   ]
  },
  {
   "cell_type": "code",
   "execution_count": 5,
   "metadata": {},
   "outputs": [
    {
     "data": {
      "text/plain": [
       "Index(['対象', '人物ID', '氏名', '読み', '作品ID', '作品名', '副題', '作品名読み', '図書カードURL',\n",
       "       'テキストファイルURL', 'テキストファイルパス', '備考', 'length'],\n",
       "      dtype='object')"
      ]
     },
     "execution_count": 5,
     "metadata": {},
     "output_type": "execute_result"
    }
   ],
   "source": [
    "df.columns"
   ]
  },
  {
   "cell_type": "code",
   "execution_count": 6,
   "metadata": {},
   "outputs": [],
   "source": [
    "# スコアファイル保存用パスの作成\n",
    "score = df['テキストファイルパス'].str.replace('edit', 'score')\n",
    "score.name = 'スコアファイルパス'"
   ]
  },
  {
   "cell_type": "code",
   "execution_count": 7,
   "metadata": {},
   "outputs": [
    {
     "data": {
      "text/html": [
       "<div>\n",
       "<style scoped>\n",
       "    .dataframe tbody tr th:only-of-type {\n",
       "        vertical-align: middle;\n",
       "    }\n",
       "\n",
       "    .dataframe tbody tr th {\n",
       "        vertical-align: top;\n",
       "    }\n",
       "\n",
       "    .dataframe thead th {\n",
       "        text-align: right;\n",
       "    }\n",
       "</style>\n",
       "<table border=\"1\" class=\"dataframe\">\n",
       "  <thead>\n",
       "    <tr style=\"text-align: right;\">\n",
       "      <th></th>\n",
       "      <th>対象</th>\n",
       "      <th>人物ID</th>\n",
       "      <th>氏名</th>\n",
       "      <th>読み</th>\n",
       "      <th>作品ID</th>\n",
       "      <th>作品名</th>\n",
       "      <th>副題</th>\n",
       "      <th>作品名読み</th>\n",
       "      <th>図書カードURL</th>\n",
       "      <th>テキストファイルURL</th>\n",
       "      <th>テキストファイルパス</th>\n",
       "      <th>スコアファイルパス</th>\n",
       "      <th>備考</th>\n",
       "      <th>length</th>\n",
       "    </tr>\n",
       "  </thead>\n",
       "  <tbody>\n",
       "    <tr>\n",
       "      <th>0</th>\n",
       "      <td>True</td>\n",
       "      <td>374</td>\n",
       "      <td>饗庭 篁村</td>\n",
       "      <td>あえば こうそん</td>\n",
       "      <td>45754</td>\n",
       "      <td>良夜</td>\n",
       "      <td>NaN</td>\n",
       "      <td>りょうや</td>\n",
       "      <td>https://www.aozora.gr.jp/cards/000374/card4575...</td>\n",
       "      <td>https://www.aozora.gr.jp/cards/000374/files/45...</td>\n",
       "      <td>./bunko/cards/000374/files/edit/45754_ruby_236...</td>\n",
       "      <td>./bunko/cards/000374/files/score/45754_ruby_23...</td>\n",
       "      <td>NaN</td>\n",
       "      <td>119.0</td>\n",
       "    </tr>\n",
       "    <tr>\n",
       "      <th>1</th>\n",
       "      <td>True</td>\n",
       "      <td>879</td>\n",
       "      <td>芥川 竜之介</td>\n",
       "      <td>あくたがわ りゅうのすけ</td>\n",
       "      <td>73</td>\n",
       "      <td>或敵打の話</td>\n",
       "      <td>NaN</td>\n",
       "      <td>あるかたきうちのはなし</td>\n",
       "      <td>https://www.aozora.gr.jp/cards/000879/card73.html</td>\n",
       "      <td>https://www.aozora.gr.jp/cards/000879/files/73...</td>\n",
       "      <td>./bunko/cards/000879/files/edit/73_ruby_1217.txt</td>\n",
       "      <td>./bunko/cards/000879/files/score/73_ruby_1217.txt</td>\n",
       "      <td>NaN</td>\n",
       "      <td>280.0</td>\n",
       "    </tr>\n",
       "  </tbody>\n",
       "</table>\n",
       "</div>"
      ],
      "text/plain": [
       "     対象  人物ID      氏名            読み   作品ID    作品名   副題        作品名読み  \\\n",
       "0  True   374   饗庭 篁村      あえば こうそん  45754     良夜  NaN         りょうや   \n",
       "1  True   879  芥川 竜之介  あくたがわ りゅうのすけ     73  或敵打の話  NaN  あるかたきうちのはなし   \n",
       "\n",
       "                                            図書カードURL  \\\n",
       "0  https://www.aozora.gr.jp/cards/000374/card4575...   \n",
       "1  https://www.aozora.gr.jp/cards/000879/card73.html   \n",
       "\n",
       "                                         テキストファイルURL  \\\n",
       "0  https://www.aozora.gr.jp/cards/000374/files/45...   \n",
       "1  https://www.aozora.gr.jp/cards/000879/files/73...   \n",
       "\n",
       "                                          テキストファイルパス  \\\n",
       "0  ./bunko/cards/000374/files/edit/45754_ruby_236...   \n",
       "1   ./bunko/cards/000879/files/edit/73_ruby_1217.txt   \n",
       "\n",
       "                                           スコアファイルパス   備考  length  \n",
       "0  ./bunko/cards/000374/files/score/45754_ruby_23...  NaN   119.0  \n",
       "1  ./bunko/cards/000879/files/score/73_ruby_1217.txt  NaN   280.0  "
      ]
     },
     "execution_count": 7,
     "metadata": {},
     "output_type": "execute_result"
    }
   ],
   "source": [
    "# リスト形式の更新\n",
    "df_new = pd.concat([df.loc[:, :'テキストファイルパス'], score, df.loc[:, '備考':]], axis=1)\n",
    "df_new.head(2)"
   ]
  },
  {
   "cell_type": "code",
   "execution_count": 8,
   "metadata": {},
   "outputs": [],
   "source": [
    "# NaN -> 空白へ\n",
    "df_new = df_new.fillna('')"
   ]
  },
  {
   "cell_type": "code",
   "execution_count": 9,
   "metadata": {},
   "outputs": [
    {
     "data": {
      "text/html": [
       "<div>\n",
       "<style scoped>\n",
       "    .dataframe tbody tr th:only-of-type {\n",
       "        vertical-align: middle;\n",
       "    }\n",
       "\n",
       "    .dataframe tbody tr th {\n",
       "        vertical-align: top;\n",
       "    }\n",
       "\n",
       "    .dataframe thead th {\n",
       "        text-align: right;\n",
       "    }\n",
       "</style>\n",
       "<table border=\"1\" class=\"dataframe\">\n",
       "  <thead>\n",
       "    <tr style=\"text-align: right;\">\n",
       "      <th></th>\n",
       "      <th>対象</th>\n",
       "      <th>人物ID</th>\n",
       "      <th>氏名</th>\n",
       "      <th>読み</th>\n",
       "      <th>作品ID</th>\n",
       "      <th>作品名</th>\n",
       "      <th>副題</th>\n",
       "      <th>作品名読み</th>\n",
       "      <th>図書カードURL</th>\n",
       "      <th>テキストファイルURL</th>\n",
       "      <th>テキストファイルパス</th>\n",
       "      <th>スコアファイルパス</th>\n",
       "      <th>備考</th>\n",
       "      <th>length</th>\n",
       "    </tr>\n",
       "  </thead>\n",
       "  <tbody>\n",
       "  </tbody>\n",
       "</table>\n",
       "</div>"
      ],
      "text/plain": [
       "Empty DataFrame\n",
       "Columns: [対象, 人物ID, 氏名, 読み, 作品ID, 作品名, 副題, 作品名読み, 図書カードURL, テキストファイルURL, テキストファイルパス, スコアファイルパス, 備考, length]\n",
       "Index: []"
      ]
     },
     "execution_count": 9,
     "metadata": {},
     "output_type": "execute_result"
    }
   ],
   "source": [
    "df_new[df_new['スコアファイルパス'].isnull()]"
   ]
  },
  {
   "cell_type": "code",
   "execution_count": 10,
   "metadata": {},
   "outputs": [
    {
     "data": {
      "text/html": [
       "<div>\n",
       "<style scoped>\n",
       "    .dataframe tbody tr th:only-of-type {\n",
       "        vertical-align: middle;\n",
       "    }\n",
       "\n",
       "    .dataframe tbody tr th {\n",
       "        vertical-align: top;\n",
       "    }\n",
       "\n",
       "    .dataframe thead th {\n",
       "        text-align: right;\n",
       "    }\n",
       "</style>\n",
       "<table border=\"1\" class=\"dataframe\">\n",
       "  <thead>\n",
       "    <tr style=\"text-align: right;\">\n",
       "      <th></th>\n",
       "      <th>対象</th>\n",
       "      <th>人物ID</th>\n",
       "      <th>氏名</th>\n",
       "      <th>読み</th>\n",
       "      <th>作品ID</th>\n",
       "      <th>作品名</th>\n",
       "      <th>副題</th>\n",
       "      <th>作品名読み</th>\n",
       "      <th>図書カードURL</th>\n",
       "      <th>テキストファイルURL</th>\n",
       "      <th>テキストファイルパス</th>\n",
       "      <th>スコアファイルパス</th>\n",
       "      <th>備考</th>\n",
       "      <th>length</th>\n",
       "    </tr>\n",
       "  </thead>\n",
       "  <tbody>\n",
       "    <tr>\n",
       "      <th>0</th>\n",
       "      <td>True</td>\n",
       "      <td>374</td>\n",
       "      <td>饗庭 篁村</td>\n",
       "      <td>あえば こうそん</td>\n",
       "      <td>45754</td>\n",
       "      <td>良夜</td>\n",
       "      <td></td>\n",
       "      <td>りょうや</td>\n",
       "      <td>https://www.aozora.gr.jp/cards/000374/card4575...</td>\n",
       "      <td>https://www.aozora.gr.jp/cards/000374/files/45...</td>\n",
       "      <td>./bunko/cards/000374/files/edit/45754_ruby_236...</td>\n",
       "      <td>./bunko/cards/000374/files/score/45754_ruby_23...</td>\n",
       "      <td></td>\n",
       "      <td>119.0</td>\n",
       "    </tr>\n",
       "    <tr>\n",
       "      <th>1</th>\n",
       "      <td>True</td>\n",
       "      <td>879</td>\n",
       "      <td>芥川 竜之介</td>\n",
       "      <td>あくたがわ りゅうのすけ</td>\n",
       "      <td>73</td>\n",
       "      <td>或敵打の話</td>\n",
       "      <td></td>\n",
       "      <td>あるかたきうちのはなし</td>\n",
       "      <td>https://www.aozora.gr.jp/cards/000879/card73.html</td>\n",
       "      <td>https://www.aozora.gr.jp/cards/000879/files/73...</td>\n",
       "      <td>./bunko/cards/000879/files/edit/73_ruby_1217.txt</td>\n",
       "      <td>./bunko/cards/000879/files/score/73_ruby_1217.txt</td>\n",
       "      <td></td>\n",
       "      <td>280.0</td>\n",
       "    </tr>\n",
       "    <tr>\n",
       "      <th>2</th>\n",
       "      <td>True</td>\n",
       "      <td>879</td>\n",
       "      <td>芥川 竜之介</td>\n",
       "      <td>あくたがわ りゅうのすけ</td>\n",
       "      <td>122</td>\n",
       "      <td>或日の大石内蔵助</td>\n",
       "      <td></td>\n",
       "      <td>あるひのおおいしくらのすけ</td>\n",
       "      <td>https://www.aozora.gr.jp/cards/000879/card122....</td>\n",
       "      <td>https://www.aozora.gr.jp/cards/000879/files/12...</td>\n",
       "      <td>./bunko/cards/000879/files/edit/122_ruby_172.txt</td>\n",
       "      <td>./bunko/cards/000879/files/score/122_ruby_172.txt</td>\n",
       "      <td></td>\n",
       "      <td>214.0</td>\n",
       "    </tr>\n",
       "  </tbody>\n",
       "</table>\n",
       "</div>"
      ],
      "text/plain": [
       "     対象  人物ID      氏名            読み   作品ID       作品名 副題          作品名読み  \\\n",
       "0  True   374   饗庭 篁村      あえば こうそん  45754        良夜              りょうや   \n",
       "1  True   879  芥川 竜之介  あくたがわ りゅうのすけ     73     或敵打の話       あるかたきうちのはなし   \n",
       "2  True   879  芥川 竜之介  あくたがわ りゅうのすけ    122  或日の大石内蔵助     あるひのおおいしくらのすけ   \n",
       "\n",
       "                                            図書カードURL  \\\n",
       "0  https://www.aozora.gr.jp/cards/000374/card4575...   \n",
       "1  https://www.aozora.gr.jp/cards/000879/card73.html   \n",
       "2  https://www.aozora.gr.jp/cards/000879/card122....   \n",
       "\n",
       "                                         テキストファイルURL  \\\n",
       "0  https://www.aozora.gr.jp/cards/000374/files/45...   \n",
       "1  https://www.aozora.gr.jp/cards/000879/files/73...   \n",
       "2  https://www.aozora.gr.jp/cards/000879/files/12...   \n",
       "\n",
       "                                          テキストファイルパス  \\\n",
       "0  ./bunko/cards/000374/files/edit/45754_ruby_236...   \n",
       "1   ./bunko/cards/000879/files/edit/73_ruby_1217.txt   \n",
       "2   ./bunko/cards/000879/files/edit/122_ruby_172.txt   \n",
       "\n",
       "                                           スコアファイルパス 備考  length  \n",
       "0  ./bunko/cards/000374/files/score/45754_ruby_23...      119.0  \n",
       "1  ./bunko/cards/000879/files/score/73_ruby_1217.txt      280.0  \n",
       "2  ./bunko/cards/000879/files/score/122_ruby_172.txt      214.0  "
      ]
     },
     "execution_count": 10,
     "metadata": {},
     "output_type": "execute_result"
    }
   ],
   "source": [
    "df_new.head(3)"
   ]
  },
  {
   "cell_type": "code",
   "execution_count": 11,
   "metadata": {},
   "outputs": [
    {
     "name": "stdout",
     "output_type": "stream",
     "text": [
      "count:  0\n"
     ]
    }
   ],
   "source": [
    "# テキストファイルパスで指定されたパスにファイルが存在するか\n",
    "count = 0\n",
    "for id, row in df_new.iterrows():\n",
    "    f = row['テキストファイルパス']\n",
    "    if not os.path.isfile(f):\n",
    "        print(id, row['氏名'], row['作品ID'], row['作品名'])\n",
    "        count += 1\n",
    "print('count: ', count)"
   ]
  },
  {
   "cell_type": "code",
   "execution_count": 12,
   "metadata": {},
   "outputs": [
    {
     "name": "stdout",
     "output_type": "stream",
     "text": [
      "count:  0\n"
     ]
    }
   ],
   "source": [
    "# スコアファイルパスで指定されたパスにファイルが存在するか\n",
    "count = 0\n",
    "for id, row in df_new.iterrows():\n",
    "    f = row['スコアファイルパス']\n",
    "    if not os.path.isfile(f):\n",
    "        print(id, row['氏名'], row['作品ID'], row['作品名'], f)\n",
    "        count += 1\n",
    "print('count: ', count)"
   ]
  },
  {
   "cell_type": "code",
   "execution_count": 13,
   "metadata": {},
   "outputs": [],
   "source": [
    "df_new.to_csv(NEW_TARGET_FILE)"
   ]
  },
  {
   "cell_type": "code",
   "execution_count": 15,
   "metadata": {},
   "outputs": [
    {
     "name": "stdout",
     "output_type": "stream",
     "text": [
      "(3442, 15)\n",
      "1149\n"
     ]
    }
   ],
   "source": [
    "# CSVを読み込んで確認\n",
    "df_tmp = pd.read_csv(NEW_TARGET_FILE)\n",
    "print(df_tmp.shape)\n",
    "print(len(df_tmp[df_tmp['length']>=500]))"
   ]
  },
  {
   "cell_type": "code",
   "execution_count": null,
   "metadata": {},
   "outputs": [],
   "source": []
  }
 ],
 "metadata": {
  "kernelspec": {
   "display_name": "Python 3",
   "language": "python",
   "name": "python3"
  },
  "language_info": {
   "codemirror_mode": {
    "name": "ipython",
    "version": 3
   },
   "file_extension": ".py",
   "mimetype": "text/x-python",
   "name": "python",
   "nbconvert_exporter": "python",
   "pygments_lexer": "ipython3",
   "version": "3.8.10"
  },
  "orig_nbformat": 4
 },
 "nbformat": 4,
 "nbformat_minor": 2
}
