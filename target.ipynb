{
 "cells": [
  {
   "cell_type": "code",
   "execution_count": 1,
   "metadata": {},
   "outputs": [],
   "source": [
    "import pandas as pd"
   ]
  },
  {
   "cell_type": "code",
   "execution_count": 2,
   "metadata": {},
   "outputs": [
    {
     "data": {
      "text/html": [
       "<div>\n",
       "<style scoped>\n",
       "    .dataframe tbody tr th:only-of-type {\n",
       "        vertical-align: middle;\n",
       "    }\n",
       "\n",
       "    .dataframe tbody tr th {\n",
       "        vertical-align: top;\n",
       "    }\n",
       "\n",
       "    .dataframe thead th {\n",
       "        text-align: right;\n",
       "    }\n",
       "</style>\n",
       "<table border=\"1\" class=\"dataframe\">\n",
       "  <thead>\n",
       "    <tr style=\"text-align: right;\">\n",
       "      <th></th>\n",
       "      <th>Unnamed: 0</th>\n",
       "      <th>対象</th>\n",
       "      <th>人物ID</th>\n",
       "      <th>氏名</th>\n",
       "      <th>読み</th>\n",
       "      <th>作品ID</th>\n",
       "      <th>作品名</th>\n",
       "      <th>副題</th>\n",
       "      <th>作品名読み</th>\n",
       "      <th>図書カードURL</th>\n",
       "      <th>テキストファイルURL</th>\n",
       "      <th>テキストファイルパス</th>\n",
       "      <th>スコアファイルパス</th>\n",
       "      <th>備考</th>\n",
       "      <th>length</th>\n",
       "    </tr>\n",
       "  </thead>\n",
       "  <tbody>\n",
       "    <tr>\n",
       "      <th>0</th>\n",
       "      <td>0</td>\n",
       "      <td>True</td>\n",
       "      <td>374</td>\n",
       "      <td>饗庭 篁村</td>\n",
       "      <td>あえば こうそん</td>\n",
       "      <td>45754</td>\n",
       "      <td>良夜</td>\n",
       "      <td>NaN</td>\n",
       "      <td>りょうや</td>\n",
       "      <td>https://www.aozora.gr.jp/cards/000374/card4575...</td>\n",
       "      <td>https://www.aozora.gr.jp/cards/000374/files/45...</td>\n",
       "      <td>./bunko/cards/000374/files/edit/45754_ruby_236...</td>\n",
       "      <td>./bunko/cards/000374/files/score/45754_ruby_23...</td>\n",
       "      <td>NaN</td>\n",
       "      <td>119.0</td>\n",
       "    </tr>\n",
       "    <tr>\n",
       "      <th>1</th>\n",
       "      <td>1</td>\n",
       "      <td>True</td>\n",
       "      <td>879</td>\n",
       "      <td>芥川 竜之介</td>\n",
       "      <td>あくたがわ りゅうのすけ</td>\n",
       "      <td>73</td>\n",
       "      <td>或敵打の話</td>\n",
       "      <td>NaN</td>\n",
       "      <td>あるかたきうちのはなし</td>\n",
       "      <td>https://www.aozora.gr.jp/cards/000879/card73.html</td>\n",
       "      <td>https://www.aozora.gr.jp/cards/000879/files/73...</td>\n",
       "      <td>./bunko/cards/000879/files/edit/73_ruby_1217.txt</td>\n",
       "      <td>./bunko/cards/000879/files/score/73_ruby_1217.txt</td>\n",
       "      <td>NaN</td>\n",
       "      <td>280.0</td>\n",
       "    </tr>\n",
       "    <tr>\n",
       "      <th>2</th>\n",
       "      <td>2</td>\n",
       "      <td>True</td>\n",
       "      <td>879</td>\n",
       "      <td>芥川 竜之介</td>\n",
       "      <td>あくたがわ りゅうのすけ</td>\n",
       "      <td>122</td>\n",
       "      <td>或日の大石内蔵助</td>\n",
       "      <td>NaN</td>\n",
       "      <td>あるひのおおいしくらのすけ</td>\n",
       "      <td>https://www.aozora.gr.jp/cards/000879/card122....</td>\n",
       "      <td>https://www.aozora.gr.jp/cards/000879/files/12...</td>\n",
       "      <td>./bunko/cards/000879/files/edit/122_ruby_172.txt</td>\n",
       "      <td>./bunko/cards/000879/files/score/122_ruby_172.txt</td>\n",
       "      <td>NaN</td>\n",
       "      <td>214.0</td>\n",
       "    </tr>\n",
       "    <tr>\n",
       "      <th>3</th>\n",
       "      <td>3</td>\n",
       "      <td>True</td>\n",
       "      <td>879</td>\n",
       "      <td>芥川 竜之介</td>\n",
       "      <td>あくたがわ りゅうのすけ</td>\n",
       "      <td>129</td>\n",
       "      <td>或恋愛小説</td>\n",
       "      <td>NaN</td>\n",
       "      <td>あるれんあいしょうせつ</td>\n",
       "      <td>https://www.aozora.gr.jp/cards/000879/card129....</td>\n",
       "      <td>https://www.aozora.gr.jp/cards/000879/files/12...</td>\n",
       "      <td>./bunko/cards/000879/files/edit/129_ruby_1142.txt</td>\n",
       "      <td>./bunko/cards/000879/files/score/129_ruby_1142...</td>\n",
       "      <td>NaN</td>\n",
       "      <td>182.0</td>\n",
       "    </tr>\n",
       "    <tr>\n",
       "      <th>4</th>\n",
       "      <td>4</td>\n",
       "      <td>True</td>\n",
       "      <td>879</td>\n",
       "      <td>芥川 竜之介</td>\n",
       "      <td>あくたがわ りゅうのすけ</td>\n",
       "      <td>57</td>\n",
       "      <td>一夕話</td>\n",
       "      <td>NaN</td>\n",
       "      <td>いっせきわ</td>\n",
       "      <td>https://www.aozora.gr.jp/cards/000879/card57.html</td>\n",
       "      <td>https://www.aozora.gr.jp/cards/000879/files/57...</td>\n",
       "      <td>./bunko/cards/000879/files/edit/57_ruby_1172.txt</td>\n",
       "      <td>./bunko/cards/000879/files/score/57_ruby_1172.txt</td>\n",
       "      <td>NaN</td>\n",
       "      <td>209.0</td>\n",
       "    </tr>\n",
       "  </tbody>\n",
       "</table>\n",
       "</div>"
      ],
      "text/plain": [
       "   Unnamed: 0    対象  人物ID      氏名            読み   作品ID       作品名   副題  \\\n",
       "0           0  True   374   饗庭 篁村      あえば こうそん  45754        良夜  NaN   \n",
       "1           1  True   879  芥川 竜之介  あくたがわ りゅうのすけ     73     或敵打の話  NaN   \n",
       "2           2  True   879  芥川 竜之介  あくたがわ りゅうのすけ    122  或日の大石内蔵助  NaN   \n",
       "3           3  True   879  芥川 竜之介  あくたがわ りゅうのすけ    129     或恋愛小説  NaN   \n",
       "4           4  True   879  芥川 竜之介  あくたがわ りゅうのすけ     57       一夕話  NaN   \n",
       "\n",
       "           作品名読み                                           図書カードURL  \\\n",
       "0           りょうや  https://www.aozora.gr.jp/cards/000374/card4575...   \n",
       "1    あるかたきうちのはなし  https://www.aozora.gr.jp/cards/000879/card73.html   \n",
       "2  あるひのおおいしくらのすけ  https://www.aozora.gr.jp/cards/000879/card122....   \n",
       "3    あるれんあいしょうせつ  https://www.aozora.gr.jp/cards/000879/card129....   \n",
       "4          いっせきわ  https://www.aozora.gr.jp/cards/000879/card57.html   \n",
       "\n",
       "                                         テキストファイルURL  \\\n",
       "0  https://www.aozora.gr.jp/cards/000374/files/45...   \n",
       "1  https://www.aozora.gr.jp/cards/000879/files/73...   \n",
       "2  https://www.aozora.gr.jp/cards/000879/files/12...   \n",
       "3  https://www.aozora.gr.jp/cards/000879/files/12...   \n",
       "4  https://www.aozora.gr.jp/cards/000879/files/57...   \n",
       "\n",
       "                                          テキストファイルパス  \\\n",
       "0  ./bunko/cards/000374/files/edit/45754_ruby_236...   \n",
       "1   ./bunko/cards/000879/files/edit/73_ruby_1217.txt   \n",
       "2   ./bunko/cards/000879/files/edit/122_ruby_172.txt   \n",
       "3  ./bunko/cards/000879/files/edit/129_ruby_1142.txt   \n",
       "4   ./bunko/cards/000879/files/edit/57_ruby_1172.txt   \n",
       "\n",
       "                                           スコアファイルパス   備考  length  \n",
       "0  ./bunko/cards/000374/files/score/45754_ruby_23...  NaN   119.0  \n",
       "1  ./bunko/cards/000879/files/score/73_ruby_1217.txt  NaN   280.0  \n",
       "2  ./bunko/cards/000879/files/score/122_ruby_172.txt  NaN   214.0  \n",
       "3  ./bunko/cards/000879/files/score/129_ruby_1142...  NaN   182.0  \n",
       "4  ./bunko/cards/000879/files/score/57_ruby_1172.txt  NaN   209.0  "
      ]
     },
     "execution_count": 2,
     "metadata": {},
     "output_type": "execute_result"
    }
   ],
   "source": [
    "df = pd.read_csv('data/target2.csv')\n",
    "df.head()"
   ]
  },
  {
   "cell_type": "code",
   "execution_count": 4,
   "metadata": {},
   "outputs": [
    {
     "data": {
      "text/plain": [
       "2801442.0"
      ]
     },
     "execution_count": 4,
     "metadata": {},
     "output_type": "execute_result"
    }
   ],
   "source": [
    "df['length'].sum()"
   ]
  },
  {
   "cell_type": "code",
   "execution_count": 6,
   "metadata": {},
   "outputs": [
    {
     "data": {
      "text/plain": [
       "0.009209542799743847"
      ]
     },
     "execution_count": 6,
     "metadata": {},
     "output_type": "execute_result"
    }
   ],
   "source": [
    "(258/2801442.0)*100"
   ]
  },
  {
   "cell_type": "code",
   "execution_count": null,
   "metadata": {},
   "outputs": [],
   "source": []
  }
 ],
 "metadata": {
  "kernelspec": {
   "display_name": "Python 3",
   "language": "python",
   "name": "python3"
  },
  "language_info": {
   "codemirror_mode": {
    "name": "ipython",
    "version": 3
   },
   "file_extension": ".py",
   "mimetype": "text/x-python",
   "name": "python",
   "nbconvert_exporter": "python",
   "pygments_lexer": "ipython3",
   "version": "3.8.10"
  }
 },
 "nbformat": 4,
 "nbformat_minor": 2
}
