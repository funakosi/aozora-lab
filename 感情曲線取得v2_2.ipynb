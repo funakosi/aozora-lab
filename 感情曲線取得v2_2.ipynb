{
 "cells": [
  {
   "cell_type": "code",
   "execution_count": 1,
   "metadata": {},
   "outputs": [
    {
     "data": {
      "text/html": [
       "<div>\n",
       "<style scoped>\n",
       "    .dataframe tbody tr th:only-of-type {\n",
       "        vertical-align: middle;\n",
       "    }\n",
       "\n",
       "    .dataframe tbody tr th {\n",
       "        vertical-align: top;\n",
       "    }\n",
       "\n",
       "    .dataframe thead th {\n",
       "        text-align: right;\n",
       "    }\n",
       "</style>\n",
       "<table border=\"1\" class=\"dataframe\">\n",
       "  <thead>\n",
       "    <tr style=\"text-align: right;\">\n",
       "      <th></th>\n",
       "      <th>Unnamed: 0</th>\n",
       "      <th>type</th>\n",
       "      <th>text</th>\n",
       "      <th>logit_value</th>\n",
       "      <th>pred_value</th>\n",
       "      <th>logit_score</th>\n",
       "      <th>pred_score</th>\n",
       "      <th>label_name</th>\n",
       "    </tr>\n",
       "  </thead>\n",
       "  <tbody>\n",
       "    <tr>\n",
       "      <th>0</th>\n",
       "      <td>0</td>\n",
       "      <td>本文</td>\n",
       "      <td>この話が私の夢か私の一時的狂気の幻でなかったならば、あの押絵と旅をしていた男こそ狂人であった...</td>\n",
       "      <td>0.435936</td>\n",
       "      <td>0.437261</td>\n",
       "      <td>0.000000</td>\n",
       "      <td>0.000000</td>\n",
       "      <td>NEUTRAL</td>\n",
       "    </tr>\n",
       "    <tr>\n",
       "      <th>1</th>\n",
       "      <td>1</td>\n",
       "      <td>本文</td>\n",
       "      <td>だが、夢が時として、どこかこの世界と喰違った別の世界を、チラリと覗かせてくれる様に、又狂人が...</td>\n",
       "      <td>0.964032</td>\n",
       "      <td>0.523160</td>\n",
       "      <td>0.000000</td>\n",
       "      <td>0.000000</td>\n",
       "      <td>NEUTRAL</td>\n",
       "    </tr>\n",
       "    <tr>\n",
       "      <th>2</th>\n",
       "      <td>2</td>\n",
       "      <td>本文</td>\n",
       "      <td>いつとも知れぬ、ある暖かい薄曇った日のことである。</td>\n",
       "      <td>0.538906</td>\n",
       "      <td>0.501536</td>\n",
       "      <td>0.000000</td>\n",
       "      <td>0.000000</td>\n",
       "      <td>NEUTRAL</td>\n",
       "    </tr>\n",
       "    <tr>\n",
       "      <th>3</th>\n",
       "      <td>3</td>\n",
       "      <td>本文</td>\n",
       "      <td>その時、私は態々魚津へ蜃気楼を見に出掛けた帰り途であった。</td>\n",
       "      <td>0.681818</td>\n",
       "      <td>0.541357</td>\n",
       "      <td>0.000000</td>\n",
       "      <td>0.000000</td>\n",
       "      <td>NEUTRAL</td>\n",
       "    </tr>\n",
       "    <tr>\n",
       "      <th>4</th>\n",
       "      <td>4</td>\n",
       "      <td>本文</td>\n",
       "      <td>私がこの話をすると、時々、お前は魚津なんかへ行ったことはないじゃないかと、親しい友達に突っ込...</td>\n",
       "      <td>1.094633</td>\n",
       "      <td>0.582807</td>\n",
       "      <td>1.101838</td>\n",
       "      <td>0.582807</td>\n",
       "      <td>POSITIVE</td>\n",
       "    </tr>\n",
       "  </tbody>\n",
       "</table>\n",
       "</div>"
      ],
      "text/plain": [
       "   Unnamed: 0 type                                               text  \\\n",
       "0           0   本文  この話が私の夢か私の一時的狂気の幻でなかったならば、あの押絵と旅をしていた男こそ狂人であった...   \n",
       "1           1   本文  だが、夢が時として、どこかこの世界と喰違った別の世界を、チラリと覗かせてくれる様に、又狂人が...   \n",
       "2           2   本文                          いつとも知れぬ、ある暖かい薄曇った日のことである。   \n",
       "3           3   本文                      その時、私は態々魚津へ蜃気楼を見に出掛けた帰り途であった。   \n",
       "4           4   本文  私がこの話をすると、時々、お前は魚津なんかへ行ったことはないじゃないかと、親しい友達に突っ込...   \n",
       "\n",
       "   logit_value  pred_value  logit_score  pred_score label_name  \n",
       "0     0.435936    0.437261     0.000000    0.000000    NEUTRAL  \n",
       "1     0.964032    0.523160     0.000000    0.000000    NEUTRAL  \n",
       "2     0.538906    0.501536     0.000000    0.000000    NEUTRAL  \n",
       "3     0.681818    0.541357     0.000000    0.000000    NEUTRAL  \n",
       "4     1.094633    0.582807     1.101838    0.582807   POSITIVE  "
      ]
     },
     "execution_count": 1,
     "metadata": {},
     "output_type": "execute_result"
    }
   ],
   "source": [
    "import pandas as pd\n",
    "\n",
    "df = pd.read_csv('data/bert-multilingual-sentiments-base/oshie_score.csv')\n",
    "df.head()"
   ]
  },
  {
   "cell_type": "code",
   "execution_count": 2,
   "metadata": {},
   "outputs": [
    {
     "data": {
      "text/plain": [
       "[<matplotlib.lines.Line2D at 0x7fba4004e700>]"
      ]
     },
     "execution_count": 2,
     "metadata": {},
     "output_type": "execute_result"
    },
    {
     "data": {
      "image/png": "[encoded data removed]",
      "text/plain": [
       "<Figure size 432x288 with 1 Axes>"
      ]
     },
     "metadata": {
      "needs_background": "light"
     },
     "output_type": "display_data"
    }
   ],
   "source": [
    "from library import score\n",
    "import matplotlib.pyplot as plt\n",
    "# 曲線表示\n",
    "window_size = int(df.shape[0] / 5)\n",
    "logit_score_mean = score.get_score_mean(df['logit_score'], window_size=window_size)\n",
    "logit_score_norm = score.score_normalize(logit_score_mean)\n",
    "plt.plot(logit_score_norm)"
   ]
  },
  {
   "cell_type": "code",
   "execution_count": 3,
   "metadata": {},
   "outputs": [],
   "source": [
    "def coef(label):\n",
    "    if label.upper() == 'POSITIVE':\n",
    "        return 1\n",
    "    elif label.upper() == 'NEGATIVE':\n",
    "        return -1\n",
    "    else:\n",
    "        return 0"
   ]
  },
  {
   "cell_type": "code",
   "execution_count": 4,
   "metadata": {},
   "outputs": [
    {
     "name": "stdout",
     "output_type": "stream",
     "text": [
      "diff:0.0072055021300911\n"
     ]
    },
    {
     "data": {
      "text/html": [
       "<div>\n",
       "<style scoped>\n",
       "    .dataframe tbody tr th:only-of-type {\n",
       "        vertical-align: middle;\n",
       "    }\n",
       "\n",
       "    .dataframe tbody tr th {\n",
       "        vertical-align: top;\n",
       "    }\n",
       "\n",
       "    .dataframe thead th {\n",
       "        text-align: right;\n",
       "    }\n",
       "</style>\n",
       "<table border=\"1\" class=\"dataframe\">\n",
       "  <thead>\n",
       "    <tr style=\"text-align: right;\">\n",
       "      <th></th>\n",
       "      <th>Unnamed: 0</th>\n",
       "      <th>type</th>\n",
       "      <th>text</th>\n",
       "      <th>logit_value</th>\n",
       "      <th>pred_value</th>\n",
       "      <th>logit_score</th>\n",
       "      <th>pred_score</th>\n",
       "      <th>label_name</th>\n",
       "    </tr>\n",
       "  </thead>\n",
       "  <tbody>\n",
       "    <tr>\n",
       "      <th>0</th>\n",
       "      <td>0</td>\n",
       "      <td>本文</td>\n",
       "      <td>この話が私の夢か私の一時的狂気の幻でなかったならば、あの押絵と旅をしていた男こそ狂人であった...</td>\n",
       "      <td>0.435936</td>\n",
       "      <td>0.437261</td>\n",
       "      <td>0.000000</td>\n",
       "      <td>0.000000</td>\n",
       "      <td>NEUTRAL</td>\n",
       "    </tr>\n",
       "    <tr>\n",
       "      <th>1</th>\n",
       "      <td>1</td>\n",
       "      <td>本文</td>\n",
       "      <td>だが、夢が時として、どこかこの世界と喰違った別の世界を、チラリと覗かせてくれる様に、又狂人が...</td>\n",
       "      <td>0.964032</td>\n",
       "      <td>0.523160</td>\n",
       "      <td>0.000000</td>\n",
       "      <td>0.000000</td>\n",
       "      <td>NEUTRAL</td>\n",
       "    </tr>\n",
       "    <tr>\n",
       "      <th>2</th>\n",
       "      <td>2</td>\n",
       "      <td>本文</td>\n",
       "      <td>いつとも知れぬ、ある暖かい薄曇った日のことである。</td>\n",
       "      <td>0.538906</td>\n",
       "      <td>0.501536</td>\n",
       "      <td>0.000000</td>\n",
       "      <td>0.000000</td>\n",
       "      <td>NEUTRAL</td>\n",
       "    </tr>\n",
       "    <tr>\n",
       "      <th>3</th>\n",
       "      <td>3</td>\n",
       "      <td>本文</td>\n",
       "      <td>その時、私は態々魚津へ蜃気楼を見に出掛けた帰り途であった。</td>\n",
       "      <td>0.681818</td>\n",
       "      <td>0.541357</td>\n",
       "      <td>0.000000</td>\n",
       "      <td>0.000000</td>\n",
       "      <td>NEUTRAL</td>\n",
       "    </tr>\n",
       "    <tr>\n",
       "      <th>4</th>\n",
       "      <td>4</td>\n",
       "      <td>本文</td>\n",
       "      <td>私がこの話をすると、時々、お前は魚津なんかへ行ったことはないじゃないかと、親しい友達に突っ込...</td>\n",
       "      <td>1.094633</td>\n",
       "      <td>0.582807</td>\n",
       "      <td>1.101838</td>\n",
       "      <td>0.582807</td>\n",
       "      <td>POSITIVE</td>\n",
       "    </tr>\n",
       "    <tr>\n",
       "      <th>5</th>\n",
       "      <td>5</td>\n",
       "      <td>本文</td>\n",
       "      <td>そう云われて見ると、私は何時の何日に魚津へ行ったのだと、ハッキリ証拠を示すことが出来ぬ。</td>\n",
       "      <td>1.028086</td>\n",
       "      <td>0.567208</td>\n",
       "      <td>-1.035291</td>\n",
       "      <td>-0.567208</td>\n",
       "      <td>NEGATIVE</td>\n",
       "    </tr>\n",
       "    <tr>\n",
       "      <th>6</th>\n",
       "      <td>6</td>\n",
       "      <td>本文</td>\n",
       "      <td>それではやっぱり夢であったのか。</td>\n",
       "      <td>1.314990</td>\n",
       "      <td>0.760741</td>\n",
       "      <td>0.000000</td>\n",
       "      <td>0.000000</td>\n",
       "      <td>NEUTRAL</td>\n",
       "    </tr>\n",
       "    <tr>\n",
       "      <th>7</th>\n",
       "      <td>7</td>\n",
       "      <td>本文</td>\n",
       "      <td>だが私は嘗て、あのように濃厚な色彩を持った夢を見たことがない。</td>\n",
       "      <td>1.071915</td>\n",
       "      <td>0.658111</td>\n",
       "      <td>0.000000</td>\n",
       "      <td>0.000000</td>\n",
       "      <td>NEUTRAL</td>\n",
       "    </tr>\n",
       "    <tr>\n",
       "      <th>8</th>\n",
       "      <td>8</td>\n",
       "      <td>本文</td>\n",
       "      <td>夢の中の景色は、映画と同じに、全く色彩を伴わぬものであるのに、あの折の汽車の中の景色丈けは、...</td>\n",
       "      <td>1.743872</td>\n",
       "      <td>0.854272</td>\n",
       "      <td>1.751077</td>\n",
       "      <td>0.854272</td>\n",
       "      <td>POSITIVE</td>\n",
       "    </tr>\n",
       "    <tr>\n",
       "      <th>9</th>\n",
       "      <td>9</td>\n",
       "      <td>本文</td>\n",
       "      <td>着色映画の夢というものがあるのであろうか。</td>\n",
       "      <td>1.078759</td>\n",
       "      <td>0.636153</td>\n",
       "      <td>0.000000</td>\n",
       "      <td>0.000000</td>\n",
       "      <td>NEUTRAL</td>\n",
       "    </tr>\n",
       "  </tbody>\n",
       "</table>\n",
       "</div>"
      ],
      "text/plain": [
       "   Unnamed: 0 type                                               text  \\\n",
       "0           0   本文  この話が私の夢か私の一時的狂気の幻でなかったならば、あの押絵と旅をしていた男こそ狂人であった...   \n",
       "1           1   本文  だが、夢が時として、どこかこの世界と喰違った別の世界を、チラリと覗かせてくれる様に、又狂人が...   \n",
       "2           2   本文                          いつとも知れぬ、ある暖かい薄曇った日のことである。   \n",
       "3           3   本文                      その時、私は態々魚津へ蜃気楼を見に出掛けた帰り途であった。   \n",
       "4           4   本文  私がこの話をすると、時々、お前は魚津なんかへ行ったことはないじゃないかと、親しい友達に突っ込...   \n",
       "5           5   本文       そう云われて見ると、私は何時の何日に魚津へ行ったのだと、ハッキリ証拠を示すことが出来ぬ。   \n",
       "6           6   本文                                   それではやっぱり夢であったのか。   \n",
       "7           7   本文                    だが私は嘗て、あのように濃厚な色彩を持った夢を見たことがない。   \n",
       "8           8   本文  夢の中の景色は、映画と同じに、全く色彩を伴わぬものであるのに、あの折の汽車の中の景色丈けは、...   \n",
       "9           9   本文                              着色映画の夢というものがあるのであろうか。   \n",
       "\n",
       "   logit_value  pred_value  logit_score  pred_score label_name  \n",
       "0     0.435936    0.437261     0.000000    0.000000    NEUTRAL  \n",
       "1     0.964032    0.523160     0.000000    0.000000    NEUTRAL  \n",
       "2     0.538906    0.501536     0.000000    0.000000    NEUTRAL  \n",
       "3     0.681818    0.541357     0.000000    0.000000    NEUTRAL  \n",
       "4     1.094633    0.582807     1.101838    0.582807   POSITIVE  \n",
       "5     1.028086    0.567208    -1.035291   -0.567208   NEGATIVE  \n",
       "6     1.314990    0.760741     0.000000    0.000000    NEUTRAL  \n",
       "7     1.071915    0.658111     0.000000    0.000000    NEUTRAL  \n",
       "8     1.743872    0.854272     1.751077    0.854272   POSITIVE  \n",
       "9     1.078759    0.636153     0.000000    0.000000    NEUTRAL  "
      ]
     },
     "execution_count": 4,
     "metadata": {},
     "output_type": "execute_result"
    }
   ],
   "source": [
    "diff = abs(df[df['logit_value']<0]['logit_value'].min())\n",
    "df_diff = df.copy()\n",
    "if diff > 0:\n",
    "    print(f'diff:{diff}')\n",
    "    # df_diff['logit_score'] = df_diff['logit_score'] +  df['label_name'].apply(lambda d: diff if d != 'NEUTRAL' else 0)\n",
    "    logit_values = df_diff['logit_value'] +  diff\n",
    "    df_diff['logit_score'] = logit_values * df['label_name'].apply(coef)\n",
    "df_diff.head(10)"
   ]
  },
  {
   "cell_type": "code",
   "execution_count": 5,
   "metadata": {},
   "outputs": [
    {
     "data": {
      "text/plain": [
       "4      0.007206\n",
       "5      0.007206\n",
       "8      0.007206\n",
       "10     0.007206\n",
       "11     0.007206\n",
       "         ...   \n",
       "310    0.007206\n",
       "311    0.007206\n",
       "313    0.007206\n",
       "318    0.007206\n",
       "321    0.007206\n",
       "Length: 145, dtype: float64"
      ]
     },
     "execution_count": 5,
     "metadata": {},
     "output_type": "execute_result"
    }
   ],
   "source": [
    "df_posi_nega = df_diff[df_diff['label_name']!='NEUTRAL']\n",
    "abs(df_posi_nega['logit_score'])-abs(df_posi_nega['logit_value'])"
   ]
  },
  {
   "cell_type": "code",
   "execution_count": 6,
   "metadata": {},
   "outputs": [
    {
     "data": {
      "text/plain": [
       "[<matplotlib.lines.Line2D at 0x7fba3dedd310>]"
      ]
     },
     "execution_count": 6,
     "metadata": {},
     "output_type": "execute_result"
    },
    {
     "data": {
      "image/png": "[encoded data removed]",
      "text/plain": [
       "<Figure size 432x288 with 1 Axes>"
      ]
     },
     "metadata": {
      "needs_background": "light"
     },
     "output_type": "display_data"
    }
   ],
   "source": [
    "# 曲線表示\n",
    "window_size = int(df_diff.shape[0] / 5)\n",
    "diff_logit_score_mean = score.get_score_mean(df_diff['logit_score'], window_size=window_size)\n",
    "diff_logit_score_norm = score.score_normalize(diff_logit_score_mean)\n",
    "plt.plot(diff_logit_score_norm)"
   ]
  },
  {
   "cell_type": "code",
   "execution_count": null,
   "metadata": {},
   "outputs": [],
   "source": []
  },
  {
   "cell_type": "code",
   "execution_count": 7,
   "metadata": {},
   "outputs": [
    {
     "data": {
      "text/html": [
       "<div>\n",
       "<style scoped>\n",
       "    .dataframe tbody tr th:only-of-type {\n",
       "        vertical-align: middle;\n",
       "    }\n",
       "\n",
       "    .dataframe tbody tr th {\n",
       "        vertical-align: top;\n",
       "    }\n",
       "\n",
       "    .dataframe thead th {\n",
       "        text-align: right;\n",
       "    }\n",
       "</style>\n",
       "<table border=\"1\" class=\"dataframe\">\n",
       "  <thead>\n",
       "    <tr style=\"text-align: right;\">\n",
       "      <th></th>\n",
       "      <th>Unnamed: 0</th>\n",
       "      <th>type</th>\n",
       "      <th>text</th>\n",
       "      <th>logit_value</th>\n",
       "      <th>pred_value</th>\n",
       "      <th>logit_score</th>\n",
       "      <th>pred_score</th>\n",
       "      <th>label_name</th>\n",
       "    </tr>\n",
       "  </thead>\n",
       "  <tbody>\n",
       "    <tr>\n",
       "      <th>0</th>\n",
       "      <td>0</td>\n",
       "      <td>本文</td>\n",
       "      <td>一、午后の授業</td>\n",
       "      <td>0.723805</td>\n",
       "      <td>0.573173</td>\n",
       "      <td>0.000000</td>\n",
       "      <td>0.000000</td>\n",
       "      <td>NEUTRAL</td>\n",
       "    </tr>\n",
       "    <tr>\n",
       "      <th>1</th>\n",
       "      <td>1</td>\n",
       "      <td>本文</td>\n",
       "      <td>「ではみなさんは、そういうふうに川だと云われたり、乳の流れたあとだと云われたりしていたこのぼ...</td>\n",
       "      <td>0.983355</td>\n",
       "      <td>0.643631</td>\n",
       "      <td>0.000000</td>\n",
       "      <td>0.000000</td>\n",
       "      <td>NEUTRAL</td>\n",
       "    </tr>\n",
       "    <tr>\n",
       "      <th>2</th>\n",
       "      <td>2</td>\n",
       "      <td>本文</td>\n",
       "      <td>」先生は、黒板に吊した大きな黒い星座の図の、上から下へ白くけぶった銀河帯のようなところを指し...</td>\n",
       "      <td>0.698622</td>\n",
       "      <td>0.507899</td>\n",
       "      <td>0.698622</td>\n",
       "      <td>0.507899</td>\n",
       "      <td>POSITIVE</td>\n",
       "    </tr>\n",
       "    <tr>\n",
       "      <th>3</th>\n",
       "      <td>3</td>\n",
       "      <td>本文</td>\n",
       "      <td>カムパネルラが手をあげました。</td>\n",
       "      <td>0.506047</td>\n",
       "      <td>0.492473</td>\n",
       "      <td>0.000000</td>\n",
       "      <td>0.000000</td>\n",
       "      <td>NEUTRAL</td>\n",
       "    </tr>\n",
       "    <tr>\n",
       "      <th>4</th>\n",
       "      <td>4</td>\n",
       "      <td>本文</td>\n",
       "      <td>それから四五人手をあげました。</td>\n",
       "      <td>0.414241</td>\n",
       "      <td>0.439764</td>\n",
       "      <td>0.000000</td>\n",
       "      <td>0.000000</td>\n",
       "      <td>NEUTRAL</td>\n",
       "    </tr>\n",
       "  </tbody>\n",
       "</table>\n",
       "</div>"
      ],
      "text/plain": [
       "   Unnamed: 0 type                                               text  \\\n",
       "0           0   本文                                            一、午后の授業   \n",
       "1           1   本文  「ではみなさんは、そういうふうに川だと云われたり、乳の流れたあとだと云われたりしていたこのぼ...   \n",
       "2           2   本文  」先生は、黒板に吊した大きな黒い星座の図の、上から下へ白くけぶった銀河帯のようなところを指し...   \n",
       "3           3   本文                                    カムパネルラが手をあげました。   \n",
       "4           4   本文                                    それから四五人手をあげました。   \n",
       "\n",
       "   logit_value  pred_value  logit_score  pred_score label_name  \n",
       "0     0.723805    0.573173     0.000000    0.000000    NEUTRAL  \n",
       "1     0.983355    0.643631     0.000000    0.000000    NEUTRAL  \n",
       "2     0.698622    0.507899     0.698622    0.507899   POSITIVE  \n",
       "3     0.506047    0.492473     0.000000    0.000000    NEUTRAL  \n",
       "4     0.414241    0.439764     0.000000    0.000000    NEUTRAL  "
      ]
     },
     "execution_count": 7,
     "metadata": {},
     "output_type": "execute_result"
    }
   ],
   "source": [
    "df_ginga = pd.read_csv('data/bert-multilingual-sentiments-base/ginga_score.csv')\n",
    "df_ginga.head()"
   ]
  },
  {
   "cell_type": "code",
   "execution_count": 8,
   "metadata": {},
   "outputs": [],
   "source": [
    "diff = abs(df_ginga[df_ginga['logit_value']<0]['logit_value'].min())\n",
    "if (diff > 0):\n",
    "    print('ok')"
   ]
  },
  {
   "cell_type": "code",
   "execution_count": null,
   "metadata": {},
   "outputs": [],
   "source": []
  }
 ],
 "metadata": {
  "kernelspec": {
   "display_name": "Python 3",
   "language": "python",
   "name": "python3"
  },
  "language_info": {
   "codemirror_mode": {
    "name": "ipython",
    "version": 3
   },
   "file_extension": ".py",
   "mimetype": "text/x-python",
   "name": "python",
   "nbconvert_exporter": "python",
   "pygments_lexer": "ipython3",
   "version": "3.8.10"
  }
 },
 "nbformat": 4,
 "nbformat_minor": 2
}
